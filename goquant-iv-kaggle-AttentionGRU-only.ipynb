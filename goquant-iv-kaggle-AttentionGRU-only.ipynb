{
 "cells": [
  {
   "cell_type": "code",
   "execution_count": 1,
   "id": "19868bbc",
   "metadata": {
    "execution": {
     "iopub.execute_input": "2025-08-29T19:56:19.101989Z",
     "iopub.status.busy": "2025-08-29T19:56:19.101762Z",
     "iopub.status.idle": "2025-08-29T19:56:19.108614Z",
     "shell.execute_reply": "2025-08-29T19:56:19.107907Z"
    },
    "papermill": {
     "duration": 0.017016,
     "end_time": "2025-08-29T19:56:19.109704",
     "exception": false,
     "start_time": "2025-08-29T19:56:19.092688",
     "status": "completed"
    },
    "tags": []
   },
   "outputs": [
    {
     "name": "stdout",
     "output_type": "stream",
     "text": [
      "Checkpoint root: /kaggle/working/checkpoints\n"
     ]
    }
   ],
   "source": [
    "# Auto checkpoint setup\n",
    "import os\n",
    "os.makedirs('checkpoints', exist_ok=True)\n",
    "print('Checkpoint root:', os.path.abspath('checkpoints'))\n"
   ]
  },
  {
   "cell_type": "code",
   "execution_count": null,
   "id": "3c3515a9",
   "metadata": {},
   "outputs": [],
   "source": [
    "\n",
    "# Saving helpers for Kaggle working directory\n",
    "import os, pickle\n",
    "\n",
    "def save_model_artifacts_torch(model, optimizer=None, final_epoch=None):\n",
    "    os.makedirs('/kaggle/working', exist_ok=True)\n",
    "    model_name = model.__class__.__name__\n",
    "    # Save state dict\n",
    "    state_path_work = f'/kaggle/working/{model_name}_final_state.pt'\n",
    "    torch.save({'epoch': final_epoch, 'model': model.state_dict(),\n",
    "                'optimizer': optimizer.state_dict() if optimizer is not None else None},\n",
    "               state_path_work)\n",
    "    # Mirror in current dir for easy download\n",
    "    torch.save({'epoch': final_epoch, 'model': model.state_dict(),\n",
    "                'optimizer': optimizer.state_dict() if optimizer is not None else None},\n",
    "               f'{model_name}_final_state.pt')\n",
    "    # Save full model pickle\n",
    "    was_cuda = next(model.parameters()).is_cuda if any(True for _ in model.parameters()) else False\n",
    "    if was_cuda:\n",
    "        model_cpu = copy.deepcopy(model).cpu()\n",
    "    else:\n",
    "        model_cpu = model\n",
    "    with open(f'/kaggle/working/{model_name}.pkl', 'wb') as f:\n",
    "        pickle.dump(model_cpu, f)\n",
    "    with open(f'{model_name}.pkl', 'wb') as f:\n",
    "        pickle.dump(model_cpu, f)\n",
    "    print(f'Saved final artifacts for {model_name} to /kaggle/working and current directory')\n",
    "\n",
    "def save_model_artifacts_generic(model, name_hint='model'):\n",
    "    # Use joblib if available else pickle\n",
    "    try:\n",
    "        import joblib\n",
    "        dumper = lambda obj, path: joblib.dump(obj, path)\n",
    "    except Exception:\n",
    "        import pickle\n",
    "        dumper = lambda obj, path: open(path, 'wb').write(pickle.dumps(obj))\n",
    "    os.makedirs('/kaggle/working', exist_ok=True)\n",
    "    base = name_hint or model.__class__.__name__\n",
    "    pkl1 = f'/kaggle/working/{base}.pkl'\n",
    "    pkl2 = f'{base}.pkl'\n",
    "    dumper(model, pkl1)\n",
    "    dumper(model, pkl2)\n",
    "    print(f'Saved {base} to {pkl1} and {pkl2}')\n"
   ]
  },
  {
   "cell_type": "markdown",
   "id": "60416a98",
   "metadata": {
    "id": "L0EMDEEM_pBj",
    "papermill": {
     "duration": 0.00621,
     "end_time": "2025-08-29T19:56:19.122649",
     "exception": false,
     "start_time": "2025-08-29T19:56:19.116439",
     "status": "completed"
    },
    "tags": []
   },
   "source": [
    "Import libraries"
   ]
  },
  {
   "cell_type": "code",
   "execution_count": 2,
   "id": "4b56746c",
   "metadata": {
    "execution": {
     "iopub.execute_input": "2025-08-29T19:56:19.136336Z",
     "iopub.status.busy": "2025-08-29T19:56:19.135558Z",
     "iopub.status.idle": "2025-08-29T19:56:30.258608Z",
     "shell.execute_reply": "2025-08-29T19:56:30.257677Z"
    },
    "id": "mlKVo9Hb-C9O",
    "outputId": "890e2f54-c0ca-450b-b3c3-bba215c2e4f2",
    "papermill": {
     "duration": 11.131127,
     "end_time": "2025-08-29T19:56:30.259980",
     "exception": false,
     "start_time": "2025-08-29T19:56:19.128853",
     "status": "completed"
    },
    "tags": []
   },
   "outputs": [
    {
     "name": "stdout",
     "output_type": "stream",
     "text": [
      "Using device: cuda\n"
     ]
    }
   ],
   "source": [
    "# === General Setup ===\n",
    "import os\n",
    "import gc\n",
    "import random\n",
    "import math\n",
    "import time\n",
    "import warnings\n",
    "warnings.filterwarnings(\"ignore\")\n",
    "\n",
    "# === Data Handling ===\n",
    "import numpy as np\n",
    "import pandas as pd\n",
    "\n",
    "# === Visualization ===\n",
    "import matplotlib.pyplot as plt\n",
    "import seaborn as sns\n",
    "\n",
    "# === Machine Learning / Baselines ===\n",
    "from sklearn.model_selection import TimeSeriesSplit\n",
    "from sklearn.preprocessing import StandardScaler, RobustScaler\n",
    "from sklearn.metrics import mean_squared_error, mean_absolute_error\n",
    "\n",
    "import lightgbm as lgb  # for baseline boosting model\n",
    "\n",
    "# === Deep Learning (PyTorch) ===\n",
    "import torch\n",
    "import torch.nn as nn\n",
    "import torch.nn.functional as F\n",
    "from torch.utils.data import Dataset, DataLoader\n",
    "\n",
    "# === Reproducibility ===\n",
    "def set_seed(seed=42):\n",
    "    random.seed(seed)\n",
    "    np.random.seed(seed)\n",
    "    torch.manual_seed(seed)\n",
    "    torch.cuda.manual_seed_all(seed)\n",
    "    torch.backends.cudnn.deterministic = True\n",
    "    torch.backends.cudnn.benchmark = False\n",
    "\n",
    "set_seed(42)\n",
    "\n",
    "# === Check GPU ===\n",
    "device = torch.device(\"cuda\" if torch.cuda.is_available() else \"cpu\")\n",
    "print(\"Using device:\", device)\n"
   ]
  },
  {
   "cell_type": "markdown",
   "id": "ac012248",
   "metadata": {
    "id": "fzuwh-15C15e",
    "papermill": {
     "duration": 0.006167,
     "end_time": "2025-08-29T19:56:30.273790",
     "exception": false,
     "start_time": "2025-08-29T19:56:30.267623",
     "status": "completed"
    },
    "tags": []
   },
   "source": [
    "Data cleaning and fetching"
   ]
  },
  {
   "cell_type": "code",
   "execution_count": 3,
   "id": "8c2b3d41",
   "metadata": {
    "execution": {
     "iopub.execute_input": "2025-08-29T19:56:30.287353Z",
     "iopub.status.busy": "2025-08-29T19:56:30.286802Z",
     "iopub.status.idle": "2025-08-29T19:56:32.982662Z",
     "shell.execute_reply": "2025-08-29T19:56:32.981788Z"
    },
    "id": "JvjMyHE_K0do",
    "outputId": "83f600e9-a268-46c2-fa0f-b7883b002db8",
    "papermill": {
     "duration": 2.703763,
     "end_time": "2025-08-29T19:56:32.983748",
     "exception": false,
     "start_time": "2025-08-29T19:56:30.279985",
     "status": "completed"
    },
    "tags": []
   },
   "outputs": [
    {
     "name": "stdout",
     "output_type": "stream",
     "text": [
      "✅ File loaded successfully.\n",
      "\n",
      "Shape: (631292, 23)\n",
      "\n",
      "Columns:\n",
      " ['timestamp', 'mid_price', 'bid_price1', 'bid_volume1', 'bid_price2', 'bid_volume2', 'bid_price3', 'bid_volume3', 'bid_price4', 'bid_volume4', 'bid_price5', 'bid_volume5', 'ask_price1', 'ask_volume1', 'ask_price2', 'ask_volume2', 'ask_price3', 'ask_volume3', 'ask_price4', 'ask_volume4', 'ask_price5', 'ask_volume5', 'label']\n",
      "\n",
      "Data Types:\n",
      " timestamp       object\n",
      "mid_price      float64\n",
      "bid_price1     float64\n",
      "bid_volume1    float64\n",
      "bid_price2     float64\n",
      "bid_volume2    float64\n",
      "bid_price3     float64\n",
      "bid_volume3    float64\n",
      "bid_price4     float64\n",
      "bid_volume4    float64\n",
      "bid_price5     float64\n",
      "bid_volume5    float64\n",
      "ask_price1     float64\n",
      "ask_volume1    float64\n",
      "ask_price2     float64\n",
      "ask_volume2    float64\n",
      "ask_price3     float64\n",
      "ask_volume3    float64\n",
      "ask_price4     float64\n",
      "ask_volume4    float64\n",
      "ask_price5     float64\n",
      "ask_volume5    float64\n",
      "label          float64\n",
      "dtype: object\n",
      "\n",
      "Memory Usage:\n",
      "<class 'pandas.core.frame.DataFrame'>\n",
      "RangeIndex: 631292 entries, 0 to 631291\n",
      "Data columns (total 23 columns):\n",
      " #   Column       Non-Null Count   Dtype  \n",
      "---  ------       --------------   -----  \n",
      " 0   timestamp    631292 non-null  object \n",
      " 1   mid_price    595862 non-null  float64\n",
      " 2   bid_price1   595862 non-null  float64\n",
      " 3   bid_volume1  595862 non-null  float64\n",
      " 4   bid_price2   595862 non-null  float64\n",
      " 5   bid_volume2  595862 non-null  float64\n",
      " 6   bid_price3   595862 non-null  float64\n",
      " 7   bid_volume3  595862 non-null  float64\n",
      " 8   bid_price4   595862 non-null  float64\n",
      " 9   bid_volume4  595862 non-null  float64\n",
      " 10  bid_price5   595862 non-null  float64\n",
      " 11  bid_volume5  595862 non-null  float64\n",
      " 12  ask_price1   595862 non-null  float64\n",
      " 13  ask_volume1  595862 non-null  float64\n",
      " 14  ask_price2   595862 non-null  float64\n",
      " 15  ask_volume2  595862 non-null  float64\n",
      " 16  ask_price3   595862 non-null  float64\n",
      " 17  ask_volume3  595862 non-null  float64\n",
      " 18  ask_price4   595862 non-null  float64\n",
      " 19  ask_volume4  595862 non-null  float64\n",
      " 20  ask_price5   595862 non-null  float64\n",
      " 21  ask_volume5  595862 non-null  float64\n",
      " 22  label        605938 non-null  float64\n",
      "dtypes: float64(22), object(1)\n",
      "memory usage: 151.7 MB\n",
      "None\n"
     ]
    },
    {
     "data": {
      "text/html": [
       "<div>\n",
       "<style scoped>\n",
       "    .dataframe tbody tr th:only-of-type {\n",
       "        vertical-align: middle;\n",
       "    }\n",
       "\n",
       "    .dataframe tbody tr th {\n",
       "        vertical-align: top;\n",
       "    }\n",
       "\n",
       "    .dataframe thead th {\n",
       "        text-align: right;\n",
       "    }\n",
       "</style>\n",
       "<table border=\"1\" class=\"dataframe\">\n",
       "  <thead>\n",
       "    <tr style=\"text-align: right;\">\n",
       "      <th></th>\n",
       "      <th>timestamp</th>\n",
       "      <th>mid_price</th>\n",
       "      <th>bid_price1</th>\n",
       "      <th>bid_volume1</th>\n",
       "      <th>bid_price2</th>\n",
       "      <th>bid_volume2</th>\n",
       "      <th>bid_price3</th>\n",
       "      <th>bid_volume3</th>\n",
       "      <th>bid_price4</th>\n",
       "      <th>bid_volume4</th>\n",
       "      <th>...</th>\n",
       "      <th>ask_volume1</th>\n",
       "      <th>ask_price2</th>\n",
       "      <th>ask_volume2</th>\n",
       "      <th>ask_price3</th>\n",
       "      <th>ask_volume3</th>\n",
       "      <th>ask_price4</th>\n",
       "      <th>ask_volume4</th>\n",
       "      <th>ask_price5</th>\n",
       "      <th>ask_volume5</th>\n",
       "      <th>label</th>\n",
       "    </tr>\n",
       "  </thead>\n",
       "  <tbody>\n",
       "    <tr>\n",
       "      <th>0</th>\n",
       "      <td>2024-09-25 18:13:28</td>\n",
       "      <td>2581.605</td>\n",
       "      <td>2581.60</td>\n",
       "      <td>2980.3</td>\n",
       "      <td>2581.59</td>\n",
       "      <td>44.8</td>\n",
       "      <td>2581.56</td>\n",
       "      <td>139.1</td>\n",
       "      <td>2581.54</td>\n",
       "      <td>86.3</td>\n",
       "      <td>...</td>\n",
       "      <td>339.0</td>\n",
       "      <td>2581.67</td>\n",
       "      <td>9.2</td>\n",
       "      <td>2581.69</td>\n",
       "      <td>0.2</td>\n",
       "      <td>2581.70</td>\n",
       "      <td>23.4</td>\n",
       "      <td>2581.71</td>\n",
       "      <td>1.2</td>\n",
       "      <td>0.000060</td>\n",
       "    </tr>\n",
       "    <tr>\n",
       "      <th>1</th>\n",
       "      <td>2024-09-25 18:13:29</td>\n",
       "      <td>2581.285</td>\n",
       "      <td>2581.28</td>\n",
       "      <td>1400.6</td>\n",
       "      <td>2581.22</td>\n",
       "      <td>7.8</td>\n",
       "      <td>2581.19</td>\n",
       "      <td>5.0</td>\n",
       "      <td>2581.18</td>\n",
       "      <td>67.1</td>\n",
       "      <td>...</td>\n",
       "      <td>807.2</td>\n",
       "      <td>2581.30</td>\n",
       "      <td>144.4</td>\n",
       "      <td>2581.31</td>\n",
       "      <td>32.0</td>\n",
       "      <td>2581.32</td>\n",
       "      <td>151.0</td>\n",
       "      <td>2581.33</td>\n",
       "      <td>67.1</td>\n",
       "      <td>0.000057</td>\n",
       "    </tr>\n",
       "    <tr>\n",
       "      <th>2</th>\n",
       "      <td>2024-09-25 18:13:30</td>\n",
       "      <td>2581.285</td>\n",
       "      <td>2581.28</td>\n",
       "      <td>875.2</td>\n",
       "      <td>2581.22</td>\n",
       "      <td>7.8</td>\n",
       "      <td>2581.20</td>\n",
       "      <td>64.2</td>\n",
       "      <td>2581.19</td>\n",
       "      <td>5.0</td>\n",
       "      <td>...</td>\n",
       "      <td>807.5</td>\n",
       "      <td>2581.30</td>\n",
       "      <td>144.4</td>\n",
       "      <td>2581.31</td>\n",
       "      <td>32.0</td>\n",
       "      <td>2581.32</td>\n",
       "      <td>151.0</td>\n",
       "      <td>2581.33</td>\n",
       "      <td>52.0</td>\n",
       "      <td>0.000080</td>\n",
       "    </tr>\n",
       "    <tr>\n",
       "      <th>3</th>\n",
       "      <td>2024-09-25 18:13:31</td>\n",
       "      <td>2581.105</td>\n",
       "      <td>2581.10</td>\n",
       "      <td>1980.0</td>\n",
       "      <td>2581.09</td>\n",
       "      <td>508.4</td>\n",
       "      <td>2581.08</td>\n",
       "      <td>0.2</td>\n",
       "      <td>2581.05</td>\n",
       "      <td>18.7</td>\n",
       "      <td>...</td>\n",
       "      <td>833.3</td>\n",
       "      <td>2581.15</td>\n",
       "      <td>171.1</td>\n",
       "      <td>2581.20</td>\n",
       "      <td>60.7</td>\n",
       "      <td>2581.29</td>\n",
       "      <td>123.5</td>\n",
       "      <td>2581.30</td>\n",
       "      <td>104.0</td>\n",
       "      <td>0.000087</td>\n",
       "    </tr>\n",
       "    <tr>\n",
       "      <th>4</th>\n",
       "      <td>2024-09-25 18:13:32</td>\n",
       "      <td>2581.105</td>\n",
       "      <td>2581.10</td>\n",
       "      <td>1995.5</td>\n",
       "      <td>2581.09</td>\n",
       "      <td>508.4</td>\n",
       "      <td>2581.08</td>\n",
       "      <td>0.2</td>\n",
       "      <td>2581.05</td>\n",
       "      <td>18.7</td>\n",
       "      <td>...</td>\n",
       "      <td>717.3</td>\n",
       "      <td>2581.15</td>\n",
       "      <td>132.0</td>\n",
       "      <td>2581.20</td>\n",
       "      <td>60.7</td>\n",
       "      <td>2581.29</td>\n",
       "      <td>69.2</td>\n",
       "      <td>2581.30</td>\n",
       "      <td>242.9</td>\n",
       "      <td>0.000090</td>\n",
       "    </tr>\n",
       "  </tbody>\n",
       "</table>\n",
       "<p>5 rows × 23 columns</p>\n",
       "</div>"
      ],
      "text/plain": [
       "             timestamp  mid_price  bid_price1  bid_volume1  bid_price2  \\\n",
       "0  2024-09-25 18:13:28   2581.605     2581.60       2980.3     2581.59   \n",
       "1  2024-09-25 18:13:29   2581.285     2581.28       1400.6     2581.22   \n",
       "2  2024-09-25 18:13:30   2581.285     2581.28        875.2     2581.22   \n",
       "3  2024-09-25 18:13:31   2581.105     2581.10       1980.0     2581.09   \n",
       "4  2024-09-25 18:13:32   2581.105     2581.10       1995.5     2581.09   \n",
       "\n",
       "   bid_volume2  bid_price3  bid_volume3  bid_price4  bid_volume4  ...  \\\n",
       "0         44.8     2581.56        139.1     2581.54         86.3  ...   \n",
       "1          7.8     2581.19          5.0     2581.18         67.1  ...   \n",
       "2          7.8     2581.20         64.2     2581.19          5.0  ...   \n",
       "3        508.4     2581.08          0.2     2581.05         18.7  ...   \n",
       "4        508.4     2581.08          0.2     2581.05         18.7  ...   \n",
       "\n",
       "   ask_volume1  ask_price2  ask_volume2  ask_price3  ask_volume3  ask_price4  \\\n",
       "0        339.0     2581.67          9.2     2581.69          0.2     2581.70   \n",
       "1        807.2     2581.30        144.4     2581.31         32.0     2581.32   \n",
       "2        807.5     2581.30        144.4     2581.31         32.0     2581.32   \n",
       "3        833.3     2581.15        171.1     2581.20         60.7     2581.29   \n",
       "4        717.3     2581.15        132.0     2581.20         60.7     2581.29   \n",
       "\n",
       "   ask_volume4  ask_price5  ask_volume5     label  \n",
       "0         23.4     2581.71          1.2  0.000060  \n",
       "1        151.0     2581.33         67.1  0.000057  \n",
       "2        151.0     2581.33         52.0  0.000080  \n",
       "3        123.5     2581.30        104.0  0.000087  \n",
       "4         69.2     2581.30        242.9  0.000090  \n",
       "\n",
       "[5 rows x 23 columns]"
      ]
     },
     "execution_count": 3,
     "metadata": {},
     "output_type": "execute_result"
    }
   ],
   "source": [
    "# === Mount Google Drive ===\n",
    "#from google.colab import drive\n",
    "#drive.mount('/content/drive')\n",
    "\n",
    "# === Set file path ===\n",
    "data_path = '/kaggle/input/gq-implied-volatility-forecasting/train/ETH.csv'\n",
    "\n",
    "# === Load ETH.csv ===\n",
    "import pandas as pd\n",
    "\n",
    "df = pd.read_csv(data_path)\n",
    "\n",
    "# === Display basic info ===\n",
    "print(\"✅ File loaded successfully.\\n\")\n",
    "print(\"Shape:\", df.shape)\n",
    "print(\"\\nColumns:\\n\", df.columns.tolist())\n",
    "print(\"\\nData Types:\\n\", df.dtypes)\n",
    "print(\"\\nMemory Usage:\")\n",
    "print(df.info(memory_usage='deep'))\n",
    "\n",
    "# === Preview first few rows ===\n",
    "df.head()\n"
   ]
  },
  {
   "cell_type": "markdown",
   "id": "ed85b5c2",
   "metadata": {
    "id": "9tIGOYFhRR1B",
    "papermill": {
     "duration": 0.006657,
     "end_time": "2025-08-29T19:56:32.997460",
     "exception": false,
     "start_time": "2025-08-29T19:56:32.990803",
     "status": "completed"
    },
    "tags": []
   },
   "source": [
    "Timestamp check"
   ]
  },
  {
   "cell_type": "code",
   "execution_count": 4,
   "id": "a7b5b23e",
   "metadata": {
    "execution": {
     "iopub.execute_input": "2025-08-29T19:56:33.011511Z",
     "iopub.status.busy": "2025-08-29T19:56:33.011276Z",
     "iopub.status.idle": "2025-08-29T19:56:33.185499Z",
     "shell.execute_reply": "2025-08-29T19:56:33.184621Z"
    },
    "id": "s35kBi_4RTbj",
    "outputId": "c4705b7f-294f-403d-b3cc-f710a17bd87e",
    "papermill": {
     "duration": 0.182662,
     "end_time": "2025-08-29T19:56:33.186610",
     "exception": false,
     "start_time": "2025-08-29T19:56:33.003948",
     "status": "completed"
    },
    "tags": []
   },
   "outputs": [
    {
     "name": "stdout",
     "output_type": "stream",
     "text": [
      "✅ Timestamps sorted chronologically? True\n",
      "🔁 Duplicate timestamps found: 0\n",
      "⏳ Missing timestamps (1-second gaps): 0\n",
      "\n",
      "🕒 Time Range Summary:\n",
      "Start: 2024-09-25 18:13:28+00:00\n",
      "End  : 2024-10-03 01:34:59+00:00\n",
      "Expected Rows: 631292\n",
      "Actual Rows  : 631292\n"
     ]
    }
   ],
   "source": [
    "# === Step 2.2: Timestamp Sanity Checks ===\n",
    "\n",
    "# 1. Convert to datetime\n",
    "df['timestamp'] = pd.to_datetime(df['timestamp'], utc=True)\n",
    "\n",
    "# 2. Check if timestamps are sorted\n",
    "is_sorted = df['timestamp'].is_monotonic_increasing\n",
    "print(\"✅ Timestamps sorted chronologically?\" , is_sorted)\n",
    "\n",
    "# 3. Check for duplicate timestamps\n",
    "duplicate_count = df['timestamp'].duplicated().sum()\n",
    "print(\"🔁 Duplicate timestamps found:\", duplicate_count)\n",
    "\n",
    "# 4. Check for missing seconds\n",
    "expected_range = pd.date_range(start=df['timestamp'].min(), end=df['timestamp'].max(), freq='1S')\n",
    "missing_timestamps = expected_range.difference(df['timestamp'])\n",
    "print(\"⏳ Missing timestamps (1-second gaps):\", len(missing_timestamps))\n",
    "\n",
    "# 5. Log time range\n",
    "print(\"\\n🕒 Time Range Summary:\")\n",
    "print(\"Start:\", df['timestamp'].min())\n",
    "print(\"End  :\", df['timestamp'].max())\n",
    "print(\"Expected Rows:\", len(expected_range))\n",
    "print(\"Actual Rows  :\", len(df))\n"
   ]
  },
  {
   "cell_type": "markdown",
   "id": "35ddc3de",
   "metadata": {
    "id": "DqYJtKFkRXfu",
    "papermill": {
     "duration": 0.006511,
     "end_time": "2025-08-29T19:56:33.200077",
     "exception": false,
     "start_time": "2025-08-29T19:56:33.193566",
     "status": "completed"
    },
    "tags": []
   },
   "source": [
    "Orderbook validity check"
   ]
  },
  {
   "cell_type": "code",
   "execution_count": 5,
   "id": "2e1d3150",
   "metadata": {
    "execution": {
     "iopub.execute_input": "2025-08-29T19:56:33.214662Z",
     "iopub.status.busy": "2025-08-29T19:56:33.213960Z",
     "iopub.status.idle": "2025-08-29T19:56:33.287169Z",
     "shell.execute_reply": "2025-08-29T19:56:33.286258Z"
    },
    "id": "uhstr_6GRXtN",
    "outputId": "9872b3ae-cc17-4765-ce3f-570f45dcdd17",
    "papermill": {
     "duration": 0.081814,
     "end_time": "2025-08-29T19:56:33.288427",
     "exception": false,
     "start_time": "2025-08-29T19:56:33.206613",
     "status": "completed"
    },
    "tags": []
   },
   "outputs": [
    {
     "name": "stdout",
     "output_type": "stream",
     "text": [
      "🔻 Bid price order violations: 1\n",
      "🔺 Ask price order violations: 1\n",
      "🔒 Locked book rows: 0\n",
      "❌ Crossed book rows: 0\n",
      "🚫 Rows with negative volume: 1\n",
      "⚠️ Rows with zero volume at best bid/ask: 0\n"
     ]
    }
   ],
   "source": [
    "# === Step 2.3: Order Book Ladder Validity ===\n",
    "\n",
    "# 1. Check bid price order: bid_price1 ≥ bid_price2 ≥ ... ≥ bid_price5\n",
    "bid_price_cols = ['bid_price1', 'bid_price2', 'bid_price3', 'bid_price4', 'bid_price5']\n",
    "bid_order_violations = (df[bid_price_cols].diff(axis=1).iloc[:, 1:] > 0).any(axis=1)\n",
    "print(\"🔻 Bid price order violations:\", bid_order_violations.sum())\n",
    "\n",
    "# 2. Check ask price order: ask_price1 ≤ ask_price2 ≤ ... ≤ ask_price5\n",
    "ask_price_cols = ['ask_price1', 'ask_price2', 'ask_price3', 'ask_price4', 'ask_price5']\n",
    "ask_order_violations = (df[ask_price_cols].diff(axis=1).iloc[:, 1:] < 0).any(axis=1)\n",
    "print(\"🔺 Ask price order violations:\", ask_order_violations.sum())\n",
    "\n",
    "# 3. Check locked and crossed books\n",
    "locked_books = (df['ask_price1'] == df['bid_price1'])\n",
    "crossed_books = (df['ask_price1'] < df['bid_price1'])\n",
    "print(\"🔒 Locked book rows:\", locked_books.sum())\n",
    "print(\"❌ Crossed book rows:\", crossed_books.sum())\n",
    "\n",
    "# 4. Check for negative volumes\n",
    "volume_cols = [col for col in df.columns if 'volume' in col]\n",
    "negative_volumes = (df[volume_cols] < 0).any(axis=1)\n",
    "print(\"🚫 Rows with negative volume:\", negative_volumes.sum())\n",
    "\n",
    "# (Optional) Count rows with 0 at best bid/ask volumes\n",
    "zero_best_vol = ((df['bid_volume1'] == 0) | (df['ask_volume1'] == 0))\n",
    "print(\"⚠️ Rows with zero volume at best bid/ask:\", zero_best_vol.sum())\n"
   ]
  },
  {
   "cell_type": "markdown",
   "id": "6668c641",
   "metadata": {
    "id": "rSND5cXISfYb",
    "papermill": {
     "duration": 0.006554,
     "end_time": "2025-08-29T19:56:33.301947",
     "exception": false,
     "start_time": "2025-08-29T19:56:33.295393",
     "status": "completed"
    },
    "tags": []
   },
   "source": [
    "Mid price and spread checks"
   ]
  },
  {
   "cell_type": "code",
   "execution_count": 6,
   "id": "a6e59fdc",
   "metadata": {
    "execution": {
     "iopub.execute_input": "2025-08-29T19:56:33.316171Z",
     "iopub.status.busy": "2025-08-29T19:56:33.315615Z",
     "iopub.status.idle": "2025-08-29T19:56:33.426609Z",
     "shell.execute_reply": "2025-08-29T19:56:33.425747Z"
    },
    "id": "riWbw7HtSgu4",
    "outputId": "4705efa2-bcee-4b3c-a5d2-0c7e1a5d5526",
    "papermill": {
     "duration": 0.119465,
     "end_time": "2025-08-29T19:56:33.427920",
     "exception": false,
     "start_time": "2025-08-29T19:56:33.308455",
     "status": "completed"
    },
    "tags": []
   },
   "outputs": [
    {
     "name": "stdout",
     "output_type": "stream",
     "text": [
      "🧮 Mid-price deviation > 0.02: 1 rows\n",
      "\n",
      "📊 Spread Summary Stats:\n",
      "count    5.958620e+05\n",
      "mean     8.375769e+33\n",
      "std      6.465432e+36\n",
      "min      1.000000e-02\n",
      "25%      1.000000e-02\n",
      "50%      1.000000e-02\n",
      "75%      1.000000e-02\n",
      "max      4.990803e+39\n",
      "Name: spread, dtype: float64\n",
      "\n",
      "📊 Relative Spread Summary Stats:\n",
      "count    595862.000000\n",
      "mean          0.000007\n",
      "std           0.002591\n",
      "min           0.000004\n",
      "25%           0.000004\n",
      "50%           0.000004\n",
      "75%           0.000004\n",
      "max           2.000000\n",
      "Name: rel_spread, dtype: float64\n",
      "🚨 Extreme spreads > 0.0200: 515 rows\n"
     ]
    }
   ],
   "source": [
    "# === Step 2.4: Mid-Price and Spread Consistency Checks ===\n",
    "\n",
    "# 1. Compute expected mid-price\n",
    "df['mid_expected'] = (df['bid_price1'] + df['ask_price1']) / 2\n",
    "\n",
    "# 2. Calculate absolute and relative error from reported mid_price\n",
    "df['mid_abs_error'] = np.abs(df['mid_price'] - df['mid_expected'])\n",
    "df['mid_rel_error'] = df['mid_abs_error'] / df['mid_expected']\n",
    "\n",
    "# 3. Define mid-price error threshold (tick size ~ $0.01 or $0.02)\n",
    "mid_error_threshold = 0.02\n",
    "mid_error_violations = df['mid_abs_error'] > mid_error_threshold\n",
    "print(f\"🧮 Mid-price deviation > {mid_error_threshold}: {mid_error_violations.sum()} rows\")\n",
    "\n",
    "# 4. Compute spread and relative spread\n",
    "df['spread'] = df['ask_price1'] - df['bid_price1']\n",
    "df['rel_spread'] = df['spread'] / df['mid_expected']\n",
    "\n",
    "# 5. Describe spread stats\n",
    "print(\"\\n📊 Spread Summary Stats:\")\n",
    "print(df['spread'].describe())\n",
    "print(\"\\n📊 Relative Spread Summary Stats:\")\n",
    "print(df['rel_spread'].describe())\n",
    "\n",
    "# 6. Identify extreme spreads (e.g., top 0.1% outliers)\n",
    "spread_threshold = df['spread'].quantile(0.999)\n",
    "extreme_spread_rows = df['spread'] > spread_threshold\n",
    "print(f\"🚨 Extreme spreads > {spread_threshold:.4f}: {extreme_spread_rows.sum()} rows\")\n",
    "\n",
    "# 7. Save key error columns for later filtering\n",
    "cols_to_keep = ['timestamp', 'mid_price', 'mid_expected', 'mid_abs_error', 'spread', 'rel_spread']\n",
    "df_check = df[cols_to_keep].copy()\n"
   ]
  },
  {
   "cell_type": "markdown",
   "id": "00360db1",
   "metadata": {
    "id": "EQ92f9kXTMb6",
    "papermill": {
     "duration": 0.006639,
     "end_time": "2025-08-29T19:56:33.441809",
     "exception": false,
     "start_time": "2025-08-29T19:56:33.435170",
     "status": "completed"
    },
    "tags": []
   },
   "source": [
    "Depth and imbalance checks"
   ]
  },
  {
   "cell_type": "code",
   "execution_count": 7,
   "id": "f6360d63",
   "metadata": {
    "execution": {
     "iopub.execute_input": "2025-08-29T19:56:33.456365Z",
     "iopub.status.busy": "2025-08-29T19:56:33.455708Z",
     "iopub.status.idle": "2025-08-29T19:56:34.073306Z",
     "shell.execute_reply": "2025-08-29T19:56:34.072521Z"
    },
    "id": "zuDZLn77TMqO",
    "outputId": "d819a7d5-e270-47a0-d744-ec42a2c62168",
    "papermill": {
     "duration": 0.62601,
     "end_time": "2025-08-29T19:56:34.074482",
     "exception": false,
     "start_time": "2025-08-29T19:56:33.448472",
     "status": "completed"
    },
    "tags": []
   },
   "outputs": [
    {
     "name": "stdout",
     "output_type": "stream",
     "text": [
      "\n",
      "📊 Imbalance Summary Stats:\n",
      "count    595862.000000\n",
      "mean         -0.000797\n",
      "std           0.601713\n",
      "min          -1.000000\n",
      "25%          -0.528699\n",
      "50%          -0.002169\n",
      "75%           0.528057\n",
      "max           0.999803\n",
      "Name: imbalance, dtype: float64\n"
     ]
    },
    {
     "data": {
      "image/png": "[encoded data removed]",
      "text/plain": [
       "<Figure size 800x400 with 1 Axes>"
      ]
     },
     "metadata": {},
     "output_type": "display_data"
    },
    {
     "name": "stdout",
     "output_type": "stream",
     "text": [
      "\n",
      "❗ Zero total depth (bid or ask): 35430\n",
      "❗ Imbalance = ±1 (fully one-sided books): 1\n"
     ]
    }
   ],
   "source": [
    "# === Step 2.5: Depth and Imbalance Checks ===\n",
    "\n",
    "# 1. Compute total depth on each side\n",
    "df['bid_depth'] = df[[f'bid_volume{i}' for i in range(1, 6)]].sum(axis=1)\n",
    "df['ask_depth'] = df[[f'ask_volume{i}' for i in range(1, 6)]].sum(axis=1)\n",
    "\n",
    "# 2. Compute imbalance: (bid - ask) / (bid + ask)\n",
    "df['imbalance'] = (df['bid_depth'] - df['ask_depth']) / (df['bid_depth'] + df['ask_depth'])\n",
    "\n",
    "# 3. Basic stats on imbalance\n",
    "print(\"\\n📊 Imbalance Summary Stats:\")\n",
    "print(df['imbalance'].describe())\n",
    "\n",
    "# 4. Plot imbalance distribution\n",
    "import matplotlib.pyplot as plt\n",
    "plt.figure(figsize=(8,4))\n",
    "df['imbalance'].hist(bins=100)\n",
    "plt.title(\"Order Book Imbalance Distribution\")\n",
    "plt.xlabel(\"Imbalance\")\n",
    "plt.ylabel(\"Frequency\")\n",
    "plt.grid(True)\n",
    "plt.show()\n",
    "\n",
    "# 5. Detect anomalies\n",
    "zero_depth_rows = ((df['bid_depth'] == 0) | (df['ask_depth'] == 0))\n",
    "extreme_imbalance_rows = df['imbalance'].abs() == 1\n",
    "\n",
    "print(\"\\n❗ Zero total depth (bid or ask):\", zero_depth_rows.sum())\n",
    "print(\"❗ Imbalance = ±1 (fully one-sided books):\", extreme_imbalance_rows.sum())\n"
   ]
  },
  {
   "cell_type": "markdown",
   "id": "50e5b125",
   "metadata": {
    "id": "hk0iPsxgTiVe",
    "papermill": {
     "duration": 0.007087,
     "end_time": "2025-08-29T19:56:34.089571",
     "exception": false,
     "start_time": "2025-08-29T19:56:34.082484",
     "status": "completed"
    },
    "tags": []
   },
   "source": [
    "Microstructure Activity analysis"
   ]
  },
  {
   "cell_type": "code",
   "execution_count": 8,
   "id": "1f32a9ef",
   "metadata": {
    "execution": {
     "iopub.execute_input": "2025-08-29T19:56:34.104747Z",
     "iopub.status.busy": "2025-08-29T19:56:34.104522Z",
     "iopub.status.idle": "2025-08-29T19:56:34.367602Z",
     "shell.execute_reply": "2025-08-29T19:56:34.366907Z"
    },
    "id": "hD8aE_6CTidE",
    "outputId": "103b539c-0185-4498-c58c-d2593944e305",
    "papermill": {
     "duration": 0.272035,
     "end_time": "2025-08-29T19:56:34.368710",
     "exception": false,
     "start_time": "2025-08-29T19:56:34.096675",
     "status": "completed"
    },
    "tags": []
   },
   "outputs": [
    {
     "data": {
      "image/png": "[encoded data removed]",
      "text/plain": [
       "<Figure size 1200x400 with 1 Axes>"
      ]
     },
     "metadata": {},
     "output_type": "display_data"
    },
    {
     "name": "stdout",
     "output_type": "stream",
     "text": [
      "\n",
      "📊 Quote Update Summary:\n",
      "Total rows: 631292\n",
      "Rows with price update: 259243\n",
      "Rows with volume-only update: 371759\n"
     ]
    }
   ],
   "source": [
    "# === Step 2.6: Microstructure Activity Analysis ===\n",
    "\n",
    "# 1. Identify price changes at top of book\n",
    "df['bid_price1_change'] = df['bid_price1'].diff() != 0\n",
    "df['ask_price1_change'] = df['ask_price1'].diff() != 0\n",
    "df['price_update'] = df['bid_price1_change'] | df['ask_price1_change']\n",
    "\n",
    "# 2. Identify volume-only changes (price same but volume changed)\n",
    "df['bid_volume1_change'] = df['bid_volume1'].diff() != 0\n",
    "df['ask_volume1_change'] = df['ask_volume1'].diff() != 0\n",
    "df['volume_only_update'] = ~df['price_update'] & (df['bid_volume1_change'] | df['ask_volume1_change'])\n",
    "\n",
    "# 3. Group by minute and count updates\n",
    "df['minute'] = df['timestamp'].dt.floor('min')\n",
    "activity_per_min = df.groupby('minute').agg({\n",
    "    'price_update': 'sum',\n",
    "    'volume_only_update': 'sum'\n",
    "}).rename(columns={\n",
    "    'price_update': 'price_updates_per_min',\n",
    "    'volume_only_update': 'volume_only_updates_per_min'\n",
    "})\n",
    "activity_per_min['total_updates'] = activity_per_min.sum(axis=1)\n",
    "\n",
    "# 4. Plot total update rate over time\n",
    "plt.figure(figsize=(12,4))\n",
    "activity_per_min['total_updates'].plot()\n",
    "plt.title(\"Total Quote Updates per Minute\")\n",
    "plt.xlabel(\"Time (Minute)\")\n",
    "plt.ylabel(\"Update Count\")\n",
    "plt.grid(True)\n",
    "plt.tight_layout()\n",
    "plt.show()\n",
    "\n",
    "# 5. Summary\n",
    "print(\"\\n📊 Quote Update Summary:\")\n",
    "print(\"Total rows:\", len(df))\n",
    "print(\"Rows with price update:\", df['price_update'].sum())\n",
    "print(\"Rows with volume-only update:\", df['volume_only_update'].sum())\n"
   ]
  },
  {
   "cell_type": "markdown",
   "id": "6968f1d5",
   "metadata": {
    "id": "YabYGI8sT52M",
    "papermill": {
     "duration": 0.008441,
     "end_time": "2025-08-29T19:56:34.385845",
     "exception": false,
     "start_time": "2025-08-29T19:56:34.377404",
     "status": "completed"
    },
    "tags": []
   },
   "source": [
    "Return and volatility analysis"
   ]
  },
  {
   "cell_type": "code",
   "execution_count": 9,
   "id": "931c2c02",
   "metadata": {
    "execution": {
     "iopub.execute_input": "2025-08-29T19:56:34.403137Z",
     "iopub.status.busy": "2025-08-29T19:56:34.402890Z",
     "iopub.status.idle": "2025-08-29T19:56:35.123573Z",
     "shell.execute_reply": "2025-08-29T19:56:35.122797Z"
    },
    "id": "8mVE2V8TT5-X",
    "outputId": "8fa2f0a5-8be0-41fa-e36b-f392688919ae",
    "papermill": {
     "duration": 0.731115,
     "end_time": "2025-08-29T19:56:35.125130",
     "exception": false,
     "start_time": "2025-08-29T19:56:34.394015",
     "status": "completed"
    },
    "tags": []
   },
   "outputs": [
    {
     "data": {
      "image/png": "[encoded data removed]",
      "text/plain": [
       "<Figure size 800x400 with 1 Axes>"
      ]
     },
     "metadata": {},
     "output_type": "display_data"
    },
    {
     "data": {
      "image/png": "[encoded data removed]",
      "text/plain": [
       "<Figure size 1200x400 with 1 Axes>"
      ]
     },
     "metadata": {},
     "output_type": "display_data"
    }
   ],
   "source": [
    "import numpy as np\n",
    "\n",
    "# 1. Ensure timestamp is datetime\n",
    "df['timestamp'] = pd.to_datetime(df['timestamp'])\n",
    "\n",
    "# 2. Sort (safety check)\n",
    "df = df.sort_values('timestamp')\n",
    "\n",
    "# 3. Calculate log returns using mid_price\n",
    "df['log_return'] = np.log(df['mid_price']) - np.log(df['mid_price'].shift(1))\n",
    "\n",
    "# 4. Plot return histogram\n",
    "plt.figure(figsize=(8,4))\n",
    "df['log_return'].dropna().hist(bins=100)\n",
    "plt.title(\"1-Second Log Return Distribution\")\n",
    "plt.xlabel(\"Log Return\")\n",
    "plt.ylabel(\"Frequency\")\n",
    "plt.grid(True)\n",
    "plt.tight_layout()\n",
    "plt.show()\n",
    "\n",
    "# 5. Calculate rolling volatility (1-minute window = 60s)\n",
    "df['rolling_volatility'] = df['log_return'].rolling(window=60).std()\n",
    "\n",
    "# 6. Plot rolling volatility\n",
    "plt.figure(figsize=(12,4))\n",
    "df['rolling_volatility'].plot()\n",
    "plt.title(\"Rolling Volatility (1-minute std of log returns)\")\n",
    "plt.xlabel(\"Time\")\n",
    "plt.ylabel(\"Volatility\")\n",
    "plt.grid(True)\n",
    "plt.tight_layout()\n",
    "plt.show()\n"
   ]
  },
  {
   "cell_type": "markdown",
   "id": "3241cb8c",
   "metadata": {
    "id": "t53KwOaQ_RPp",
    "papermill": {
     "duration": 0.009968,
     "end_time": "2025-08-29T19:56:35.145957",
     "exception": false,
     "start_time": "2025-08-29T19:56:35.135989",
     "status": "completed"
    },
    "tags": []
   },
   "source": [
    "Train test split"
   ]
  },
  {
   "cell_type": "code",
   "execution_count": 10,
   "id": "62935480",
   "metadata": {
    "execution": {
     "iopub.execute_input": "2025-08-29T19:56:35.167041Z",
     "iopub.status.busy": "2025-08-29T19:56:35.166443Z",
     "iopub.status.idle": "2025-08-29T19:56:37.437938Z",
     "shell.execute_reply": "2025-08-29T19:56:37.436981Z"
    },
    "id": "SxrGo40V_SZs",
    "outputId": "1c38d678-3f3f-4e3e-fc1c-b384244d1360",
    "papermill": {
     "duration": 2.283306,
     "end_time": "2025-08-29T19:56:37.439218",
     "exception": false,
     "start_time": "2025-08-29T19:56:35.155912",
     "status": "completed"
    },
    "tags": []
   },
   "outputs": [
    {
     "name": "stdout",
     "output_type": "stream",
     "text": [
      "✅ Files loaded successfully!\n",
      "\n",
      "📘 Training File: ETH.csv\n",
      "➡ Shape: (631292, 23)\n",
      "\n",
      "📗 Test File: ETH (1).csv\n",
      "➡ Shape: (270548, 22)\n"
     ]
    }
   ],
   "source": [
    "import pandas as pd\n",
    "\n",
    "# Define paths\n",
    "train_path = \"/kaggle/input/gq-implied-volatility-forecasting/train/ETH.csv\"\n",
    "test_path = \"/kaggle/input/gq-implied-volatility-forecasting/test/ETH.csv\"\n",
    "\n",
    "# Load both files\n",
    "df_train = pd.read_csv(train_path)\n",
    "df_test = pd.read_csv(test_path)\n",
    "\n",
    "# Print confirmation\n",
    "print(\"✅ Files loaded successfully!\\n\")\n",
    "\n",
    "print(\"📘 Training File: ETH.csv\")\n",
    "print(f\"➡ Shape: {df_train.shape}\\n\")\n",
    "\n",
    "print(\"📗 Test File: ETH (1).csv\")\n",
    "print(f\"➡ Shape: {df_test.shape}\")\n"
   ]
  },
  {
   "cell_type": "markdown",
   "id": "5ed565aa",
   "metadata": {
    "id": "8iT8pv1JB_Ju",
    "papermill": {
     "duration": 0.010051,
     "end_time": "2025-08-29T19:56:37.500111",
     "exception": false,
     "start_time": "2025-08-29T19:56:37.490060",
     "status": "completed"
    },
    "tags": []
   },
   "source": [
    "Label checks and feature normalisation"
   ]
  },
  {
   "cell_type": "code",
   "execution_count": 11,
   "id": "0c30b035",
   "metadata": {
    "execution": {
     "iopub.execute_input": "2025-08-29T19:56:37.521521Z",
     "iopub.status.busy": "2025-08-29T19:56:37.521204Z",
     "iopub.status.idle": "2025-08-29T19:56:38.057428Z",
     "shell.execute_reply": "2025-08-29T19:56:38.056683Z"
    },
    "id": "ICbYLiluCEPs",
    "outputId": "3e67d264-1de6-42a6-92ac-be039292440f",
    "papermill": {
     "duration": 0.548463,
     "end_time": "2025-08-29T19:56:38.058522",
     "exception": false,
     "start_time": "2025-08-29T19:56:37.510059",
     "status": "completed"
    },
    "tags": []
   },
   "outputs": [
    {
     "name": "stdout",
     "output_type": "stream",
     "text": [
      "\n",
      "🔍 Verifying label alignment with mid_price shift...\n",
      "🕒 Unique time gaps between rows (expected: 1s):\n",
      "timestamp\n",
      "0 days 00:00:01    631291\n",
      "Name: count, dtype: int64\n",
      "\n",
      "📏 Label vs. mid_price_t+10 diff stats:\n",
      "count    5.957410e+05\n",
      "mean     4.188735e+33\n",
      "std      3.233044e+36\n",
      "min      2.352225e+03\n",
      "25%      2.582815e+03\n",
      "50%      2.635145e+03\n",
      "75%      2.664755e+03\n",
      "max      2.495401e+39\n",
      "Name: label_diff, dtype: float64\n",
      "\n",
      "🔍 Sample rows with label vs mid_price_t+10:\n",
      "    mid_price  mid_price_t+10     label   label_diff\n",
      "0    2581.605        2581.455  0.000060  2581.454940\n",
      "1    2581.285        2582.045  0.000057  2582.044943\n",
      "2    2581.285        2581.835  0.000080  2581.834920\n",
      "3    2581.105        2581.605  0.000087  2581.604913\n",
      "4    2581.105        2581.505  0.000090  2581.504910\n",
      "5    2581.275        2581.505  0.000091  2581.504909\n",
      "6    2581.275        2581.505  0.000090  2581.504910\n",
      "7    2581.455        2581.455  0.000090  2581.454910\n",
      "8    2581.455        2581.445  0.000087  2581.444913\n",
      "9    2581.455        2581.265  0.000087  2581.264913\n",
      "10   2581.455        2581.115  0.000090  2581.114910\n",
      "11   2582.045        2581.115  0.000091  2581.114909\n",
      "12   2581.835        2581.115  0.000036  2581.114964\n",
      "13   2581.605             NaN  0.000034          NaN\n",
      "14   2581.505        2581.115  0.000028  2581.114972\n",
      "\n",
      "🧹 Dropping rows with any missing values...\n",
      "✅ Dropped 45469 rows (remaining: 585823)\n",
      "\n",
      "⚙️ Standardizing features...\n",
      "✅ Features normalized successfully.\n"
     ]
    }
   ],
   "source": [
    "import numpy as np\n",
    "from sklearn.preprocessing import StandardScaler\n",
    "\n",
    "# Step 3.2 — Check for proper label alignment\n",
    "print(\"\\n🔍 Verifying label alignment with mid_price shift...\")\n",
    "\n",
    "df_train['timestamp'] = pd.to_datetime(df_train['timestamp'])\n",
    "\n",
    "# Check time difference between rows\n",
    "row_time_diffs = df_train['timestamp'].diff().value_counts()\n",
    "print(\"🕒 Unique time gaps between rows (expected: 1s):\")\n",
    "print(row_time_diffs.head())\n",
    "\n",
    "# Inspect if label corresponds to mid_price 10 seconds ahead\n",
    "# We'll shift mid_price by -10 steps (10s forward)\n",
    "df_train['mid_price_t+10'] = df_train['mid_price'].shift(-10)\n",
    "df_train['label_diff'] = np.abs(df_train['mid_price_t+10'] - df_train['label'])\n",
    "\n",
    "print(\"\\n📏 Label vs. mid_price_t+10 diff stats:\")\n",
    "print(df_train['label_diff'].describe())\n",
    "\n",
    "# Optional: Display a few sample rows to verify visually\n",
    "print(\"\\n🔍 Sample rows with label vs mid_price_t+10:\")\n",
    "print(df_train[['mid_price', 'mid_price_t+10', 'label', 'label_diff']].head(15))\n",
    "\n",
    "# Step 3.3 — Drop rows with NaNs\n",
    "print(\"\\n🧹 Dropping rows with any missing values...\")\n",
    "before_drop = df_train.shape[0]\n",
    "df_train.dropna(inplace=True)\n",
    "after_drop = df_train.shape[0]\n",
    "print(f\"✅ Dropped {before_drop - after_drop} rows (remaining: {after_drop})\")\n",
    "\n",
    "# Step 3.4 — Normalize features for GRU/LSTM\n",
    "print(\"\\n⚙️ Standardizing features...\")\n",
    "\n",
    "# Define feature columns (excluding timestamp, label, and any engineered columns)\n",
    "feature_cols = [col for col in df_train.columns\n",
    "                if col not in ['timestamp', 'label', 'mid_price_t+10', 'label_diff']]\n",
    "\n",
    "scaler = StandardScaler()\n",
    "df_train[feature_cols] = scaler.fit_transform(df_train[feature_cols])\n",
    "\n",
    "print(\"✅ Features normalized successfully.\")\n"
   ]
  },
  {
   "cell_type": "markdown",
   "id": "da6318f4",
   "metadata": {
    "id": "j_wPR_5UCvSn",
    "papermill": {
     "duration": 0.010147,
     "end_time": "2025-08-29T19:56:38.079871",
     "exception": false,
     "start_time": "2025-08-29T19:56:38.069724",
     "status": "completed"
    },
    "tags": []
   },
   "source": [
    "Evaluation metric functions"
   ]
  },
  {
   "cell_type": "code",
   "execution_count": 12,
   "id": "c8ffb574",
   "metadata": {
    "execution": {
     "iopub.execute_input": "2025-08-29T19:56:38.101048Z",
     "iopub.status.busy": "2025-08-29T19:56:38.100849Z",
     "iopub.status.idle": "2025-08-29T19:56:38.106096Z",
     "shell.execute_reply": "2025-08-29T19:56:38.105582Z"
    },
    "id": "C5VtK4MrCw-N",
    "papermill": {
     "duration": 0.017089,
     "end_time": "2025-08-29T19:56:38.107143",
     "exception": false,
     "start_time": "2025-08-29T19:56:38.090054",
     "status": "completed"
    },
    "tags": []
   },
   "outputs": [],
   "source": [
    "from sklearn.metrics import mean_squared_error, mean_absolute_error\n",
    "import numpy as np\n",
    "\n",
    "def evaluate_model(y_true, y_pred):\n",
    "    \"\"\"\n",
    "    Computes key regression evaluation metrics.\n",
    "    \"\"\"\n",
    "    mse = mean_squared_error(y_true, y_pred)\n",
    "    rmse = np.sqrt(mse)\n",
    "    mae = mean_absolute_error(y_true, y_pred)\n",
    "\n",
    "    # Optional: Directional accuracy\n",
    "    direction_true = np.sign(np.diff(y_true))\n",
    "    direction_pred = np.sign(np.diff(y_pred))\n",
    "    directional_accuracy = np.mean(direction_true == direction_pred) * 100\n",
    "\n",
    "    print(f\"📊 Evaluation Metrics:\")\n",
    "    print(f\"🔹 MSE  : {mse:.6f}\")\n",
    "    print(f\"🔹 RMSE : {rmse:.6f}\")\n",
    "    print(f\"🔹 MAE  : {mae:.6f}\")\n",
    "    print(f\"🔹 Directional Accuracy: {directional_accuracy:.2f}%\")\n",
    "\n",
    "    return {\n",
    "        \"mse\": mse,\n",
    "        \"rmse\": rmse,\n",
    "        \"mae\": mae,\n",
    "        \"directional_accuracy\": directional_accuracy\n",
    "    }\n"
   ]
  },
  {
   "cell_type": "markdown",
   "id": "6671d63a",
   "metadata": {
    "id": "NtOHIfHGOvG-",
    "papermill": {
     "duration": 0.010243,
     "end_time": "2025-08-29T19:56:38.128055",
     "exception": false,
     "start_time": "2025-08-29T19:56:38.117812",
     "status": "completed"
    },
    "tags": []
   },
   "source": [
    "Feature engineering - helper functions"
   ]
  },
  {
   "cell_type": "code",
   "execution_count": 13,
   "id": "c26e3383",
   "metadata": {
    "execution": {
     "iopub.execute_input": "2025-08-29T19:56:38.149900Z",
     "iopub.status.busy": "2025-08-29T19:56:38.149694Z",
     "iopub.status.idle": "2025-08-29T19:56:38.174109Z",
     "shell.execute_reply": "2025-08-29T19:56:38.173438Z"
    },
    "id": "2_KRq-WvOwfa",
    "papermill": {
     "duration": 0.036626,
     "end_time": "2025-08-29T19:56:38.175187",
     "exception": false,
     "start_time": "2025-08-29T19:56:38.138561",
     "status": "completed"
    },
    "tags": []
   },
   "outputs": [],
   "source": [
    "import numpy as np\n",
    "import pandas as pd\n",
    "\n",
    "#Utility helpers\n",
    "\n",
    "def _safe_div(a, b):\n",
    "    \"\"\"Elementwise safe division.\"\"\"\n",
    "    return np.where(b != 0, a / b, 0.0)\n",
    "\n",
    "def _log_return(x, lag=1):\n",
    "    \"\"\"Compute log return with lag (NumPy arrays only).\"\"\"\n",
    "    x = np.asarray(x, dtype=float)\n",
    "    prev = np.roll(x, lag)\n",
    "    out = np.zeros_like(x, dtype=float)\n",
    "    mask = (prev > 0) & (x > 0)\n",
    "    out[mask] = np.log(x[mask]) - np.log(prev[mask])\n",
    "    out[~mask] = 0.0\n",
    "    out[:lag] = 0.0\n",
    "    return out\n",
    "\n",
    "def _rolling_count_events(series, window):\n",
    "    \"\"\"Count boolean events in the past window using cumulative sum trick.\"\"\"\n",
    "    s = series.astype(int)\n",
    "    c = s.cumsum()\n",
    "    out = c - c.shift(window, fill_value=0)\n",
    "    return out\n",
    "\n",
    "def _add_time_cyclical(df, ts_col=\"timestamp\"):\n",
    "    \"\"\"Add second-of-day sine cos and weekday features to DataFrame.\"\"\"\n",
    "    dt = pd.to_datetime(df[ts_col])\n",
    "    sod = dt.dt.hour * 3600 + dt.dt.minute * 60 + dt.dt.second\n",
    "    w = dt.dt.weekday\n",
    "    df[\"sod_sin\"] = np.sin(2 * np.pi * sod / 86400.0)\n",
    "    df[\"sod_cos\"] = np.cos(2 * np.pi * sod / 86400.0)\n",
    "    df[\"weekday\"] = w.astype(int)\n",
    "    return df\n",
    "\n",
    "#Core feature builders\n",
    "\n",
    "def add_top_of_book_features(df):\n",
    "    \"\"\"Adds core top-of-book price and volume features.\"\"\"\n",
    "\n",
    "    # Parse and cast required columns\n",
    "    bid = df[\"bid_price1\"].astype(float)\n",
    "    ask = df[\"ask_price1\"].astype(float)\n",
    "    bvol = df[\"bid_volume1\"].astype(float)\n",
    "    avol = df[\"ask_volume1\"].astype(float)\n",
    "\n",
    "    # Mid-price and spread\n",
    "    df[\"mid\"] = (bid + ask) * 0.5\n",
    "    df[\"spread\"] = ask - bid\n",
    "    df[\"rel_spread_bp\"] = _safe_div(df[\"spread\"], df[\"mid\"]) * 1e4  # basis points\n",
    "\n",
    "    # Microprice = size-weighted mid\n",
    "    denom = bvol + avol\n",
    "    df[\"microprice\"] = _safe_div(ask * bvol + bid * avol, denom)\n",
    "\n",
    "    # Log returns (lags)\n",
    "    for lag in [1, 2, 3, 5, 10, 30, 60]:\n",
    "        df[f\"ret_mid_lag{lag}\"] = _log_return(df[\"mid\"].values, lag=lag)\n",
    "        df[f\"ret_micro_lag{lag}\"] = _log_return(df[\"microprice\"].values, lag=lag)\n",
    "\n",
    "    # Binary flags for quote updates\n",
    "    df[\"chg_bid_px1\"] = (bid.diff().fillna(0) != 0).astype(int)\n",
    "    df[\"chg_ask_px1\"] = (ask.diff().fillna(0) != 0).astype(int)\n",
    "\n",
    "    # Rolling count of quote updates\n",
    "    for w in [10, 30, 60, 120, 300]:\n",
    "        df[f\"cnt_bid_px1_chg_{w}s\"] = _rolling_count_events(df[\"chg_bid_px1\"], w)\n",
    "        df[f\"cnt_ask_px1_chg_{w}s\"] = _rolling_count_events(df[\"chg_ask_px1\"], w)\n",
    "\n",
    "    return df\n",
    "\n",
    "def add_depth_and_imbalance_features(df, levels=5):\n",
    "    \"\"\"Adds market depth features and volume/price imbalance features.\"\"\"\n",
    "\n",
    "    # Construct column lists\n",
    "    bid_vol_cols = [f\"bid_volume{i}\" for i in range(1, levels + 1)]\n",
    "    ask_vol_cols = [f\"ask_volume{i}\" for i in range(1, levels + 1)]\n",
    "    bid_px_cols = [f\"bid_price{i}\" for i in range(1, levels + 1)]\n",
    "    ask_px_cols = [f\"ask_price{i}\" for i in range(1, levels + 1)]\n",
    "\n",
    "    # Cast to float\n",
    "    bv = df[bid_vol_cols].astype(float)\n",
    "    av = df[ask_vol_cols].astype(float)\n",
    "\n",
    "    # Total depth & imbalance\n",
    "    df[\"depth_bid\"] = bv.sum(axis=1)\n",
    "    df[\"depth_ask\"] = av.sum(axis=1)\n",
    "    df[\"depth_total\"] = df[\"depth_bid\"] + df[\"depth_ask\"]\n",
    "    df[\"imbalance_lvl1\"] = _safe_div(df[\"bid_volume1\"] - df[\"ask_volume1\"], df[\"bid_volume1\"] + df[\"ask_volume1\"])\n",
    "    df[\"imbalance_total\"] = _safe_div(df[\"depth_bid\"] - df[\"depth_ask\"], df[\"depth_total\"])\n",
    "\n",
    "    # Depth-weighted average prices (WAP)\n",
    "    bp = df[bid_px_cols].astype(float).values\n",
    "    ap = df[ask_px_cols].astype(float).values\n",
    "    bv_np = bv.values\n",
    "    av_np = av.values\n",
    "\n",
    "    bid_wap = _safe_div((bp * bv_np).sum(axis=1), bv_np.sum(axis=1))\n",
    "    ask_wap = _safe_div((ap * av_np).sum(axis=1), av_np.sum(axis=1))\n",
    "\n",
    "    df[\"bid_wap\"] = bid_wap\n",
    "    df[\"ask_wap\"] = ask_wap\n",
    "    df[\"wap_spread\"] = ask_wap - bid_wap\n",
    "    df[\"wap_mid\"] = 0.5 * (ask_wap + bid_wap)\n",
    "\n",
    "    return df\n",
    "\n",
    "def add_volatility_proxies(df):\n",
    "    \"\"\"Adds realized variance, volatility, and bipower variation from mid-price returns.\"\"\"\n",
    "\n",
    "    r = pd.Series(_log_return(df[\"mid\"].values, lag=1)).astype(float)\n",
    "    r.name = \"r1\"\n",
    "\n",
    "    # Realized variance and volatility\n",
    "    for w in [10, 30, 60, 120, 300]:\n",
    "        rv = r.pow(2).rolling(w).sum()\n",
    "        df[f\"rv_{w}s\"] = rv.values\n",
    "        df[f\"rvol_{w}s\"] = np.sqrt(np.maximum(rv.values, 0.0))\n",
    "\n",
    "    # Bipower variation\n",
    "    abs_r = r.abs()\n",
    "    for w in [10, 30, 60, 120, 300]:\n",
    "        bp = (abs_r.shift(1) * abs_r).rolling(w).sum() * (np.pi / 2.0)\n",
    "        df[f\"bpv_{w}s\"] = bp.values\n",
    "\n",
    "    return df\n",
    "\n",
    "def add_order_flow_features(df):\n",
    "    \"\"\"Adds Order Flow Imbalance (OFI) and its rolling statistics.\"\"\"\n",
    "\n",
    "    bp = df[\"bid_price1\"].astype(float).values\n",
    "    ap = df[\"ask_price1\"].astype(float).values\n",
    "    bv = df[\"bid_volume1\"].astype(float).values\n",
    "    av = df[\"ask_volume1\"].astype(float).values\n",
    "\n",
    "    # Previous tick values\n",
    "    bp_prev = np.roll(bp, 1); bp_prev[0] = bp[0]\n",
    "    ap_prev = np.roll(ap, 1); ap_prev[0] = ap[0]\n",
    "    bv_prev = np.roll(bv, 1); bv_prev[0] = bv[0]\n",
    "    av_prev = np.roll(av, 1); av_prev[0] = av[0]\n",
    "\n",
    "    # OFI computation\n",
    "    ofi = np.zeros_like(bp, dtype=float)\n",
    "    ofi += np.where(bp > bp_prev, bv, 0.0)\n",
    "    ofi += np.where(bp < bp_prev, -bv_prev, 0.0)\n",
    "    ofi += np.where(bp == bp_prev, bv - bv_prev, 0.0)\n",
    "    ofi += np.where(ap < ap_prev, -av, 0.0)\n",
    "    ofi += np.where(ap > ap_prev, av_prev, 0.0)\n",
    "    ofi += np.where(ap == ap_prev, -(av - av_prev), 0.0)\n",
    "\n",
    "    df[\"ofi_lvl1\"] = ofi\n",
    "\n",
    "    # Rolling stats\n",
    "    for w in [10, 30, 60, 120, 300]:\n",
    "        df[f\"ofi_sum_{w}s\"] = pd.Series(ofi).rolling(w).sum().values\n",
    "        df[f\"ofi_std_{w}s\"] = pd.Series(ofi).rolling(w).std().fillna(0.0).values\n",
    "\n",
    "    return df\n",
    "\n",
    "def add_liquidity_flags(df):\n",
    "    \"\"\"Adds binary flags for wide spreads and shallow order book depth.\"\"\"\n",
    "\n",
    "    # Use expanding window to avoid lookahead bias\n",
    "    spread_med = df[\"spread\"].expanding().median()\n",
    "    depth_q10 = df[\"depth_total\"].expanding().quantile(0.10)\n",
    "\n",
    "    df[\"flag_wide_spread\"] = (df[\"spread\"] > 3.0 * spread_med).astype(int)\n",
    "    df[\"flag_shallow_depth\"] = (df[\"depth_total\"] < depth_q10).astype(int)\n",
    "\n",
    "    return df\n",
    "\n",
    "def add_cross_asset_features(eth_df, peer_df, peer_name=\"BTC\"):\n",
    "    \"\"\"\n",
    "    Merges peer asset data (e.g., BTC) and computes lagged returns and rolling correlation with ETH.\n",
    "    \"\"\"\n",
    "    use_cols = [\"timestamp\", \"mid\"]\n",
    "    peer = peer_df[use_cols].copy()\n",
    "    peer.rename(columns={\"mid\": f\"mid_{peer_name}\"}, inplace=True)\n",
    "\n",
    "    # Lagged returns for peer asset\n",
    "    for lag in [1, 2, 3, 5, 10, 30, 60]:\n",
    "        peer[f\"ret_mid_{peer_name}_lag{lag}\"] = _log_return(peer[f\"mid_{peer_name}\"].values, lag=lag)\n",
    "\n",
    "    out = eth_df.merge(peer, on=\"timestamp\", how=\"left\")\n",
    "\n",
    "    # Correlation between ETH and peer asset returns\n",
    "    r_eth = pd.Series(_log_return(out[\"mid\"].values, lag=1))\n",
    "    r_peer = pd.Series(_log_return(out[f\"mid_{peer_name}\"].values, lag=1))\n",
    "\n",
    "    for w in [60, 120, 300]:\n",
    "        corr = r_eth.rolling(w).corr(r_peer)\n",
    "        out[f\"corr_eth_{peer_name}_{w}s\"] = corr.values\n",
    "\n",
    "    return out\n",
    "\n",
    "def engineer_features_for_asset(df):\n",
    "    \"\"\"Applies the full feature engineering pipeline for one asset (e.g., ETH/NIFTY).\"\"\"\n",
    "    df = df.copy()\n",
    "    df.sort_values(\"timestamp\", inplace=True)\n",
    "\n",
    "    # Run all core feature functions\n",
    "    _add_time_cyclical(df, \"timestamp\")\n",
    "    add_top_of_book_features(df)\n",
    "    add_depth_and_imbalance_features(df, levels=5)\n",
    "    add_volatility_proxies(df)\n",
    "    add_order_flow_features(df)\n",
    "    add_liquidity_flags(df)\n",
    "\n",
    "    # Prevent lookahead by shifting numeric features\n",
    "    base_cols = set(df.columns)\n",
    "    num_df = df.select_dtypes(include=[np.number])\n",
    "\n",
    "    # Identify new numeric features\n",
    "    new_cols = [c for c in num_df.columns if c not in base_cols or c in [\n",
    "        \"mid\", \"spread\", \"rel_spread_bp\", \"microprice\",\n",
    "        \"depth_bid\", \"depth_ask\", \"depth_total\",\n",
    "        \"imbalance_lvl1\", \"imbalance_total\",\n",
    "        \"bid_wap\", \"ask_wap\", \"wap_spread\", \"wap_mid\",\n",
    "        \"ofi_lvl1\"\n",
    "    ]]\n",
    "\n",
    "    # Do not shift raw order book values\n",
    "    raw_cols = [f\"{side}_{typ}{i}\" for i in range(1, 6) for side in [\"bid\", \"ask\"] for typ in [\"price\", \"volume\"]]\n",
    "    shift_cols = [c for c in new_cols if c not in raw_cols]\n",
    "\n",
    "    df[shift_cols] = df[shift_cols].shift(1)\n",
    "\n",
    "    return df\n",
    "\n",
    "def build_eth_with_peers(eth_df, peers_dict):\n",
    "    \"\"\"\n",
    "    Run full ETH feature engineering and merge peer (e.g., BTC, VIX) features.\n",
    "    peers_dict = {\"BTC\": btc_df, \"VIX\": vix_df, ...}\n",
    "    \"\"\"\n",
    "    eth_feat = engineer_features_for_asset(eth_df)\n",
    "    out = eth_feat\n",
    "\n",
    "    for name, peer_df in peers_dict.items():\n",
    "        peer_feat = engineer_features_for_asset(peer_df)[[\"timestamp\", \"mid\"]].copy()\n",
    "        out = add_cross_asset_features(out, peer_feat, peer_name=name)\n",
    "\n",
    "    return out\n",
    "\n",
    "def finalize_feature_table(df, label_col=None):\n",
    "    \"\"\"\n",
    "    Final cleanup of feature table.\n",
    "    - Drops rows with NaNs created by shift/rolling.\n",
    "    - Retains the label column if specified.\n",
    "    \"\"\"\n",
    "    keep_cols = [c for c in df.columns if c != label_col] + \\\n",
    "                ([label_col] if label_col and label_col in df.columns else [])\n",
    "\n",
    "    df = df[keep_cols].copy()\n",
    "    df = df.dropna().reset_index(drop=True)\n",
    "\n",
    "    return df\n",
    "\n",
    "\n"
   ]
  },
  {
   "cell_type": "code",
   "execution_count": 14,
   "id": "c8d390cb",
   "metadata": {
    "execution": {
     "iopub.execute_input": "2025-08-29T19:56:38.196889Z",
     "iopub.status.busy": "2025-08-29T19:56:38.196689Z",
     "iopub.status.idle": "2025-08-29T19:56:40.381506Z",
     "shell.execute_reply": "2025-08-29T19:56:40.380819Z"
    },
    "id": "2A2bRo1NrpPT",
    "outputId": "dd2727ab-24db-420d-d9dc-e08ec35f42ee",
    "papermill": {
     "duration": 2.197908,
     "end_time": "2025-08-29T19:56:40.383734",
     "exception": false,
     "start_time": "2025-08-29T19:56:38.185826",
     "status": "completed"
    },
    "tags": []
   },
   "outputs": [
    {
     "name": "stdout",
     "output_type": "stream",
     "text": [
      "🟢 ETH Train Info:\n",
      "<class 'pandas.core.frame.DataFrame'>\n",
      "RangeIndex: 631292 entries, 0 to 631291\n",
      "Data columns (total 23 columns):\n",
      " #   Column       Non-Null Count   Dtype  \n",
      "---  ------       --------------   -----  \n",
      " 0   timestamp    631292 non-null  object \n",
      " 1   mid_price    595862 non-null  float64\n",
      " 2   bid_price1   595862 non-null  float64\n",
      " 3   bid_volume1  595862 non-null  float64\n",
      " 4   bid_price2   595862 non-null  float64\n",
      " 5   bid_volume2  595862 non-null  float64\n",
      " 6   bid_price3   595862 non-null  float64\n",
      " 7   bid_volume3  595862 non-null  float64\n",
      " 8   bid_price4   595862 non-null  float64\n",
      " 9   bid_volume4  595862 non-null  float64\n",
      " 10  bid_price5   595862 non-null  float64\n",
      " 11  bid_volume5  595862 non-null  float64\n",
      " 12  ask_price1   595862 non-null  float64\n",
      " 13  ask_volume1  595862 non-null  float64\n",
      " 14  ask_price2   595862 non-null  float64\n",
      " 15  ask_volume2  595862 non-null  float64\n",
      " 16  ask_price3   595862 non-null  float64\n",
      " 17  ask_volume3  595862 non-null  float64\n",
      " 18  ask_price4   595862 non-null  float64\n",
      " 19  ask_volume4  595862 non-null  float64\n",
      " 20  ask_price5   595862 non-null  float64\n",
      " 21  ask_volume5  595862 non-null  float64\n",
      " 22  label        605938 non-null  float64\n",
      "dtypes: float64(22), object(1)\n",
      "memory usage: 110.8+ MB\n",
      "None \n",
      "\n",
      "🟡 ETH Test Info:\n",
      "<class 'pandas.core.frame.DataFrame'>\n",
      "RangeIndex: 270548 entries, 0 to 270547\n",
      "Data columns (total 22 columns):\n",
      " #   Column       Non-Null Count   Dtype  \n",
      "---  ------       --------------   -----  \n",
      " 0   timestamp    270548 non-null  int64  \n",
      " 1   mid_price    265952 non-null  float64\n",
      " 2   bid_price1   265952 non-null  float64\n",
      " 3   bid_volume1  265952 non-null  float64\n",
      " 4   bid_price2   265952 non-null  float64\n",
      " 5   bid_volume2  265952 non-null  float64\n",
      " 6   bid_price3   265952 non-null  float64\n",
      " 7   bid_volume3  265952 non-null  float64\n",
      " 8   bid_price4   265952 non-null  float64\n",
      " 9   bid_volume4  265952 non-null  float64\n",
      " 10  bid_price5   265952 non-null  float64\n",
      " 11  bid_volume5  265952 non-null  float64\n",
      " 12  ask_price1   265952 non-null  float64\n",
      " 13  ask_volume1  265952 non-null  float64\n",
      " 14  ask_price2   265952 non-null  float64\n",
      " 15  ask_volume2  265952 non-null  float64\n",
      " 16  ask_price3   265952 non-null  float64\n",
      " 17  ask_volume3  265952 non-null  float64\n",
      " 18  ask_price4   265952 non-null  float64\n",
      " 19  ask_volume4  265952 non-null  float64\n",
      " 20  ask_price5   265952 non-null  float64\n",
      " 21  ask_volume5  265952 non-null  float64\n",
      "dtypes: float64(21), int64(1)\n",
      "memory usage: 45.4 MB\n",
      "None \n",
      "\n",
      "📊 Columns in Train but not Test: {'label'}\n",
      "📊 Columns in Test but not Train: set()\n",
      "🕒 Train Timestamp Range: 2024-09-25 18:13:28 → 2024-10-03 01:34:59\n",
      "🕒 Test Timestamp Range: 1 → 270548\n",
      "\n",
      "🔍 Sample Train Rows:\n",
      "             timestamp  mid_price  bid_price1  bid_volume1  bid_price2  \\\n",
      "0  2024-09-25 18:13:28   2581.605     2581.60       2980.3     2581.59   \n",
      "1  2024-09-25 18:13:29   2581.285     2581.28       1400.6     2581.22   \n",
      "2  2024-09-25 18:13:30   2581.285     2581.28        875.2     2581.22   \n",
      "3  2024-09-25 18:13:31   2581.105     2581.10       1980.0     2581.09   \n",
      "4  2024-09-25 18:13:32   2581.105     2581.10       1995.5     2581.09   \n",
      "\n",
      "   bid_volume2  bid_price3  bid_volume3  bid_price4  bid_volume4  ...  \\\n",
      "0         44.8     2581.56        139.1     2581.54         86.3  ...   \n",
      "1          7.8     2581.19          5.0     2581.18         67.1  ...   \n",
      "2          7.8     2581.20         64.2     2581.19          5.0  ...   \n",
      "3        508.4     2581.08          0.2     2581.05         18.7  ...   \n",
      "4        508.4     2581.08          0.2     2581.05         18.7  ...   \n",
      "\n",
      "   ask_volume1  ask_price2  ask_volume2  ask_price3  ask_volume3  ask_price4  \\\n",
      "0        339.0     2581.67          9.2     2581.69          0.2     2581.70   \n",
      "1        807.2     2581.30        144.4     2581.31         32.0     2581.32   \n",
      "2        807.5     2581.30        144.4     2581.31         32.0     2581.32   \n",
      "3        833.3     2581.15        171.1     2581.20         60.7     2581.29   \n",
      "4        717.3     2581.15        132.0     2581.20         60.7     2581.29   \n",
      "\n",
      "   ask_volume4  ask_price5  ask_volume5     label  \n",
      "0         23.4     2581.71          1.2  0.000060  \n",
      "1        151.0     2581.33         67.1  0.000057  \n",
      "2        151.0     2581.33         52.0  0.000080  \n",
      "3        123.5     2581.30        104.0  0.000087  \n",
      "4         69.2     2581.30        242.9  0.000090  \n",
      "\n",
      "[5 rows x 23 columns] \n",
      "\n",
      "🔍 Sample Test Rows:\n",
      "   timestamp  mid_price  bid_price1  bid_volume1  bid_price2  bid_volume2  \\\n",
      "0          1   2388.005      2388.0        433.6     2387.99         81.4   \n",
      "1          2   2388.005      2388.0        241.0     2387.99         81.4   \n",
      "2          3   2387.605      2387.6         22.6     2387.59          4.0   \n",
      "3          4   2387.405      2387.4        246.0     2387.39          0.2   \n",
      "4          5   2387.005      2387.0        388.1     2386.99         30.0   \n",
      "\n",
      "   bid_price3  bid_volume3  bid_price4  bid_volume4  ...  ask_price1  \\\n",
      "0     2387.96         10.8     2387.94          6.5  ...     2388.01   \n",
      "1     2387.98          0.6     2387.94          6.5  ...     2388.01   \n",
      "2     2387.57          0.4     2387.55         10.0  ...     2387.61   \n",
      "3     2387.36         62.9     2387.35         15.0  ...     2387.41   \n",
      "4     2386.97          0.1     2386.96          0.4  ...     2387.01   \n",
      "\n",
      "   ask_volume1  ask_price2  ask_volume2  ask_price3  ask_volume3  ask_price4  \\\n",
      "0        313.0     2388.02          1.3     2388.07          0.1     2388.10   \n",
      "1        316.7     2388.02         14.3     2388.07          0.1     2388.10   \n",
      "2       1816.5     2387.62         13.0     2387.64        104.2     2387.65   \n",
      "3        769.7     2387.46         73.8     2387.47        208.0     2387.50   \n",
      "4        318.1     2387.02          1.3     2387.09         16.6     2387.10   \n",
      "\n",
      "   ask_volume4  ask_price5  ask_volume5  \n",
      "0          0.2     2388.11         14.9  \n",
      "1         24.0     2388.12        155.4  \n",
      "2         20.3     2387.66          0.6  \n",
      "3          0.2     2387.52         38.4  \n",
      "4         25.5     2387.13         49.2  \n",
      "\n",
      "[5 rows x 22 columns]\n"
     ]
    }
   ],
   "source": [
    "import pandas as pd\n",
    "import os\n",
    "\n",
    "# Mount your Google Drive (if not done already)\n",
    "#from google.colab import drive\n",
    "#drive.mount('/content/drive')\n",
    "\n",
    "# Define the correct paths inside your 'Goquant' folder\n",
    "base_path = \"/kaggle/input/gq-implied-volatility-forecasting\"\n",
    "eth_train_path = os.path.join(base_path, \"train/ETH.csv\")\n",
    "eth_test_path = os.path.join(base_path, \"test/ETH.csv\")\n",
    "\n",
    "# Load the CSVs\n",
    "eth_train = pd.read_csv(eth_train_path)\n",
    "eth_test = pd.read_csv(eth_test_path)\n",
    "\n",
    "# Print basic schema info\n",
    "print(\"🟢 ETH Train Info:\")\n",
    "print(eth_train.info(), \"\\n\")\n",
    "\n",
    "print(\"🟡 ETH Test Info:\")\n",
    "print(eth_test.info(), \"\\n\")\n",
    "\n",
    "# Check for column differences\n",
    "print(\"📊 Columns in Train but not Test:\", set(eth_train.columns) - set(eth_test.columns))\n",
    "print(\"📊 Columns in Test but not Train:\", set(eth_test.columns) - set(eth_train.columns))\n",
    "\n",
    "# Check timestamp ranges\n",
    "print(\"🕒 Train Timestamp Range:\", eth_train['timestamp'].min(), \"→\", eth_train['timestamp'].max())\n",
    "print(\"🕒 Test Timestamp Range:\", eth_test['timestamp'].min(), \"→\", eth_test['timestamp'].max())\n",
    "\n",
    "# Show a few sample rows\n",
    "print(\"\\n🔍 Sample Train Rows:\")\n",
    "print(eth_train.head(), \"\\n\")\n",
    "print(\"🔍 Sample Test Rows:\")\n",
    "print(eth_test.head())\n"
   ]
  },
  {
   "cell_type": "markdown",
   "id": "cc67b293",
   "metadata": {
    "id": "02vjjB04tsOB",
    "papermill": {
     "duration": 0.010415,
     "end_time": "2025-08-29T19:56:40.405691",
     "exception": false,
     "start_time": "2025-08-29T19:56:40.395276",
     "status": "completed"
    },
    "tags": []
   },
   "source": [
    "Feature scaling"
   ]
  },
  {
   "cell_type": "code",
   "execution_count": 15,
   "id": "4ea40496",
   "metadata": {
    "execution": {
     "iopub.execute_input": "2025-08-29T19:56:40.427764Z",
     "iopub.status.busy": "2025-08-29T19:56:40.427405Z",
     "iopub.status.idle": "2025-08-29T19:56:51.796291Z",
     "shell.execute_reply": "2025-08-29T19:56:51.795059Z"
    },
    "id": "h2AtooFCtsWh",
    "papermill": {
     "duration": 11.381617,
     "end_time": "2025-08-29T19:56:51.797734",
     "exception": false,
     "start_time": "2025-08-29T19:56:40.416117",
     "status": "completed"
    },
    "tags": []
   },
   "outputs": [
    {
     "name": "stdout",
     "output_type": "stream",
     "text": [
      "✅ Step 5 complete.\n",
      "Train shape: (585892, 91) | Test shape: (261239, 91)\n"
     ]
    }
   ],
   "source": [
    "import pandas as pd\n",
    "import numpy as np\n",
    "from sklearn.preprocessing import StandardScaler\n",
    "import joblib\n",
    "\n",
    "# Define the correct paths inside your 'Goquant' folder\n",
    "base_path = \"/kaggle/input/gq-implied-volatility-forecasting\"\n",
    "eth_train_path = os.path.join(base_path, \"train/ETH.csv\")\n",
    "eth_test_path = os.path.join(base_path, \"test/ETH.csv\")\n",
    "\n",
    "# === STEP 2: Apply Feature Engineering ===\n",
    "train_df = engineer_features_for_asset(eth_train)\n",
    "test_df = engineer_features_for_asset(eth_test)\n",
    "\n",
    "# === STEP 3: Finalize & Drop NaNs ===\n",
    "train_df = finalize_feature_table(train_df, label_col=\"label\")\n",
    "test_df = finalize_feature_table(test_df)  # no label, so we don't specify it\n",
    "\n",
    "# === STEP 4: Outlier Clipping (1st–99th percentile from train) ===\n",
    "# Get numeric columns from train_df\n",
    "numeric_cols = train_df.select_dtypes(include=[np.number]).columns\n",
    "\n",
    "# Drop 'label' from numeric_cols for test_df if it's present\n",
    "numeric_cols_without_label = numeric_cols.drop('label') if 'label' in numeric_cols else numeric_cols\n",
    "\n",
    "# Compute 1st and 99th percentiles on train data\n",
    "clip_bounds = train_df[numeric_cols].quantile([0.01, 0.99])\n",
    "\n",
    "# Clip outliers on both train and test separately\n",
    "train_df[numeric_cols] = train_df[numeric_cols].clip(lower=clip_bounds.loc[0.01], upper=clip_bounds.loc[0.99], axis=1)\n",
    "test_df[numeric_cols_without_label] = test_df[numeric_cols_without_label].clip(\n",
    "    lower=clip_bounds.loc[0.01, numeric_cols_without_label],\n",
    "    upper=clip_bounds.loc[0.99, numeric_cols_without_label],\n",
    "    axis=1\n",
    ")\n",
    "\n",
    "\n",
    "# === STEP 5: Standard Scaling ===\n",
    "X_train = train_df.drop(columns=[\"timestamp\", \"label\"])\n",
    "y_train = train_df[\"label\"]\n",
    "\n",
    "X_test = test_df.drop(columns=[\"timestamp\"])  # no label in test\n",
    "\n",
    "# Fit scaler on training data\n",
    "scaler = StandardScaler()\n",
    "X_train_scaled = scaler.fit_transform(X_train)\n",
    "X_test_scaled = scaler.transform(X_test)\n",
    "\n",
    "# Save scaler for future use\n",
    "joblib.dump(scaler, \"/kaggle/working/scaler.pkl\")\n",
    "\n",
    "# Optional: Convert back to DataFrame for exploration\n",
    "X_train_scaled_df = pd.DataFrame(X_train_scaled, columns=X_train.columns)\n",
    "X_test_scaled_df = pd.DataFrame(X_test_scaled, columns=X_test.columns)\n",
    "\n",
    "print(\"✅ Step 5 complete.\")\n",
    "print(\"Train shape:\", X_train_scaled.shape, \"| Test shape:\", X_test_scaled.shape)\n",
    "\n",
    "\n"
   ]
  },
  {
   "cell_type": "code",
   "execution_count": 16,
   "id": "f37d73bb",
   "metadata": {
    "execution": {
     "iopub.execute_input": "2025-08-29T19:56:51.834459Z",
     "iopub.status.busy": "2025-08-29T19:56:51.834166Z",
     "iopub.status.idle": "2025-08-29T19:56:53.671323Z",
     "shell.execute_reply": "2025-08-29T19:56:53.670694Z"
    },
    "id": "AtYda-J6vINd",
    "papermill": {
     "duration": 1.854116,
     "end_time": "2025-08-29T19:56:53.672698",
     "exception": false,
     "start_time": "2025-08-29T19:56:51.818582",
     "status": "completed"
    },
    "tags": []
   },
   "outputs": [],
   "source": [
    "from sklearn.preprocessing import StandardScaler\n",
    "\n",
    "# Identify columns to scale: exclude 'timestamp' and 'label'\n",
    "features_to_scale = [col for col in train_df.columns if col not in ['timestamp', 'label']]\n",
    "\n",
    "# Initialize and fit scaler on train data\n",
    "scaler = StandardScaler()\n",
    "train_df[features_to_scale] = scaler.fit_transform(train_df[features_to_scale])\n",
    "\n",
    "# Apply same scaling to test data\n",
    "test_df[features_to_scale] = scaler.transform(test_df[features_to_scale])\n"
   ]
  },
  {
   "cell_type": "markdown",
   "id": "f7c0d99f",
   "metadata": {
    "id": "N5qfNC__wuRm",
    "papermill": {
     "duration": 0.01066,
     "end_time": "2025-08-29T19:56:53.695054",
     "exception": false,
     "start_time": "2025-08-29T19:56:53.684394",
     "status": "completed"
    },
    "tags": []
   },
   "source": [
    "Sequence Windowing"
   ]
  },
  {
   "cell_type": "code",
   "execution_count": 17,
   "id": "69458a81",
   "metadata": {
    "execution": {
     "iopub.execute_input": "2025-08-29T19:56:53.717240Z",
     "iopub.status.busy": "2025-08-29T19:56:53.716980Z",
     "iopub.status.idle": "2025-08-29T19:56:54.507408Z",
     "shell.execute_reply": "2025-08-29T19:56:54.506523Z"
    },
    "id": "AhNutuOewwHH",
    "papermill": {
     "duration": 0.803052,
     "end_time": "2025-08-29T19:56:54.508716",
     "exception": false,
     "start_time": "2025-08-29T19:56:53.705664",
     "status": "completed"
    },
    "tags": []
   },
   "outputs": [
    {
     "name": "stdout",
     "output_type": "stream",
     "text": [
      "🧾 Input shape: torch.Size([64, 180, 91])\n",
      "🎯 Target shape: torch.Size([64])\n",
      "First input window:\n",
      "tensor([[-2.5261, -2.5261,  0.4109,  ...,  0.4230,  0.0000, -0.1772],\n",
      "        [-2.5261, -2.5261, -0.4264,  ...,  0.4129,  0.0000,  5.6433],\n",
      "        [-2.5269, -2.5269, -0.2486,  ...,  0.4192,  0.0000, -0.1772],\n",
      "        ...,\n",
      "        [-2.4803, -2.4803,  0.6308,  ...,  0.5108,  0.0000, -0.1772],\n",
      "        [-2.4845, -2.4845, -0.8282,  ...,  0.5188,  0.0000, -0.1772],\n",
      "        [-2.4845, -2.4845, -0.4471,  ...,  0.5151,  0.0000, -0.1772]])\n",
      "First target IV: 0.00016755609249230474\n"
     ]
    }
   ],
   "source": [
    "import numpy as np\n",
    "import torch\n",
    "from torch.utils.data import Dataset, DataLoader\n",
    "\n",
    "# === CONFIGURATION ===\n",
    "LOOKBACK = 180         # seconds of history\n",
    "STRIDE = 1             # stride between windows\n",
    "FUTURE_OFFSET = 10     # predict IV at t+10 seconds\n",
    "\n",
    "# === Step 1: Utility functions ===\n",
    "def _make_start_indices(n_rows, lookback, offset, stride=1):\n",
    "    \"\"\"\n",
    "    Generate valid prediction indices t, such that:\n",
    "    - We have enough past data: t >= lookback - 1\n",
    "    - We have enough future target: t + offset < n_rows\n",
    "    \"\"\"\n",
    "    start = lookback - 1\n",
    "    end = n_rows - offset - 1\n",
    "    if end < start:\n",
    "        return np.empty(0, dtype=np.int64)\n",
    "    return np.arange(start, end + 1, stride, dtype=np.int64)\n",
    "\n",
    "class LOBWindowDataset(Dataset):\n",
    "    \"\"\"\n",
    "    Memory-safe sliding window dataset for time series.\n",
    "    \"\"\"\n",
    "    def __init__(self, features, labels, lookback, offset, stride=1):\n",
    "        assert features.ndim == 2, \"Features must be 2D [time, features]\"\n",
    "        assert features.dtype == np.float32, \"Features must be float32 to save memory\"\n",
    "\n",
    "        self.X = features\n",
    "        self.y = None if labels is None else np.asarray(labels, dtype=np.float32)\n",
    "        self.L = int(lookback)\n",
    "        self.O = int(offset)\n",
    "        self.idxs = _make_start_indices(len(features), self.L, self.O, stride)\n",
    "\n",
    "    def __len__(self):\n",
    "        return len(self.idxs)\n",
    "\n",
    "    def __getitem__(self, i):\n",
    "        t = self.idxs[i]\n",
    "        x = self.X[t - self.L + 1 : t + 1]  # window of shape [L, F]\n",
    "        if self.y is None:\n",
    "            return torch.from_numpy(x)\n",
    "        target = self.y[t + self.O]\n",
    "        return torch.from_numpy(x), torch.tensor(target, dtype=torch.float32)\n",
    "\n",
    "def build_datasets(train_df, test_df, label_col=\"label\"):\n",
    "    feat_cols = [col for col in train_df.columns if col not in [\"timestamp\", label_col]]\n",
    "\n",
    "    # Ensure consistent columns\n",
    "    assert set(feat_cols).issubset(set(test_df.columns)), \"Test is missing some feature columns\"\n",
    "\n",
    "    X_train = train_df[feat_cols].to_numpy(dtype=np.float32, copy=False)\n",
    "    y_train = train_df[label_col].to_numpy(dtype=np.float32, copy=False)\n",
    "\n",
    "    X_test = test_df[feat_cols].to_numpy(dtype=np.float32, copy=False)\n",
    "\n",
    "    train_ds = LOBWindowDataset(X_train, y_train, LOOKBACK, FUTURE_OFFSET, STRIDE)\n",
    "    test_ds = LOBWindowDataset(X_test,LOOKBACK, FUTURE_OFFSET, STRIDE)  # USE IT\n",
    "\n",
    "    return train_ds, test_ds, feat_cols # RETURN IT\n",
    "\n",
    "\n",
    "# === Step 3: DataLoader builder ===\n",
    "def build_loaders(train_ds, test_ds, batch_size=64):\n",
    "    train_loader = DataLoader(train_ds, batch_size=batch_size, shuffle=True, num_workers=0, pin_memory=False)\n",
    "    test_loader = DataLoader(test_ds, batch_size=batch_size, shuffle=False, num_workers=0, pin_memory=False)\n",
    "    return train_loader, test_loader\n",
    "\n",
    "# === Step 4: Optional – recover timestamps for test prediction ===\n",
    "def timestamps_for_submission(test_df, test_ds, future_offset=FUTURE_OFFSET):\n",
    "    ts = np.asarray(test_df[\"timestamp\"])\n",
    "    pred_idx = test_ds.idxs + future_offset\n",
    "    return ts[pred_idx]\n",
    "\n",
    "# Build datasets and loaders\n",
    "train_ds, test_ds, feat_cols = build_datasets(train_df, test_df)\n",
    "train_loader, test_loader = build_loaders(train_ds, test_ds)\n",
    "\n",
    "# (Optional) Check sample shapes\n",
    "for xb, yb in train_loader:\n",
    "    print(\"🧾 Input shape:\", xb.shape)  # [B, 180, F]\n",
    "    print(\"🎯 Target shape:\", yb.shape) # [B]\n",
    "    break\n",
    "\n",
    "print(\"First input window:\")\n",
    "print(xb[0])         # [180, num_features]\n",
    "print(\"First target IV:\", yb[0].item())\n"
   ]
  },
  {
   "cell_type": "markdown",
   "id": "e1e40b95",
   "metadata": {
    "id": "GK9RbVcin5Av",
    "papermill": {
     "duration": 0.010712,
     "end_time": "2025-08-29T19:56:54.530907",
     "exception": false,
     "start_time": "2025-08-29T19:56:54.520195",
     "status": "completed"
    },
    "tags": []
   },
   "source": [
    "Naive Baseline model"
   ]
  },
  {
   "cell_type": "code",
   "execution_count": 18,
   "id": "271f9569",
   "metadata": {
    "execution": {
     "iopub.execute_input": "2025-08-29T19:56:54.553311Z",
     "iopub.status.busy": "2025-08-29T19:56:54.553047Z",
     "iopub.status.idle": "2025-08-29T19:56:54.929089Z",
     "shell.execute_reply": "2025-08-29T19:56:54.928095Z"
    },
    "id": "PFnV8EwPn6YI",
    "papermill": {
     "duration": 0.388505,
     "end_time": "2025-08-29T19:56:54.930124",
     "exception": false,
     "start_time": "2025-08-29T19:56:54.541619",
     "status": "completed"
    },
    "tags": []
   },
   "outputs": [
    {
     "name": "stdout",
     "output_type": "stream",
     "text": [
      "📉 Evaluating Naive Baseline:\n"
     ]
    },
    {
     "name": "stderr",
     "output_type": "stream",
     "text": [
      "Evaluating Naive Baseline: 100%|██████████| 261229/261229 [00:00<00:00, 800465.40it/s]"
     ]
    },
    {
     "name": "stdout",
     "output_type": "stream",
     "text": [
      "\n",
      "📊 Naive Last-IV Baseline Evaluation:\n",
      "  MSE:  2.481460\n",
      "  RMSE: 1.575265\n",
      "  MAE:  0.426330\n",
      "  R²:   0.026851\n"
     ]
    },
    {
     "name": "stderr",
     "output_type": "stream",
     "text": [
      "\n"
     ]
    }
   ],
   "source": [
    "import numpy as np\n",
    "from tqdm import tqdm\n",
    "from sklearn.metrics import mean_squared_error, mean_absolute_error, r2_score\n",
    "\n",
    "def evaluate(y_true, y_pred, label=\"Model\"):\n",
    "    mse = mean_squared_error(y_true, y_pred)\n",
    "    rmse = np.sqrt(mse)\n",
    "    mae = mean_absolute_error(y_true, y_pred)\n",
    "    r2 = r2_score(y_true, y_pred)\n",
    "\n",
    "    print(f\"\\n📊 {label} Evaluation:\")\n",
    "    print(f\"  MSE:  {mse:.6f}\")\n",
    "    print(f\"  RMSE: {rmse:.6f}\")\n",
    "    print(f\"  MAE:  {mae:.6f}\")\n",
    "    print(f\"  R²:   {r2:.6f}\")\n",
    "\n",
    "# === Step 7: Evaluate Naive Baseline without using y_test ===\n",
    "\n",
    "print(\"📉 Evaluating Naive Baseline:\")\n",
    "\n",
    "true_vals = []\n",
    "pred_vals = []\n",
    "\n",
    "X_raw = test_ds.X          # shape: [T, F]\n",
    "L = test_ds.L              # lookback = 180\n",
    "O = test_ds.O              # future offset = 10\n",
    "idxs = test_ds.idxs        # valid t indices\n",
    "label_col = -1             # assume last column is IV\n",
    "\n",
    "for t in tqdm(idxs, desc=\"Evaluating Naive Baseline\"):\n",
    "    # Extract window and future IV value from raw matrix\n",
    "    window = X_raw[t - L + 1 : t + 1]         # shape: [180, F]\n",
    "    last_iv_in_window = window[-1, label_col]\n",
    "    future_iv = X_raw[t + O, label_col]       # true label at t + offset\n",
    "\n",
    "    pred_vals.append(last_iv_in_window)\n",
    "    true_vals.append(future_iv)\n",
    "\n",
    "# Convert to np arrays\n",
    "y_pred_naive = np.array(pred_vals)\n",
    "y_true_naive = np.array(true_vals)\n",
    "\n",
    "evaluate(y_true_naive, y_pred_naive, label=\"Naive Last-IV Baseline\")\n"
   ]
  },
  {
   "cell_type": "markdown",
   "id": "c59d7979",
   "metadata": {
    "id": "s8LoT63H4E9D",
    "papermill": {
     "duration": 0.010819,
     "end_time": "2025-08-29T19:56:54.952854",
     "exception": false,
     "start_time": "2025-08-29T19:56:54.942035",
     "status": "completed"
    },
    "tags": []
   },
   "source": [
    "Autoregressive baseline"
   ]
  },
  {
   "cell_type": "code",
   "execution_count": 19,
   "id": "e683fd7d",
   "metadata": {
    "execution": {
     "iopub.execute_input": "2025-08-29T19:56:54.975521Z",
     "iopub.status.busy": "2025-08-29T19:56:54.975274Z",
     "iopub.status.idle": "2025-08-29T19:56:57.038434Z",
     "shell.execute_reply": "2025-08-29T19:56:57.037455Z"
    },
    "id": "R0SsFLDg4HHe",
    "papermill": {
     "duration": 2.076206,
     "end_time": "2025-08-29T19:56:57.039960",
     "exception": false,
     "start_time": "2025-08-29T19:56:54.963754",
     "status": "completed"
    },
    "tags": []
   },
   "outputs": [
    {
     "name": "stderr",
     "output_type": "stream",
     "text": [
      "Building AR training set: 100%|██████████| 585703/585703 [00:01<00:00, 540176.77it/s]\n",
      "Building AR test set: 100%|██████████| 261229/261229 [00:00<00:00, 469106.54it/s]\n"
     ]
    },
    {
     "name": "stdout",
     "output_type": "stream",
     "text": [
      "\n",
      "📊 AR(10) Linear Regression Evaluation:\n",
      "  MSE:  2.090646\n",
      "  RMSE: 1.445907\n",
      "  MAE:  0.623142\n",
      "  R²:   0.180314\n"
     ]
    }
   ],
   "source": [
    "import numpy as np\n",
    "from sklearn.linear_model import LinearRegression\n",
    "from sklearn.metrics import mean_squared_error, mean_absolute_error, r2_score\n",
    "from tqdm import tqdm\n",
    "\n",
    "# --- CONFIG ---\n",
    "N = 10                         # number of past IV values to use\n",
    "IV_COL = -1                   # IV column assumed to be last column in features\n",
    "X_raw = train_ds.X            # raw training feature matrix [T, F]\n",
    "L = train_ds.L                # lookback\n",
    "O = train_ds.O                # future offset\n",
    "idxs = train_ds.idxs          # valid prediction indices\n",
    "\n",
    "# --- Step 1: Extract training features ---\n",
    "X_train_ar = np.zeros((len(idxs), N), dtype=np.float32)\n",
    "y_train_ar = np.zeros(len(idxs), dtype=np.float32)\n",
    "\n",
    "for i, t in enumerate(tqdm(idxs, desc=\"Building AR training set\")):\n",
    "    window = X_raw[t - L + 1 : t + 1]      # [180, F]\n",
    "    iv_series = window[-N:, IV_COL]       # last N IV values\n",
    "    target = X_raw[t + O, IV_COL]         # true future IV\n",
    "\n",
    "    X_train_ar[i] = iv_series\n",
    "    y_train_ar[i] = target\n",
    "\n",
    "# --- Step 2: Fit Linear Regression ---\n",
    "ar_model = LinearRegression()\n",
    "ar_model.fit(X_train_ar, y_train_ar)\n",
    "try:\n",
    "    save_model_artifacts_generic(ar_model, name_hint='ar_model')\n",
    "except Exception as e:\n",
    "    print(f'Could not save ar_model: {e}')\n",
    "\n",
    "# --- Step 3: Prepare test data ---\n",
    "X_raw_test = test_ds.X\n",
    "idxs_test = test_ds.idxs\n",
    "\n",
    "X_test_ar = []\n",
    "y_test_ar = []\n",
    "\n",
    "for t in tqdm(idxs_test, desc=\"Building AR test set\"):\n",
    "    if t - L + 1 < 0 or t + O >= len(X_raw_test):\n",
    "        continue  # skip invalid index ranges\n",
    "\n",
    "    window = X_raw_test[t - L + 1 : t + 1]   # [180, F]\n",
    "    iv_series = window[-N:, IV_COL]         # last N IV values\n",
    "    if len(iv_series) != N:\n",
    "        continue  # skip incomplete windows\n",
    "\n",
    "    target = X_raw_test[t + O, IV_COL]\n",
    "    X_test_ar.append(iv_series)\n",
    "    y_test_ar.append(target)\n",
    "\n",
    "# Convert to arrays\n",
    "X_test_ar = np.array(X_test_ar)\n",
    "y_test_ar = np.array(y_test_ar)\n",
    "\n",
    "# --- Step 4: Predict and Evaluate ---\n",
    "y_pred_ar = ar_model.predict(X_test_ar)\n",
    "\n",
    "def evaluate(y_true, y_pred, label=\"Model\"):\n",
    "    mse = mean_squared_error(y_true, y_pred)\n",
    "    rmse = np.sqrt(mse)\n",
    "    mae = mean_absolute_error(y_true, y_pred)\n",
    "    r2 = r2_score(y_true, y_pred)\n",
    "\n",
    "    print(f\"\\n📊 {label} Evaluation:\")\n",
    "    print(f\"  MSE:  {mse:.6f}\")\n",
    "    print(f\"  RMSE: {rmse:.6f}\")\n",
    "    print(f\"  MAE:  {mae:.6f}\")\n",
    "    print(f\"  R²:   {r2:.6f}\")\n",
    "\n",
    "evaluate(y_test_ar, y_pred_ar, label=\"AR(10) Linear Regression\")"
   ]
  },
  {
   "cell_type": "markdown",
   "id": "045139bc",
   "metadata": {
    "id": "uH181dFhBzxC",
    "papermill": {
     "duration": 0.012113,
     "end_time": "2025-08-29T19:56:57.067128",
     "exception": false,
     "start_time": "2025-08-29T19:56:57.055015",
     "status": "completed"
    },
    "tags": []
   },
   "source": [
    "XGB/LightGBM Baseline evaluation"
   ]
  },
  {
   "cell_type": "code",
   "execution_count": 20,
   "id": "d3a69682",
   "metadata": {
    "execution": {
     "iopub.execute_input": "2025-08-29T19:56:57.092471Z",
     "iopub.status.busy": "2025-08-29T19:56:57.092197Z",
     "iopub.status.idle": "2025-08-29T20:08:48.150100Z",
     "shell.execute_reply": "2025-08-29T20:08:48.149407Z"
    },
    "id": "fDjfpHq3B29I",
    "papermill": {
     "duration": 711.395221,
     "end_time": "2025-08-29T20:08:48.474545",
     "exception": false,
     "start_time": "2025-08-29T19:56:57.079324",
     "status": "completed"
    },
    "tags": []
   },
   "outputs": [
    {
     "name": "stdout",
     "output_type": "stream",
     "text": [
      "🔧 Building Stats features for training set:\n"
     ]
    },
    {
     "name": "stderr",
     "output_type": "stream",
     "text": [
      "100%|██████████| 585703/585703 [07:41<00:00, 1268.73it/s]\n"
     ]
    },
    {
     "name": "stdout",
     "output_type": "stream",
     "text": [
      "🔧 Building Stats features for test set:\n"
     ]
    },
    {
     "name": "stderr",
     "output_type": "stream",
     "text": [
      "100%|██████████| 261050/261050 [03:24<00:00, 1275.35it/s]\n"
     ]
    },
    {
     "name": "stdout",
     "output_type": "stream",
     "text": [
      "🚀 Training XGBoost...\n",
      "\n",
      "📊 XGBoost Stats Baseline Evaluation:\n",
      "  MSE:  2.883659\n",
      "  RMSE: 1.698134\n",
      "  MAE:  1.047822\n",
      "  R²:   -0.130605\n"
     ]
    }
   ],
   "source": [
    "import numpy as np\n",
    "import pandas as pd\n",
    "from tqdm import tqdm\n",
    "from sklearn.linear_model import LinearRegression\n",
    "from sklearn.preprocessing import StandardScaler\n",
    "from sklearn.metrics import mean_squared_error, mean_absolute_error, r2_score\n",
    "from xgboost import XGBRegressor\n",
    "\n",
    "# Configuration\n",
    "L = train_ds.L   # Lookback = 180\n",
    "O = train_ds.O   # Offset = 10\n",
    "IV_COL = -1      # IV is last column in feature array\n",
    "\n",
    "def extract_features(window):\n",
    "    \"\"\"\n",
    "    Given a [180, F] window, extract statistical summary features.\n",
    "    Returns a 1D array.\n",
    "    \"\"\"\n",
    "    stats = []\n",
    "    stats.extend(np.mean(window, axis=0))   # [F]\n",
    "    stats.extend(np.std(window, axis=0))    # [F]\n",
    "    stats.extend(np.min(window, axis=0))    # [F]\n",
    "    stats.extend(np.max(window, axis=0))    # [F]\n",
    "\n",
    "    # Trend of IV (last column) via linear regression\n",
    "    iv_series = window[:, IV_COL]\n",
    "    x = np.arange(len(iv_series)).reshape(-1, 1)\n",
    "    y = iv_series.reshape(-1, 1)\n",
    "    lr = LinearRegression().fit(x, y)\n",
    "    slope = lr.coef_[0][0]\n",
    "    stats.append(slope)  # 1 value\n",
    "\n",
    "    return np.array(stats, dtype=np.float32)\n",
    "\n",
    "# Step 1: Build feature matrix\n",
    "X_raw_train = train_ds.X\n",
    "X_raw_test = test_ds.X\n",
    "\n",
    "train_idxs = train_ds.idxs\n",
    "test_idxs = test_ds.idxs\n",
    "\n",
    "# === Build training set ===\n",
    "print(\"🔧 Building Stats features for training set:\")\n",
    "X_train_stats = []\n",
    "y_train_stats = []\n",
    "\n",
    "for t in tqdm(train_idxs):\n",
    "    window = X_raw_train[t - L + 1 : t + 1]\n",
    "    features = extract_features(window)\n",
    "    label = X_raw_train[t + O, IV_COL]\n",
    "    X_train_stats.append(features)\n",
    "    y_train_stats.append(label)\n",
    "\n",
    "X_train_stats = np.vstack(X_train_stats)\n",
    "y_train_stats = np.array(y_train_stats)\n",
    "\n",
    "# === Build test set ===\n",
    "print(\"🔧 Building Stats features for test set:\")\n",
    "X_test_stats = []\n",
    "y_test_stats = []\n",
    "\n",
    "test_idxs = test_idxs[(test_idxs >= L - 1) & (test_idxs + O < len(X_raw_test))]\n",
    "\n",
    "for t in tqdm(test_idxs):\n",
    "    window = X_raw_test[t - L + 1 : t + 1]\n",
    "    features = extract_features(window)\n",
    "    label = X_raw_test[t + O, IV_COL]\n",
    "\n",
    "    X_test_stats.append(features)\n",
    "    y_test_stats.append(label)\n",
    "\n",
    "X_test_stats = np.vstack(X_test_stats)\n",
    "y_test_stats = np.array(y_test_stats)\n",
    "\n",
    "# === Step 2: Scaling ===\n",
    "scaler = StandardScaler()\n",
    "X_train_scaled = scaler.fit_transform(X_train_stats)\n",
    "X_test_scaled = scaler.transform(X_test_stats)\n",
    "\n",
    "# === Step 3: Train XGBoost model ===\n",
    "print(\"🚀 Training XGBoost...\")\n",
    "model = XGBRegressor(n_estimators=100, max_depth=6, n_jobs=-1, verbosity=1)\n",
    "model.fit(X_train_scaled, y_train_stats)\n",
    "try:\n",
    "    save_model_artifacts_generic(model, name_hint='model')\n",
    "except Exception as e:\n",
    "    print(f'Could not save model: {e}')\n",
    "\n",
    "# === Step 4: Predict and Evaluate ===\n",
    "y_pred_xgb = model.predict(X_test_scaled)\n",
    "\n",
    "def evaluate(y_true, y_pred, label=\"Model\"):\n",
    "    mse = mean_squared_error(y_true, y_pred)\n",
    "    rmse = np.sqrt(mse)\n",
    "    mae = mean_absolute_error(y_true, y_pred)\n",
    "    r2 = r2_score(y_true, y_pred)\n",
    "\n",
    "    print(f\"\\n📊 {label} Evaluation:\")\n",
    "    print(f\"  MSE:  {mse:.6f}\")\n",
    "    print(f\"  RMSE: {rmse:.6f}\")\n",
    "    print(f\"  MAE:  {mae:.6f}\")\n",
    "    print(f\"  R²:   {r2:.6f}\")\n",
    "\n",
    "evaluate(y_test_stats, y_pred_xgb, label=\"XGBoost Stats Baseline\")"
   ]
  },
  {
   "cell_type": "markdown",
   "id": "86789c01",
   "metadata": {
    "id": "0ZExlcmtKJGn",
    "papermill": {
     "duration": 0.268247,
     "end_time": "2025-08-29T20:08:49.009043",
     "exception": false,
     "start_time": "2025-08-29T20:08:48.740796",
     "status": "completed"
    },
    "tags": []
   },
   "source": [
    "Attention + GRU model"
   ]
  },
  {
   "cell_type": "code",
   "execution_count": 21,
   "id": "d1f0f160",
   "metadata": {
    "execution": {
     "iopub.execute_input": "2025-08-29T20:08:49.597527Z",
     "iopub.status.busy": "2025-08-29T20:08:49.597175Z",
     "iopub.status.idle": "2025-08-29T21:01:12.529294Z",
     "shell.execute_reply": "2025-08-29T21:01:12.528548Z"
    },
    "id": "ESxex91kKL9w",
    "papermill": {
     "duration": 3144.777687,
     "end_time": "2025-08-29T21:01:14.051899",
     "exception": false,
     "start_time": "2025-08-29T20:08:49.274212",
     "status": "completed"
    },
    "tags": []
   },
   "outputs": [
    {
     "name": "stderr",
     "output_type": "stream",
     "text": [
      "Epoch 1/50: 100%|██████████| 4576/4576 [01:08<00:00, 67.05it/s]\n"
     ]
    },
    {
     "name": "stdout",
     "output_type": "stream",
     "text": [
      "Epoch 1 - Loss: 0.759172\n"
     ]
    },
    {
     "name": "stderr",
     "output_type": "stream",
     "text": [
      "Epoch 2/50: 100%|██████████| 4576/4576 [01:05<00:00, 69.99it/s]\n"
     ]
    },
    {
     "name": "stdout",
     "output_type": "stream",
     "text": [
      "Epoch 2 - Loss: 0.732534\n"
     ]
    },
    {
     "name": "stderr",
     "output_type": "stream",
     "text": [
      "Epoch 3/50: 100%|██████████| 4576/4576 [01:04<00:00, 70.43it/s]\n"
     ]
    },
    {
     "name": "stdout",
     "output_type": "stream",
     "text": [
      "Epoch 3 - Loss: 0.720483\n"
     ]
    },
    {
     "name": "stderr",
     "output_type": "stream",
     "text": [
      "Epoch 4/50: 100%|██████████| 4576/4576 [01:04<00:00, 70.74it/s]\n"
     ]
    },
    {
     "name": "stdout",
     "output_type": "stream",
     "text": [
      "Epoch 4 - Loss: 0.712610\n"
     ]
    },
    {
     "name": "stderr",
     "output_type": "stream",
     "text": [
      "Epoch 5/50: 100%|██████████| 4576/4576 [01:04<00:00, 70.65it/s]\n"
     ]
    },
    {
     "name": "stdout",
     "output_type": "stream",
     "text": [
      "Epoch 5 - Loss: 0.707427\n"
     ]
    },
    {
     "name": "stderr",
     "output_type": "stream",
     "text": [
      "Epoch 6/50: 100%|██████████| 4576/4576 [01:03<00:00, 71.94it/s]\n"
     ]
    },
    {
     "name": "stdout",
     "output_type": "stream",
     "text": [
      "Epoch 6 - Loss: 0.701615\n"
     ]
    },
    {
     "name": "stderr",
     "output_type": "stream",
     "text": [
      "Epoch 7/50: 100%|██████████| 4576/4576 [01:01<00:00, 74.02it/s]\n"
     ]
    },
    {
     "name": "stdout",
     "output_type": "stream",
     "text": [
      "Epoch 7 - Loss: 0.699113\n"
     ]
    },
    {
     "name": "stderr",
     "output_type": "stream",
     "text": [
      "Epoch 8/50: 100%|██████████| 4576/4576 [01:01<00:00, 74.01it/s]\n"
     ]
    },
    {
     "name": "stdout",
     "output_type": "stream",
     "text": [
      "Epoch 8 - Loss: 0.694372\n"
     ]
    },
    {
     "name": "stderr",
     "output_type": "stream",
     "text": [
      "Epoch 9/50: 100%|██████████| 4576/4576 [01:01<00:00, 74.21it/s]\n"
     ]
    },
    {
     "name": "stdout",
     "output_type": "stream",
     "text": [
      "Epoch 9 - Loss: 0.690603\n"
     ]
    },
    {
     "name": "stderr",
     "output_type": "stream",
     "text": [
      "Epoch 10/50: 100%|██████████| 4576/4576 [01:01<00:00, 73.96it/s]\n"
     ]
    },
    {
     "name": "stdout",
     "output_type": "stream",
     "text": [
      "Epoch 10 - Loss: 0.687521\n"
     ]
    },
    {
     "name": "stderr",
     "output_type": "stream",
     "text": [
      "Epoch 11/50: 100%|██████████| 4576/4576 [01:01<00:00, 74.14it/s]\n"
     ]
    },
    {
     "name": "stdout",
     "output_type": "stream",
     "text": [
      "Epoch 11 - Loss: 0.684125\n"
     ]
    },
    {
     "name": "stderr",
     "output_type": "stream",
     "text": [
      "Epoch 12/50: 100%|██████████| 4576/4576 [01:01<00:00, 74.15it/s]\n"
     ]
    },
    {
     "name": "stdout",
     "output_type": "stream",
     "text": [
      "Epoch 12 - Loss: 0.681553\n"
     ]
    },
    {
     "name": "stderr",
     "output_type": "stream",
     "text": [
      "Epoch 13/50: 100%|██████████| 4576/4576 [01:01<00:00, 74.06it/s]\n"
     ]
    },
    {
     "name": "stdout",
     "output_type": "stream",
     "text": [
      "Epoch 13 - Loss: 0.679833\n"
     ]
    },
    {
     "name": "stderr",
     "output_type": "stream",
     "text": [
      "Epoch 14/50: 100%|██████████| 4576/4576 [01:01<00:00, 74.15it/s]\n"
     ]
    },
    {
     "name": "stdout",
     "output_type": "stream",
     "text": [
      "Epoch 14 - Loss: 0.678537\n"
     ]
    },
    {
     "name": "stderr",
     "output_type": "stream",
     "text": [
      "Epoch 15/50: 100%|██████████| 4576/4576 [01:01<00:00, 74.23it/s]\n"
     ]
    },
    {
     "name": "stdout",
     "output_type": "stream",
     "text": [
      "Epoch 15 - Loss: 0.676834\n"
     ]
    },
    {
     "name": "stderr",
     "output_type": "stream",
     "text": [
      "Epoch 16/50: 100%|██████████| 4576/4576 [01:01<00:00, 73.93it/s]\n"
     ]
    },
    {
     "name": "stdout",
     "output_type": "stream",
     "text": [
      "Epoch 16 - Loss: 0.674791\n"
     ]
    },
    {
     "name": "stderr",
     "output_type": "stream",
     "text": [
      "Epoch 17/50: 100%|██████████| 4576/4576 [01:01<00:00, 73.81it/s]\n"
     ]
    },
    {
     "name": "stdout",
     "output_type": "stream",
     "text": [
      "Epoch 17 - Loss: 0.672197\n"
     ]
    },
    {
     "name": "stderr",
     "output_type": "stream",
     "text": [
      "Epoch 18/50: 100%|██████████| 4576/4576 [01:03<00:00, 71.92it/s]\n"
     ]
    },
    {
     "name": "stdout",
     "output_type": "stream",
     "text": [
      "Epoch 18 - Loss: 0.670922\n"
     ]
    },
    {
     "name": "stderr",
     "output_type": "stream",
     "text": [
      "Epoch 19/50: 100%|██████████| 4576/4576 [01:03<00:00, 72.13it/s]\n"
     ]
    },
    {
     "name": "stdout",
     "output_type": "stream",
     "text": [
      "Epoch 19 - Loss: 0.669736\n"
     ]
    },
    {
     "name": "stderr",
     "output_type": "stream",
     "text": [
      "Epoch 20/50: 100%|██████████| 4576/4576 [01:02<00:00, 73.12it/s]\n"
     ]
    },
    {
     "name": "stdout",
     "output_type": "stream",
     "text": [
      "Epoch 20 - Loss: 0.669233\n"
     ]
    },
    {
     "name": "stderr",
     "output_type": "stream",
     "text": [
      "Epoch 21/50: 100%|██████████| 4576/4576 [01:01<00:00, 74.17it/s]\n"
     ]
    },
    {
     "name": "stdout",
     "output_type": "stream",
     "text": [
      "Epoch 21 - Loss: 0.667930\n"
     ]
    },
    {
     "name": "stderr",
     "output_type": "stream",
     "text": [
      "Epoch 22/50: 100%|██████████| 4576/4576 [01:01<00:00, 74.15it/s]\n"
     ]
    },
    {
     "name": "stdout",
     "output_type": "stream",
     "text": [
      "Epoch 22 - Loss: 0.666945\n"
     ]
    },
    {
     "name": "stderr",
     "output_type": "stream",
     "text": [
      "Epoch 23/50: 100%|██████████| 4576/4576 [01:01<00:00, 73.93it/s]\n"
     ]
    },
    {
     "name": "stdout",
     "output_type": "stream",
     "text": [
      "Epoch 23 - Loss: 0.665610\n"
     ]
    },
    {
     "name": "stderr",
     "output_type": "stream",
     "text": [
      "Epoch 24/50: 100%|██████████| 4576/4576 [01:01<00:00, 74.27it/s]\n"
     ]
    },
    {
     "name": "stdout",
     "output_type": "stream",
     "text": [
      "Epoch 24 - Loss: 0.667258\n"
     ]
    },
    {
     "name": "stderr",
     "output_type": "stream",
     "text": [
      "Epoch 25/50: 100%|██████████| 4576/4576 [01:02<00:00, 72.88it/s]\n"
     ]
    },
    {
     "name": "stdout",
     "output_type": "stream",
     "text": [
      "Epoch 25 - Loss: 0.665823\n"
     ]
    },
    {
     "name": "stderr",
     "output_type": "stream",
     "text": [
      "Epoch 26/50: 100%|██████████| 4576/4576 [01:01<00:00, 73.83it/s]\n"
     ]
    },
    {
     "name": "stdout",
     "output_type": "stream",
     "text": [
      "Epoch 26 - Loss: 0.666673\n"
     ]
    },
    {
     "name": "stderr",
     "output_type": "stream",
     "text": [
      "Epoch 27/50: 100%|██████████| 4576/4576 [01:01<00:00, 74.35it/s]\n"
     ]
    },
    {
     "name": "stdout",
     "output_type": "stream",
     "text": [
      "Epoch 27 - Loss: 0.664469\n"
     ]
    },
    {
     "name": "stderr",
     "output_type": "stream",
     "text": [
      "Epoch 28/50: 100%|██████████| 4576/4576 [01:02<00:00, 72.82it/s]\n"
     ]
    },
    {
     "name": "stdout",
     "output_type": "stream",
     "text": [
      "Epoch 28 - Loss: 0.664427\n"
     ]
    },
    {
     "name": "stderr",
     "output_type": "stream",
     "text": [
      "Epoch 29/50: 100%|██████████| 4576/4576 [01:02<00:00, 73.00it/s]\n"
     ]
    },
    {
     "name": "stdout",
     "output_type": "stream",
     "text": [
      "Epoch 29 - Loss: 0.662932\n"
     ]
    },
    {
     "name": "stderr",
     "output_type": "stream",
     "text": [
      "Epoch 30/50: 100%|██████████| 4576/4576 [01:02<00:00, 72.91it/s]\n"
     ]
    },
    {
     "name": "stdout",
     "output_type": "stream",
     "text": [
      "Epoch 30 - Loss: 0.661474\n"
     ]
    },
    {
     "name": "stderr",
     "output_type": "stream",
     "text": [
      "Epoch 31/50: 100%|██████████| 4576/4576 [01:01<00:00, 74.35it/s]\n"
     ]
    },
    {
     "name": "stdout",
     "output_type": "stream",
     "text": [
      "Epoch 31 - Loss: 0.661248\n"
     ]
    },
    {
     "name": "stderr",
     "output_type": "stream",
     "text": [
      "Epoch 32/50: 100%|██████████| 4576/4576 [01:01<00:00, 74.25it/s]\n"
     ]
    },
    {
     "name": "stdout",
     "output_type": "stream",
     "text": [
      "Epoch 32 - Loss: 0.661331\n"
     ]
    },
    {
     "name": "stderr",
     "output_type": "stream",
     "text": [
      "Epoch 33/50: 100%|██████████| 4576/4576 [01:01<00:00, 74.02it/s]\n"
     ]
    },
    {
     "name": "stdout",
     "output_type": "stream",
     "text": [
      "Epoch 33 - Loss: 0.661568\n"
     ]
    },
    {
     "name": "stderr",
     "output_type": "stream",
     "text": [
      "Epoch 34/50: 100%|██████████| 4576/4576 [01:02<00:00, 73.37it/s]\n"
     ]
    },
    {
     "name": "stdout",
     "output_type": "stream",
     "text": [
      "Epoch 34 - Loss: 0.660355\n"
     ]
    },
    {
     "name": "stderr",
     "output_type": "stream",
     "text": [
      "Epoch 35/50: 100%|██████████| 4576/4576 [01:01<00:00, 74.23it/s]\n"
     ]
    },
    {
     "name": "stdout",
     "output_type": "stream",
     "text": [
      "Epoch 35 - Loss: 0.658236\n"
     ]
    },
    {
     "name": "stderr",
     "output_type": "stream",
     "text": [
      "Epoch 36/50: 100%|██████████| 4576/4576 [01:01<00:00, 74.13it/s]\n"
     ]
    },
    {
     "name": "stdout",
     "output_type": "stream",
     "text": [
      "Epoch 36 - Loss: 0.658664\n"
     ]
    },
    {
     "name": "stderr",
     "output_type": "stream",
     "text": [
      "Epoch 37/50: 100%|██████████| 4576/4576 [01:01<00:00, 74.23it/s]\n"
     ]
    },
    {
     "name": "stdout",
     "output_type": "stream",
     "text": [
      "Epoch 37 - Loss: 0.659713\n"
     ]
    },
    {
     "name": "stderr",
     "output_type": "stream",
     "text": [
      "Epoch 38/50: 100%|██████████| 4576/4576 [01:01<00:00, 74.07it/s]\n"
     ]
    },
    {
     "name": "stdout",
     "output_type": "stream",
     "text": [
      "Epoch 38 - Loss: 0.659926\n"
     ]
    },
    {
     "name": "stderr",
     "output_type": "stream",
     "text": [
      "Epoch 39/50: 100%|██████████| 4576/4576 [01:01<00:00, 73.99it/s]\n"
     ]
    },
    {
     "name": "stdout",
     "output_type": "stream",
     "text": [
      "Epoch 39 - Loss: 0.660896\n"
     ]
    },
    {
     "name": "stderr",
     "output_type": "stream",
     "text": [
      "Epoch 40/50: 100%|██████████| 4576/4576 [01:01<00:00, 74.23it/s]\n"
     ]
    },
    {
     "name": "stdout",
     "output_type": "stream",
     "text": [
      "Epoch 40 - Loss: 0.658795\n"
     ]
    },
    {
     "name": "stderr",
     "output_type": "stream",
     "text": [
      "Epoch 41/50: 100%|██████████| 4576/4576 [01:01<00:00, 74.15it/s]\n"
     ]
    },
    {
     "name": "stdout",
     "output_type": "stream",
     "text": [
      "Epoch 41 - Loss: 0.658872\n"
     ]
    },
    {
     "name": "stderr",
     "output_type": "stream",
     "text": [
      "Epoch 42/50: 100%|██████████| 4576/4576 [01:01<00:00, 73.97it/s]\n"
     ]
    },
    {
     "name": "stdout",
     "output_type": "stream",
     "text": [
      "Epoch 42 - Loss: 0.659135\n"
     ]
    },
    {
     "name": "stderr",
     "output_type": "stream",
     "text": [
      "Epoch 43/50: 100%|██████████| 4576/4576 [01:02<00:00, 73.71it/s]\n"
     ]
    },
    {
     "name": "stdout",
     "output_type": "stream",
     "text": [
      "Epoch 43 - Loss: 0.661522\n"
     ]
    },
    {
     "name": "stderr",
     "output_type": "stream",
     "text": [
      "Epoch 44/50: 100%|██████████| 4576/4576 [01:01<00:00, 74.11it/s]\n"
     ]
    },
    {
     "name": "stdout",
     "output_type": "stream",
     "text": [
      "Epoch 44 - Loss: 0.661230\n"
     ]
    },
    {
     "name": "stderr",
     "output_type": "stream",
     "text": [
      "Epoch 45/50: 100%|██████████| 4576/4576 [01:01<00:00, 74.27it/s]\n"
     ]
    },
    {
     "name": "stdout",
     "output_type": "stream",
     "text": [
      "Epoch 45 - Loss: 0.659073\n"
     ]
    },
    {
     "name": "stderr",
     "output_type": "stream",
     "text": [
      "Epoch 46/50: 100%|██████████| 4576/4576 [01:01<00:00, 74.04it/s]\n"
     ]
    },
    {
     "name": "stdout",
     "output_type": "stream",
     "text": [
      "Epoch 46 - Loss: 0.658388\n"
     ]
    },
    {
     "name": "stderr",
     "output_type": "stream",
     "text": [
      "Epoch 47/50: 100%|██████████| 4576/4576 [01:03<00:00, 72.63it/s]\n"
     ]
    },
    {
     "name": "stdout",
     "output_type": "stream",
     "text": [
      "Epoch 47 - Loss: 0.657900\n"
     ]
    },
    {
     "name": "stderr",
     "output_type": "stream",
     "text": [
      "Epoch 48/50: 100%|██████████| 4576/4576 [01:02<00:00, 73.37it/s]\n"
     ]
    },
    {
     "name": "stdout",
     "output_type": "stream",
     "text": [
      "Epoch 48 - Loss: 0.657365\n"
     ]
    },
    {
     "name": "stderr",
     "output_type": "stream",
     "text": [
      "Epoch 49/50: 100%|██████████| 4576/4576 [01:02<00:00, 73.73it/s]\n"
     ]
    },
    {
     "name": "stdout",
     "output_type": "stream",
     "text": [
      "Epoch 49 - Loss: 0.658217\n"
     ]
    },
    {
     "name": "stderr",
     "output_type": "stream",
     "text": [
      "Epoch 50/50: 100%|██████████| 4576/4576 [01:02<00:00, 73.65it/s]\n"
     ]
    },
    {
     "name": "stdout",
     "output_type": "stream",
     "text": [
      "Epoch 50 - Loss: 0.659178\n",
      "\n",
      "📊 GRU + Attention Evaluation:\n",
      "  MSE:  2.138222\n",
      "  RMSE: 1.462266\n",
      "  MAE:  0.645799\n",
      "  R²:   0.161661\n"
     ]
    }
   ],
   "source": [
    "import torch\n",
    "import torch.nn as nn\n",
    "from torch.utils.data import Dataset, DataLoader\n",
    "import numpy as np\n",
    "from tqdm import tqdm\n",
    "from sklearn.metrics import mean_squared_error, mean_absolute_error, r2_score\n",
    "\n",
    "# === Config ===\n",
    "L = train_ds.L   # Lookback\n",
    "O = train_ds.O   # Offset\n",
    "IV_COL = -1      # IV is last column\n",
    "BATCH_SIZE = 128\n",
    "HIDDEN_SIZE = 64\n",
    "EPOCHS = 50\n",
    "LR = 1e-3\n",
    "DEVICE = torch.device(\"cuda\" if torch.cuda.is_available() else \"cpu\")\n",
    "\n",
    "# === Custom Dataset ===\n",
    "class IVDataset(Dataset):\n",
    "    def __init__(self, X, idxs, lookback, offset, label_col):\n",
    "        self.X = X\n",
    "        self.idxs = idxs\n",
    "        self.L = lookback\n",
    "        self.O = offset\n",
    "        self.label_col = label_col\n",
    "        self.valid_idxs = idxs[(idxs >= self.L - 1) & (idxs + self.O < len(X))]\n",
    "\n",
    "    def __len__(self):\n",
    "        return len(self.valid_idxs)\n",
    "\n",
    "    def __getitem__(self, i):\n",
    "        t = self.valid_idxs[i]\n",
    "        window = self.X[t - self.L + 1 : t + 1]  # shape: [L, F]\n",
    "        label = self.X[t + self.O, self.label_col]\n",
    "        return torch.tensor(window, dtype=torch.float32), torch.tensor(label, dtype=torch.float32)\n",
    "\n",
    "# === Attention + GRU Model ===\n",
    "class AttentionGRU(nn.Module):\n",
    "    def __init__(self, input_size, hidden_size):\n",
    "        super().__init__()\n",
    "        self.gru = nn.GRU(input_size, hidden_size, batch_first=True)\n",
    "        self.attn = nn.Linear(hidden_size, 1)\n",
    "        self.fc = nn.Sequential(\n",
    "            nn.Linear(hidden_size, 64),\n",
    "            nn.ReLU(),\n",
    "            nn.Linear(64, 1)\n",
    "        )\n",
    "\n",
    "    def forward(self, x):\n",
    "        gru_out, _ = self.gru(x)  # [B, L, H]\n",
    "        attn_weights = torch.softmax(self.attn(gru_out), dim=1)  # [B, L, 1]\n",
    "        context = torch.sum(attn_weights * gru_out, dim=1)       # [B, H]\n",
    "        return self.fc(context).squeeze(1)\n",
    "\n",
    "# === Build datasets and loaders ===\n",
    "train_dataset = IVDataset(train_ds.X, train_ds.idxs, L, O, IV_COL)\n",
    "test_dataset = IVDataset(test_ds.X, test_ds.idxs, L, O, IV_COL)\n",
    "\n",
    "train_loader = DataLoader(train_dataset, batch_size=BATCH_SIZE, shuffle=True)\n",
    "test_loader = DataLoader(test_dataset, batch_size=BATCH_SIZE)\n",
    "\n",
    "# === Train function ===\n",
    "def train_model(model, train_loader, optimizer, criterion, device):\n",
    "    model.train()\n",
    "    import os, glob, re\n",
    "    os.makedirs('checkpoints', exist_ok=True)\n",
    "    model_name = model.__class__.__name__\n",
    "    ckpt_dir = os.path.join('checkpoints', f'torch_{model_name}')\n",
    "    os.makedirs(ckpt_dir, exist_ok=True)\n",
    "    start_epoch = 0\n",
    "    latest_epoch = 0\n",
    "    ckpts = glob.glob(os.path.join(ckpt_dir, 'epoch_*.pt'))\n",
    "    if ckpts:\n",
    "        def _ep(p):\n",
    "            m = re.search(r'epoch_(\\d+)\\.pt', os.path.basename(p))\n",
    "            return int(m.group(1)) if m else 0\n",
    "        latest = max(ckpts, key=_ep)\n",
    "        latest_epoch = _ep(latest)\n",
    "        try:\n",
    "            state = torch.load(latest, map_location=device)\n",
    "            model.load_state_dict(state['model'])\n",
    "            if optimizer is not None and state.get('optimizer') is not None:\n",
    "                optimizer.load_state_dict(state['optimizer'])\n",
    "            start_epoch = latest_epoch\n",
    "            print(f\"Resuming from {latest} at epoch {start_epoch}\")\n",
    "        except Exception as e:\n",
    "            print(f\"Could not load checkpoint {latest} due to {e}\")\n",
    "    for epoch in range(start_epoch, EPOCHS):\n",
    "        total_loss = 0\n",
    "        for x_batch, y_batch in tqdm(train_loader, desc=f\"Epoch {epoch+1}/{EPOCHS}\"):\n",
    "            x_batch = x_batch.to(device)\n",
    "            y_batch = y_batch.to(device)\n",
    "\n",
    "            optimizer.zero_grad()\n",
    "            preds = model(x_batch)\n",
    "            loss = criterion(preds, y_batch)\n",
    "            loss.backward()\n",
    "            torch.nn.utils.clip_grad_norm_(model.parameters(), 1.0)\n",
    "            optimizer.step()\n",
    "            total_loss += loss.item() * x_batch.size(0)\n",
    "\n",
    "        # checkpoint save every 10 epochs and at the end\n",
    "        if ((epoch + 1) % 10 == 0) or ((epoch + 1) == EPOCHS):\n",
    "            ckpt_path = os.path.join(ckpt_dir, f\"epoch_{epoch+1}.pt\")\n",
    "            torch.save({\n",
    "                'epoch': epoch + 1,\n",
    "                'model': model.state_dict(),\n",
    "                'optimizer': optimizer.state_dict() if optimizer is not None else None\n",
    "            }, ckpt_path)\n",
    "            print(f\"Saved checkpoint: {ckpt_path}\")\n",
    "        print(f\"Epoch {epoch+1} - Loss: {total_loss / len(train_loader.dataset):.6f}\")\n",
    "    # save final artifacts to Kaggle working and current directory\n",
    "    try:\n",
    "        save_model_artifacts_torch(model, optimizer=optimizer, final_epoch=EPOCHS)\n",
    "    except Exception as e:\n",
    "        print(f'Final save failed: {e}')\n",
    "# === Evaluate function ===\n",
    "def evaluate_model(model, test_loader, device):\n",
    "    model.eval()\n",
    "    y_true, y_pred = [], []\n",
    "    with torch.no_grad():\n",
    "        for x_batch, y_batch in test_loader:\n",
    "            x_batch = x_batch.to(device)\n",
    "            preds = model(x_batch).cpu().numpy()\n",
    "            y_true.extend(y_batch.numpy())\n",
    "            y_pred.extend(preds)\n",
    "\n",
    "    mse = mean_squared_error(y_true, y_pred)\n",
    "    rmse = np.sqrt(mse)\n",
    "    mae = mean_absolute_error(y_true, y_pred)\n",
    "    r2 = r2_score(y_true, y_pred)\n",
    "\n",
    "    print(f\"\\n📊 GRU + Attention Evaluation:\")\n",
    "    print(f\"  MSE:  {mse:.6f}\")\n",
    "    print(f\"  RMSE: {rmse:.6f}\")\n",
    "    print(f\"  MAE:  {mae:.6f}\")\n",
    "    print(f\"  R²:   {r2:.6f}\")\n",
    "# === Run Training ===\n",
    "input_size = train_ds.X.shape[1]\n",
    "model = AttentionGRU(input_size=input_size, hidden_size=HIDDEN_SIZE).to(DEVICE)\n",
    "optimizer = torch.optim.AdamW(model.parameters(), lr=LR, weight_decay=1e-4)\n",
    "criterion = nn.MSELoss()\n",
    "\n",
    "train_model(model, train_loader, optimizer, criterion, DEVICE)\n",
    "evaluate_model(model, test_loader, DEVICE)"
   ]
  },
  {
   "cell_type": "markdown",
   "id": "78b06c8a",
   "metadata": {
    "id": "MOFHxYznePdi",
    "papermill": {
     "duration": 1.49917,
     "end_time": "2025-08-29T21:01:17.049119",
     "exception": false,
     "start_time": "2025-08-29T21:01:15.549949",
     "status": "completed"
    },
    "tags": []
   },
   "source": [
    "Bidirectional GRU model"
   ]
  },
  {
   "cell_type": "code",
   "execution_count": 22,
   "id": "e219bd31",
   "metadata": {
    "execution": {
     "iopub.execute_input": "2025-08-29T21:01:20.131925Z",
     "iopub.status.busy": "2025-08-29T21:01:20.130973Z",
     "iopub.status.idle": "2025-08-29T21:58:29.832585Z",
     "shell.execute_reply": "2025-08-29T21:58:29.831850Z"
    },
    "id": "ewZvHasEeS75",
    "papermill": {
     "duration": 3431.288375,
     "end_time": "2025-08-29T21:58:29.833933",
     "exception": false,
     "start_time": "2025-08-29T21:01:18.545558",
     "status": "completed"
    },
    "tags": []
   },
   "outputs": [
    {
     "name": "stderr",
     "output_type": "stream",
     "text": [
      "Epoch 1/50: 100%|██████████| 4576/4576 [01:07<00:00, 67.59it/s]\n"
     ]
    },
    {
     "name": "stdout",
     "output_type": "stream",
     "text": [
      "Epoch 1 - Loss: 0.747958\n"
     ]
    },
    {
     "name": "stderr",
     "output_type": "stream",
     "text": [
      "Epoch 2/50: 100%|██████████| 4576/4576 [01:08<00:00, 67.28it/s]\n"
     ]
    },
    {
     "name": "stdout",
     "output_type": "stream",
     "text": [
      "Epoch 2 - Loss: 0.723949\n"
     ]
    },
    {
     "name": "stderr",
     "output_type": "stream",
     "text": [
      "Epoch 3/50: 100%|██████████| 4576/4576 [01:07<00:00, 67.55it/s]\n"
     ]
    },
    {
     "name": "stdout",
     "output_type": "stream",
     "text": [
      "Epoch 3 - Loss: 0.712634\n"
     ]
    },
    {
     "name": "stderr",
     "output_type": "stream",
     "text": [
      "Epoch 4/50: 100%|██████████| 4576/4576 [01:07<00:00, 67.65it/s]\n"
     ]
    },
    {
     "name": "stdout",
     "output_type": "stream",
     "text": [
      "Epoch 4 - Loss: 0.703072\n"
     ]
    },
    {
     "name": "stderr",
     "output_type": "stream",
     "text": [
      "Epoch 5/50: 100%|██████████| 4576/4576 [01:07<00:00, 67.54it/s]\n"
     ]
    },
    {
     "name": "stdout",
     "output_type": "stream",
     "text": [
      "Epoch 5 - Loss: 0.696016\n"
     ]
    },
    {
     "name": "stderr",
     "output_type": "stream",
     "text": [
      "Epoch 6/50: 100%|██████████| 4576/4576 [01:07<00:00, 67.35it/s]\n"
     ]
    },
    {
     "name": "stdout",
     "output_type": "stream",
     "text": [
      "Epoch 6 - Loss: 0.690519\n"
     ]
    },
    {
     "name": "stderr",
     "output_type": "stream",
     "text": [
      "Epoch 7/50: 100%|██████████| 4576/4576 [01:08<00:00, 66.45it/s]\n"
     ]
    },
    {
     "name": "stdout",
     "output_type": "stream",
     "text": [
      "Epoch 7 - Loss: 0.683990\n"
     ]
    },
    {
     "name": "stderr",
     "output_type": "stream",
     "text": [
      "Epoch 8/50: 100%|██████████| 4576/4576 [01:08<00:00, 66.58it/s]\n"
     ]
    },
    {
     "name": "stdout",
     "output_type": "stream",
     "text": [
      "Epoch 8 - Loss: 0.678142\n"
     ]
    },
    {
     "name": "stderr",
     "output_type": "stream",
     "text": [
      "Epoch 9/50: 100%|██████████| 4576/4576 [01:08<00:00, 67.24it/s]\n"
     ]
    },
    {
     "name": "stdout",
     "output_type": "stream",
     "text": [
      "Epoch 9 - Loss: 0.673676\n"
     ]
    },
    {
     "name": "stderr",
     "output_type": "stream",
     "text": [
      "Epoch 10/50: 100%|██████████| 4576/4576 [01:07<00:00, 67.49it/s]\n"
     ]
    },
    {
     "name": "stdout",
     "output_type": "stream",
     "text": [
      "Epoch 10 - Loss: 0.668947\n"
     ]
    },
    {
     "name": "stderr",
     "output_type": "stream",
     "text": [
      "Epoch 11/50: 100%|██████████| 4576/4576 [01:07<00:00, 67.59it/s]\n"
     ]
    },
    {
     "name": "stdout",
     "output_type": "stream",
     "text": [
      "Epoch 11 - Loss: 0.664103\n"
     ]
    },
    {
     "name": "stderr",
     "output_type": "stream",
     "text": [
      "Epoch 12/50: 100%|██████████| 4576/4576 [01:07<00:00, 67.65it/s]\n"
     ]
    },
    {
     "name": "stdout",
     "output_type": "stream",
     "text": [
      "Epoch 12 - Loss: 0.660728\n"
     ]
    },
    {
     "name": "stderr",
     "output_type": "stream",
     "text": [
      "Epoch 13/50: 100%|██████████| 4576/4576 [01:07<00:00, 67.81it/s]\n"
     ]
    },
    {
     "name": "stdout",
     "output_type": "stream",
     "text": [
      "Epoch 13 - Loss: 0.656189\n"
     ]
    },
    {
     "name": "stderr",
     "output_type": "stream",
     "text": [
      "Epoch 14/50: 100%|██████████| 4576/4576 [01:07<00:00, 67.42it/s]\n"
     ]
    },
    {
     "name": "stdout",
     "output_type": "stream",
     "text": [
      "Epoch 14 - Loss: 0.651805\n"
     ]
    },
    {
     "name": "stderr",
     "output_type": "stream",
     "text": [
      "Epoch 15/50: 100%|██████████| 4576/4576 [01:08<00:00, 67.21it/s]\n"
     ]
    },
    {
     "name": "stdout",
     "output_type": "stream",
     "text": [
      "Epoch 15 - Loss: 0.648241\n"
     ]
    },
    {
     "name": "stderr",
     "output_type": "stream",
     "text": [
      "Epoch 16/50: 100%|██████████| 4576/4576 [01:07<00:00, 67.47it/s]\n"
     ]
    },
    {
     "name": "stdout",
     "output_type": "stream",
     "text": [
      "Epoch 16 - Loss: 0.645568\n"
     ]
    },
    {
     "name": "stderr",
     "output_type": "stream",
     "text": [
      "Epoch 17/50: 100%|██████████| 4576/4576 [01:07<00:00, 67.44it/s]\n"
     ]
    },
    {
     "name": "stdout",
     "output_type": "stream",
     "text": [
      "Epoch 17 - Loss: 0.642837\n"
     ]
    },
    {
     "name": "stderr",
     "output_type": "stream",
     "text": [
      "Epoch 18/50: 100%|██████████| 4576/4576 [01:07<00:00, 67.44it/s]\n"
     ]
    },
    {
     "name": "stdout",
     "output_type": "stream",
     "text": [
      "Epoch 18 - Loss: 0.639003\n"
     ]
    },
    {
     "name": "stderr",
     "output_type": "stream",
     "text": [
      "Epoch 19/50: 100%|██████████| 4576/4576 [01:07<00:00, 67.75it/s]\n"
     ]
    },
    {
     "name": "stdout",
     "output_type": "stream",
     "text": [
      "Epoch 19 - Loss: 0.634026\n"
     ]
    },
    {
     "name": "stderr",
     "output_type": "stream",
     "text": [
      "Epoch 20/50: 100%|██████████| 4576/4576 [01:07<00:00, 67.44it/s]\n"
     ]
    },
    {
     "name": "stdout",
     "output_type": "stream",
     "text": [
      "Epoch 20 - Loss: 0.631903\n"
     ]
    },
    {
     "name": "stderr",
     "output_type": "stream",
     "text": [
      "Epoch 21/50: 100%|██████████| 4576/4576 [01:07<00:00, 67.50it/s]\n"
     ]
    },
    {
     "name": "stdout",
     "output_type": "stream",
     "text": [
      "Epoch 21 - Loss: 0.630495\n"
     ]
    },
    {
     "name": "stderr",
     "output_type": "stream",
     "text": [
      "Epoch 22/50: 100%|██████████| 4576/4576 [01:08<00:00, 67.11it/s]\n"
     ]
    },
    {
     "name": "stdout",
     "output_type": "stream",
     "text": [
      "Epoch 22 - Loss: 0.627839\n"
     ]
    },
    {
     "name": "stderr",
     "output_type": "stream",
     "text": [
      "Epoch 23/50: 100%|██████████| 4576/4576 [01:07<00:00, 67.47it/s]\n"
     ]
    },
    {
     "name": "stdout",
     "output_type": "stream",
     "text": [
      "Epoch 23 - Loss: 0.626766\n"
     ]
    },
    {
     "name": "stderr",
     "output_type": "stream",
     "text": [
      "Epoch 24/50: 100%|██████████| 4576/4576 [01:07<00:00, 67.42it/s]\n"
     ]
    },
    {
     "name": "stdout",
     "output_type": "stream",
     "text": [
      "Epoch 24 - Loss: 0.622338\n"
     ]
    },
    {
     "name": "stderr",
     "output_type": "stream",
     "text": [
      "Epoch 25/50: 100%|██████████| 4576/4576 [01:08<00:00, 67.07it/s]\n"
     ]
    },
    {
     "name": "stdout",
     "output_type": "stream",
     "text": [
      "Epoch 25 - Loss: 0.621161\n"
     ]
    },
    {
     "name": "stderr",
     "output_type": "stream",
     "text": [
      "Epoch 26/50: 100%|██████████| 4576/4576 [01:09<00:00, 66.19it/s]\n"
     ]
    },
    {
     "name": "stdout",
     "output_type": "stream",
     "text": [
      "Epoch 26 - Loss: 0.620793\n"
     ]
    },
    {
     "name": "stderr",
     "output_type": "stream",
     "text": [
      "Epoch 27/50: 100%|██████████| 4576/4576 [01:08<00:00, 66.69it/s]\n"
     ]
    },
    {
     "name": "stdout",
     "output_type": "stream",
     "text": [
      "Epoch 27 - Loss: 0.616635\n"
     ]
    },
    {
     "name": "stderr",
     "output_type": "stream",
     "text": [
      "Epoch 28/50: 100%|██████████| 4576/4576 [01:08<00:00, 66.78it/s]\n"
     ]
    },
    {
     "name": "stdout",
     "output_type": "stream",
     "text": [
      "Epoch 28 - Loss: 0.615698\n"
     ]
    },
    {
     "name": "stderr",
     "output_type": "stream",
     "text": [
      "Epoch 29/50: 100%|██████████| 4576/4576 [01:08<00:00, 66.75it/s]\n"
     ]
    },
    {
     "name": "stdout",
     "output_type": "stream",
     "text": [
      "Epoch 29 - Loss: 0.615315\n"
     ]
    },
    {
     "name": "stderr",
     "output_type": "stream",
     "text": [
      "Epoch 30/50: 100%|██████████| 4576/4576 [01:08<00:00, 66.64it/s]\n"
     ]
    },
    {
     "name": "stdout",
     "output_type": "stream",
     "text": [
      "Epoch 30 - Loss: 0.612904\n"
     ]
    },
    {
     "name": "stderr",
     "output_type": "stream",
     "text": [
      "Epoch 31/50: 100%|██████████| 4576/4576 [01:08<00:00, 66.74it/s]\n"
     ]
    },
    {
     "name": "stdout",
     "output_type": "stream",
     "text": [
      "Epoch 31 - Loss: 0.611946\n"
     ]
    },
    {
     "name": "stderr",
     "output_type": "stream",
     "text": [
      "Epoch 32/50: 100%|██████████| 4576/4576 [01:08<00:00, 66.82it/s]\n"
     ]
    },
    {
     "name": "stdout",
     "output_type": "stream",
     "text": [
      "Epoch 32 - Loss: 0.608274\n"
     ]
    },
    {
     "name": "stderr",
     "output_type": "stream",
     "text": [
      "Epoch 33/50: 100%|██████████| 4576/4576 [01:08<00:00, 66.86it/s]\n"
     ]
    },
    {
     "name": "stdout",
     "output_type": "stream",
     "text": [
      "Epoch 33 - Loss: 0.607702\n"
     ]
    },
    {
     "name": "stderr",
     "output_type": "stream",
     "text": [
      "Epoch 34/50: 100%|██████████| 4576/4576 [01:08<00:00, 66.58it/s]\n"
     ]
    },
    {
     "name": "stdout",
     "output_type": "stream",
     "text": [
      "Epoch 34 - Loss: 0.607596\n"
     ]
    },
    {
     "name": "stderr",
     "output_type": "stream",
     "text": [
      "Epoch 35/50: 100%|██████████| 4576/4576 [01:08<00:00, 66.50it/s]\n"
     ]
    },
    {
     "name": "stdout",
     "output_type": "stream",
     "text": [
      "Epoch 35 - Loss: 0.607395\n"
     ]
    },
    {
     "name": "stderr",
     "output_type": "stream",
     "text": [
      "Epoch 36/50: 100%|██████████| 4576/4576 [01:08<00:00, 66.92it/s]\n"
     ]
    },
    {
     "name": "stdout",
     "output_type": "stream",
     "text": [
      "Epoch 36 - Loss: 0.606928\n"
     ]
    },
    {
     "name": "stderr",
     "output_type": "stream",
     "text": [
      "Epoch 37/50: 100%|██████████| 4576/4576 [01:08<00:00, 66.80it/s]\n"
     ]
    },
    {
     "name": "stdout",
     "output_type": "stream",
     "text": [
      "Epoch 37 - Loss: 0.604274\n"
     ]
    },
    {
     "name": "stderr",
     "output_type": "stream",
     "text": [
      "Epoch 38/50: 100%|██████████| 4576/4576 [01:08<00:00, 66.78it/s]\n"
     ]
    },
    {
     "name": "stdout",
     "output_type": "stream",
     "text": [
      "Epoch 38 - Loss: 0.605320\n"
     ]
    },
    {
     "name": "stderr",
     "output_type": "stream",
     "text": [
      "Epoch 39/50: 100%|██████████| 4576/4576 [01:08<00:00, 66.52it/s]\n"
     ]
    },
    {
     "name": "stdout",
     "output_type": "stream",
     "text": [
      "Epoch 39 - Loss: 0.604610\n"
     ]
    },
    {
     "name": "stderr",
     "output_type": "stream",
     "text": [
      "Epoch 40/50: 100%|██████████| 4576/4576 [01:08<00:00, 66.66it/s]\n"
     ]
    },
    {
     "name": "stdout",
     "output_type": "stream",
     "text": [
      "Epoch 40 - Loss: 0.603288\n"
     ]
    },
    {
     "name": "stderr",
     "output_type": "stream",
     "text": [
      "Epoch 41/50: 100%|██████████| 4576/4576 [01:07<00:00, 67.34it/s]\n"
     ]
    },
    {
     "name": "stdout",
     "output_type": "stream",
     "text": [
      "Epoch 41 - Loss: 0.601644\n"
     ]
    },
    {
     "name": "stderr",
     "output_type": "stream",
     "text": [
      "Epoch 42/50: 100%|██████████| 4576/4576 [01:07<00:00, 67.66it/s]\n"
     ]
    },
    {
     "name": "stdout",
     "output_type": "stream",
     "text": [
      "Epoch 42 - Loss: 0.602299\n"
     ]
    },
    {
     "name": "stderr",
     "output_type": "stream",
     "text": [
      "Epoch 43/50: 100%|██████████| 4576/4576 [01:07<00:00, 67.41it/s]\n"
     ]
    },
    {
     "name": "stdout",
     "output_type": "stream",
     "text": [
      "Epoch 43 - Loss: 0.603212\n"
     ]
    },
    {
     "name": "stderr",
     "output_type": "stream",
     "text": [
      "Epoch 44/50: 100%|██████████| 4576/4576 [01:07<00:00, 67.47it/s]\n"
     ]
    },
    {
     "name": "stdout",
     "output_type": "stream",
     "text": [
      "Epoch 44 - Loss: 0.602561\n"
     ]
    },
    {
     "name": "stderr",
     "output_type": "stream",
     "text": [
      "Epoch 45/50: 100%|██████████| 4576/4576 [01:09<00:00, 66.20it/s]\n"
     ]
    },
    {
     "name": "stdout",
     "output_type": "stream",
     "text": [
      "Epoch 45 - Loss: 0.601389\n"
     ]
    },
    {
     "name": "stderr",
     "output_type": "stream",
     "text": [
      "Epoch 46/50: 100%|██████████| 4576/4576 [01:08<00:00, 66.55it/s]\n"
     ]
    },
    {
     "name": "stdout",
     "output_type": "stream",
     "text": [
      "Epoch 46 - Loss: 0.601917\n"
     ]
    },
    {
     "name": "stderr",
     "output_type": "stream",
     "text": [
      "Epoch 47/50: 100%|██████████| 4576/4576 [01:08<00:00, 66.60it/s]\n"
     ]
    },
    {
     "name": "stdout",
     "output_type": "stream",
     "text": [
      "Epoch 47 - Loss: 0.600613\n"
     ]
    },
    {
     "name": "stderr",
     "output_type": "stream",
     "text": [
      "Epoch 48/50: 100%|██████████| 4576/4576 [01:08<00:00, 66.68it/s]\n"
     ]
    },
    {
     "name": "stdout",
     "output_type": "stream",
     "text": [
      "Epoch 48 - Loss: 0.601530\n"
     ]
    },
    {
     "name": "stderr",
     "output_type": "stream",
     "text": [
      "Epoch 49/50: 100%|██████████| 4576/4576 [01:08<00:00, 66.81it/s]\n"
     ]
    },
    {
     "name": "stdout",
     "output_type": "stream",
     "text": [
      "Epoch 49 - Loss: 0.601979\n"
     ]
    },
    {
     "name": "stderr",
     "output_type": "stream",
     "text": [
      "Epoch 50/50: 100%|██████████| 4576/4576 [01:08<00:00, 66.80it/s]\n"
     ]
    },
    {
     "name": "stdout",
     "output_type": "stream",
     "text": [
      "Epoch 50 - Loss: 0.600010\n",
      "\n",
      "📊 GRU + Attention Evaluation:\n",
      "  MSE:  2.366343\n",
      "  RMSE: 1.538292\n",
      "  MAE:  0.704461\n",
      "  R²:   0.072220\n"
     ]
    }
   ],
   "source": [
    "# [DISABLED] This model variant is commented by request. Keep AttentionGRU only.\n",
    "\n",
    "# === BiGRU + Attention Model ===\n",
    "# import torch\n",
    "# import torch.nn as nn\n",
    "# EPOCHS = 50\n",
    "# \n",
    "# class AttentionBiGRU(nn.Module):\n",
    "#     def __init__(self, input_size, hidden_size):\n",
    "#         super().__init__()\n",
    "#         self.bigru = nn.GRU(input_size, hidden_size, batch_first=True, bidirectional=True)\n",
    "#         self.attn = nn.Linear(hidden_size * 2, 1)\n",
    "#         self.fc = nn.Sequential(\n",
    "#             nn.Linear(hidden_size * 2, 64),\n",
    "#             nn.ReLU(),\n",
    "#             nn.Linear(64, 1)\n",
    "#         )\n",
    "# \n",
    "#     def forward(self, x):\n",
    "#         gru_out, _ = self.bigru(x)                        # [B, L, 2H]\n",
    "#         attn_weights = torch.softmax(self.attn(gru_out), dim=1)  # [B, L, 1]\n",
    "#         context = torch.sum(attn_weights * gru_out, dim=1)       # [B, 2H]\n",
    "#         return self.fc(context).squeeze(1)\n",
    "# \n",
    "# === Instantiate and Run ===\n",
    "# input_size = train_ds.X.shape[1]\n",
    "# model = AttentionBiGRU(input_size=input_size, hidden_size=HIDDEN_SIZE).to(DEVICE)\n",
    "# optimizer = torch.optim.AdamW(model.parameters(), lr=LR, weight_decay=1e-4)\n",
    "# criterion = nn.MSELoss()\n",
    "# \n",
    "# train_model(model, train_loader, optimizer, criterion, DEVICE)\n",
    "# evaluate_model(model, test_loader, DEVICE)"
   ]
  },
  {
   "cell_type": "markdown",
   "id": "8bb15673",
   "metadata": {
    "id": "TZeQ0zL7wYCT",
    "papermill": {
     "duration": 3.026645,
     "end_time": "2025-08-29T21:58:35.745850",
     "exception": false,
     "start_time": "2025-08-29T21:58:32.719205",
     "status": "completed"
    },
    "tags": []
   },
   "source": [
    "LSTM + ATTENTION"
   ]
  },
  {
   "cell_type": "code",
   "execution_count": 23,
   "id": "6cb07e98",
   "metadata": {
    "execution": {
     "iopub.execute_input": "2025-08-29T21:58:41.452878Z",
     "iopub.status.busy": "2025-08-29T21:58:41.452613Z",
     "iopub.status.idle": "2025-08-29T22:47:57.969746Z",
     "shell.execute_reply": "2025-08-29T22:47:57.968928Z"
    },
    "id": "9o_PG9yowbYp",
    "papermill": {
     "duration": 2963.443459,
     "end_time": "2025-08-29T22:48:02.038779",
     "exception": false,
     "start_time": "2025-08-29T21:58:38.595320",
     "status": "completed"
    },
    "tags": []
   },
   "outputs": [
    {
     "name": "stderr",
     "output_type": "stream",
     "text": [
      "Epoch 1/50: 100%|██████████| 4576/4576 [00:58<00:00, 77.93it/s]\n"
     ]
    },
    {
     "name": "stdout",
     "output_type": "stream",
     "text": [
      "Epoch 1 - Loss: 0.762899\n"
     ]
    },
    {
     "name": "stderr",
     "output_type": "stream",
     "text": [
      "Epoch 2/50: 100%|██████████| 4576/4576 [00:58<00:00, 77.73it/s]\n"
     ]
    },
    {
     "name": "stdout",
     "output_type": "stream",
     "text": [
      "Epoch 2 - Loss: 0.737473\n"
     ]
    },
    {
     "name": "stderr",
     "output_type": "stream",
     "text": [
      "Epoch 3/50: 100%|██████████| 4576/4576 [00:58<00:00, 78.06it/s]\n"
     ]
    },
    {
     "name": "stdout",
     "output_type": "stream",
     "text": [
      "Epoch 3 - Loss: 0.727018\n"
     ]
    },
    {
     "name": "stderr",
     "output_type": "stream",
     "text": [
      "Epoch 4/50: 100%|██████████| 4576/4576 [00:58<00:00, 78.22it/s]\n"
     ]
    },
    {
     "name": "stdout",
     "output_type": "stream",
     "text": [
      "Epoch 4 - Loss: 0.719728\n"
     ]
    },
    {
     "name": "stderr",
     "output_type": "stream",
     "text": [
      "Epoch 5/50: 100%|██████████| 4576/4576 [00:58<00:00, 78.52it/s]\n"
     ]
    },
    {
     "name": "stdout",
     "output_type": "stream",
     "text": [
      "Epoch 5 - Loss: 0.711676\n"
     ]
    },
    {
     "name": "stderr",
     "output_type": "stream",
     "text": [
      "Epoch 6/50: 100%|██████████| 4576/4576 [00:58<00:00, 78.32it/s]\n"
     ]
    },
    {
     "name": "stdout",
     "output_type": "stream",
     "text": [
      "Epoch 6 - Loss: 0.706163\n"
     ]
    },
    {
     "name": "stderr",
     "output_type": "stream",
     "text": [
      "Epoch 7/50: 100%|██████████| 4576/4576 [00:58<00:00, 78.33it/s]\n"
     ]
    },
    {
     "name": "stdout",
     "output_type": "stream",
     "text": [
      "Epoch 7 - Loss: 0.700194\n"
     ]
    },
    {
     "name": "stderr",
     "output_type": "stream",
     "text": [
      "Epoch 8/50: 100%|██████████| 4576/4576 [00:58<00:00, 78.05it/s]\n"
     ]
    },
    {
     "name": "stdout",
     "output_type": "stream",
     "text": [
      "Epoch 8 - Loss: 0.695811\n"
     ]
    },
    {
     "name": "stderr",
     "output_type": "stream",
     "text": [
      "Epoch 9/50: 100%|██████████| 4576/4576 [00:58<00:00, 78.73it/s]\n"
     ]
    },
    {
     "name": "stdout",
     "output_type": "stream",
     "text": [
      "Epoch 9 - Loss: 0.693115\n"
     ]
    },
    {
     "name": "stderr",
     "output_type": "stream",
     "text": [
      "Epoch 10/50: 100%|██████████| 4576/4576 [00:58<00:00, 78.53it/s]\n"
     ]
    },
    {
     "name": "stdout",
     "output_type": "stream",
     "text": [
      "Epoch 10 - Loss: 0.688879\n"
     ]
    },
    {
     "name": "stderr",
     "output_type": "stream",
     "text": [
      "Epoch 11/50: 100%|██████████| 4576/4576 [00:58<00:00, 78.38it/s]\n"
     ]
    },
    {
     "name": "stdout",
     "output_type": "stream",
     "text": [
      "Epoch 11 - Loss: 0.685755\n"
     ]
    },
    {
     "name": "stderr",
     "output_type": "stream",
     "text": [
      "Epoch 12/50: 100%|██████████| 4576/4576 [00:58<00:00, 78.57it/s]\n"
     ]
    },
    {
     "name": "stdout",
     "output_type": "stream",
     "text": [
      "Epoch 12 - Loss: 0.684283\n"
     ]
    },
    {
     "name": "stderr",
     "output_type": "stream",
     "text": [
      "Epoch 13/50: 100%|██████████| 4576/4576 [00:58<00:00, 78.38it/s]\n"
     ]
    },
    {
     "name": "stdout",
     "output_type": "stream",
     "text": [
      "Epoch 13 - Loss: 0.680560\n"
     ]
    },
    {
     "name": "stderr",
     "output_type": "stream",
     "text": [
      "Epoch 14/50: 100%|██████████| 4576/4576 [00:58<00:00, 78.32it/s]\n"
     ]
    },
    {
     "name": "stdout",
     "output_type": "stream",
     "text": [
      "Epoch 14 - Loss: 0.678052\n"
     ]
    },
    {
     "name": "stderr",
     "output_type": "stream",
     "text": [
      "Epoch 15/50: 100%|██████████| 4576/4576 [00:59<00:00, 77.44it/s]\n"
     ]
    },
    {
     "name": "stdout",
     "output_type": "stream",
     "text": [
      "Epoch 15 - Loss: 0.675995\n"
     ]
    },
    {
     "name": "stderr",
     "output_type": "stream",
     "text": [
      "Epoch 16/50: 100%|██████████| 4576/4576 [00:59<00:00, 77.22it/s]\n"
     ]
    },
    {
     "name": "stdout",
     "output_type": "stream",
     "text": [
      "Epoch 16 - Loss: 0.674374\n"
     ]
    },
    {
     "name": "stderr",
     "output_type": "stream",
     "text": [
      "Epoch 17/50: 100%|██████████| 4576/4576 [00:59<00:00, 77.08it/s]\n"
     ]
    },
    {
     "name": "stdout",
     "output_type": "stream",
     "text": [
      "Epoch 17 - Loss: 0.671322\n"
     ]
    },
    {
     "name": "stderr",
     "output_type": "stream",
     "text": [
      "Epoch 18/50: 100%|██████████| 4576/4576 [00:59<00:00, 76.92it/s]\n"
     ]
    },
    {
     "name": "stdout",
     "output_type": "stream",
     "text": [
      "Epoch 18 - Loss: 0.670238\n"
     ]
    },
    {
     "name": "stderr",
     "output_type": "stream",
     "text": [
      "Epoch 19/50: 100%|██████████| 4576/4576 [00:59<00:00, 76.94it/s]\n"
     ]
    },
    {
     "name": "stdout",
     "output_type": "stream",
     "text": [
      "Epoch 19 - Loss: 0.666869\n"
     ]
    },
    {
     "name": "stderr",
     "output_type": "stream",
     "text": [
      "Epoch 20/50: 100%|██████████| 4576/4576 [00:59<00:00, 77.28it/s]\n"
     ]
    },
    {
     "name": "stdout",
     "output_type": "stream",
     "text": [
      "Epoch 20 - Loss: 0.664401\n"
     ]
    },
    {
     "name": "stderr",
     "output_type": "stream",
     "text": [
      "Epoch 21/50: 100%|██████████| 4576/4576 [00:58<00:00, 78.12it/s]\n"
     ]
    },
    {
     "name": "stdout",
     "output_type": "stream",
     "text": [
      "Epoch 21 - Loss: 0.661912\n"
     ]
    },
    {
     "name": "stderr",
     "output_type": "stream",
     "text": [
      "Epoch 22/50: 100%|██████████| 4576/4576 [00:58<00:00, 77.96it/s]\n"
     ]
    },
    {
     "name": "stdout",
     "output_type": "stream",
     "text": [
      "Epoch 22 - Loss: 0.661982\n"
     ]
    },
    {
     "name": "stderr",
     "output_type": "stream",
     "text": [
      "Epoch 23/50: 100%|██████████| 4576/4576 [00:58<00:00, 78.14it/s]\n"
     ]
    },
    {
     "name": "stdout",
     "output_type": "stream",
     "text": [
      "Epoch 23 - Loss: 0.658618\n"
     ]
    },
    {
     "name": "stderr",
     "output_type": "stream",
     "text": [
      "Epoch 24/50: 100%|██████████| 4576/4576 [00:58<00:00, 78.24it/s]\n"
     ]
    },
    {
     "name": "stdout",
     "output_type": "stream",
     "text": [
      "Epoch 24 - Loss: 0.656790\n"
     ]
    },
    {
     "name": "stderr",
     "output_type": "stream",
     "text": [
      "Epoch 25/50: 100%|██████████| 4576/4576 [00:58<00:00, 78.22it/s]\n"
     ]
    },
    {
     "name": "stdout",
     "output_type": "stream",
     "text": [
      "Epoch 25 - Loss: 0.655096\n"
     ]
    },
    {
     "name": "stderr",
     "output_type": "stream",
     "text": [
      "Epoch 26/50: 100%|██████████| 4576/4576 [00:58<00:00, 78.15it/s]\n"
     ]
    },
    {
     "name": "stdout",
     "output_type": "stream",
     "text": [
      "Epoch 26 - Loss: 0.654068\n"
     ]
    },
    {
     "name": "stderr",
     "output_type": "stream",
     "text": [
      "Epoch 27/50: 100%|██████████| 4576/4576 [00:58<00:00, 78.40it/s]\n"
     ]
    },
    {
     "name": "stdout",
     "output_type": "stream",
     "text": [
      "Epoch 27 - Loss: 0.652830\n"
     ]
    },
    {
     "name": "stderr",
     "output_type": "stream",
     "text": [
      "Epoch 28/50: 100%|██████████| 4576/4576 [00:58<00:00, 78.16it/s]\n"
     ]
    },
    {
     "name": "stdout",
     "output_type": "stream",
     "text": [
      "Epoch 28 - Loss: 0.651892\n"
     ]
    },
    {
     "name": "stderr",
     "output_type": "stream",
     "text": [
      "Epoch 29/50: 100%|██████████| 4576/4576 [00:58<00:00, 78.19it/s]\n"
     ]
    },
    {
     "name": "stdout",
     "output_type": "stream",
     "text": [
      "Epoch 29 - Loss: 0.649094\n"
     ]
    },
    {
     "name": "stderr",
     "output_type": "stream",
     "text": [
      "Epoch 30/50: 100%|██████████| 4576/4576 [00:58<00:00, 78.19it/s]\n"
     ]
    },
    {
     "name": "stdout",
     "output_type": "stream",
     "text": [
      "Epoch 30 - Loss: 0.646702\n"
     ]
    },
    {
     "name": "stderr",
     "output_type": "stream",
     "text": [
      "Epoch 31/50: 100%|██████████| 4576/4576 [00:58<00:00, 78.25it/s]\n"
     ]
    },
    {
     "name": "stdout",
     "output_type": "stream",
     "text": [
      "Epoch 31 - Loss: 0.647433\n"
     ]
    },
    {
     "name": "stderr",
     "output_type": "stream",
     "text": [
      "Epoch 32/50: 100%|██████████| 4576/4576 [00:58<00:00, 78.37it/s]\n"
     ]
    },
    {
     "name": "stdout",
     "output_type": "stream",
     "text": [
      "Epoch 32 - Loss: 0.644782\n"
     ]
    },
    {
     "name": "stderr",
     "output_type": "stream",
     "text": [
      "Epoch 33/50: 100%|██████████| 4576/4576 [00:58<00:00, 78.41it/s]\n"
     ]
    },
    {
     "name": "stdout",
     "output_type": "stream",
     "text": [
      "Epoch 33 - Loss: 0.643672\n"
     ]
    },
    {
     "name": "stderr",
     "output_type": "stream",
     "text": [
      "Epoch 34/50: 100%|██████████| 4576/4576 [00:58<00:00, 78.08it/s]\n"
     ]
    },
    {
     "name": "stdout",
     "output_type": "stream",
     "text": [
      "Epoch 34 - Loss: 0.642160\n"
     ]
    },
    {
     "name": "stderr",
     "output_type": "stream",
     "text": [
      "Epoch 35/50: 100%|██████████| 4576/4576 [00:59<00:00, 76.51it/s]\n"
     ]
    },
    {
     "name": "stdout",
     "output_type": "stream",
     "text": [
      "Epoch 35 - Loss: 0.642510\n"
     ]
    },
    {
     "name": "stderr",
     "output_type": "stream",
     "text": [
      "Epoch 36/50: 100%|██████████| 4576/4576 [00:59<00:00, 77.29it/s]\n"
     ]
    },
    {
     "name": "stdout",
     "output_type": "stream",
     "text": [
      "Epoch 36 - Loss: 0.641600\n"
     ]
    },
    {
     "name": "stderr",
     "output_type": "stream",
     "text": [
      "Epoch 37/50: 100%|██████████| 4576/4576 [01:00<00:00, 76.19it/s]\n"
     ]
    },
    {
     "name": "stdout",
     "output_type": "stream",
     "text": [
      "Epoch 37 - Loss: 0.638325\n"
     ]
    },
    {
     "name": "stderr",
     "output_type": "stream",
     "text": [
      "Epoch 38/50: 100%|██████████| 4576/4576 [00:58<00:00, 77.93it/s]\n"
     ]
    },
    {
     "name": "stdout",
     "output_type": "stream",
     "text": [
      "Epoch 38 - Loss: 0.637976\n"
     ]
    },
    {
     "name": "stderr",
     "output_type": "stream",
     "text": [
      "Epoch 39/50: 100%|██████████| 4576/4576 [00:58<00:00, 77.57it/s]\n"
     ]
    },
    {
     "name": "stdout",
     "output_type": "stream",
     "text": [
      "Epoch 39 - Loss: 0.636713\n"
     ]
    },
    {
     "name": "stderr",
     "output_type": "stream",
     "text": [
      "Epoch 40/50: 100%|██████████| 4576/4576 [00:58<00:00, 78.04it/s]\n"
     ]
    },
    {
     "name": "stdout",
     "output_type": "stream",
     "text": [
      "Epoch 40 - Loss: 0.638425\n"
     ]
    },
    {
     "name": "stderr",
     "output_type": "stream",
     "text": [
      "Epoch 41/50: 100%|██████████| 4576/4576 [00:58<00:00, 78.03it/s]\n"
     ]
    },
    {
     "name": "stdout",
     "output_type": "stream",
     "text": [
      "Epoch 41 - Loss: 0.636638\n"
     ]
    },
    {
     "name": "stderr",
     "output_type": "stream",
     "text": [
      "Epoch 42/50: 100%|██████████| 4576/4576 [00:58<00:00, 77.92it/s]\n"
     ]
    },
    {
     "name": "stdout",
     "output_type": "stream",
     "text": [
      "Epoch 42 - Loss: 0.635598\n"
     ]
    },
    {
     "name": "stderr",
     "output_type": "stream",
     "text": [
      "Epoch 43/50: 100%|██████████| 4576/4576 [00:58<00:00, 78.00it/s]\n"
     ]
    },
    {
     "name": "stdout",
     "output_type": "stream",
     "text": [
      "Epoch 43 - Loss: 0.632835\n"
     ]
    },
    {
     "name": "stderr",
     "output_type": "stream",
     "text": [
      "Epoch 44/50: 100%|██████████| 4576/4576 [00:59<00:00, 77.50it/s]\n"
     ]
    },
    {
     "name": "stdout",
     "output_type": "stream",
     "text": [
      "Epoch 44 - Loss: 0.630949\n"
     ]
    },
    {
     "name": "stderr",
     "output_type": "stream",
     "text": [
      "Epoch 45/50: 100%|██████████| 4576/4576 [00:58<00:00, 77.91it/s]\n"
     ]
    },
    {
     "name": "stdout",
     "output_type": "stream",
     "text": [
      "Epoch 45 - Loss: 0.632388\n"
     ]
    },
    {
     "name": "stderr",
     "output_type": "stream",
     "text": [
      "Epoch 46/50: 100%|██████████| 4576/4576 [00:58<00:00, 78.03it/s]\n"
     ]
    },
    {
     "name": "stdout",
     "output_type": "stream",
     "text": [
      "Epoch 46 - Loss: 0.631697\n"
     ]
    },
    {
     "name": "stderr",
     "output_type": "stream",
     "text": [
      "Epoch 47/50: 100%|██████████| 4576/4576 [00:58<00:00, 77.95it/s]\n"
     ]
    },
    {
     "name": "stdout",
     "output_type": "stream",
     "text": [
      "Epoch 47 - Loss: 0.631240\n"
     ]
    },
    {
     "name": "stderr",
     "output_type": "stream",
     "text": [
      "Epoch 48/50: 100%|██████████| 4576/4576 [00:59<00:00, 77.37it/s]\n"
     ]
    },
    {
     "name": "stdout",
     "output_type": "stream",
     "text": [
      "Epoch 48 - Loss: 0.630423\n"
     ]
    },
    {
     "name": "stderr",
     "output_type": "stream",
     "text": [
      "Epoch 49/50: 100%|██████████| 4576/4576 [00:59<00:00, 76.45it/s]\n"
     ]
    },
    {
     "name": "stdout",
     "output_type": "stream",
     "text": [
      "Epoch 49 - Loss: 0.626706\n"
     ]
    },
    {
     "name": "stderr",
     "output_type": "stream",
     "text": [
      "Epoch 50/50: 100%|██████████| 4576/4576 [00:59<00:00, 77.50it/s]\n"
     ]
    },
    {
     "name": "stdout",
     "output_type": "stream",
     "text": [
      "Epoch 50 - Loss: 0.627271\n",
      "\n",
      "📊 GRU + Attention Evaluation:\n",
      "  MSE:  2.256068\n",
      "  RMSE: 1.502021\n",
      "  MAE:  0.717862\n",
      "  R²:   0.115457\n"
     ]
    }
   ],
   "source": [
    "# [DISABLED] This model variant is commented by request. Keep AttentionGRU only.\n",
    "\n",
    "# === LSTM + Attention Model ===\n",
    "# import torch\n",
    "# import torch.nn as nn\n",
    "# \n",
    "# EPOCHS = 50  # Sanity check\n",
    "# \n",
    "# class AttentionLSTM(nn.Module):\n",
    "#     def __init__(self, input_size, hidden_size):\n",
    "#         super().__init__()\n",
    "#         self.lstm = nn.LSTM(input_size, hidden_size, batch_first=True)\n",
    "#         self.attn = nn.Linear(hidden_size, 1)\n",
    "#         self.fc = nn.Sequential(\n",
    "#             nn.Linear(hidden_size, 64),\n",
    "#             nn.ReLU(),\n",
    "#             nn.Linear(64, 1)\n",
    "#         )\n",
    "# \n",
    "#     def forward(self, x):\n",
    "#         lstm_out, _ = self.lstm(x)                          # [B, L, H]\n",
    "#         attn_weights = torch.softmax(self.attn(lstm_out), dim=1)  # [B, L, 1]\n",
    "#         context = torch.sum(attn_weights * lstm_out, dim=1)       # [B, H]\n",
    "#         return self.fc(context).squeeze(1)\n",
    "# \n",
    "# === Instantiate and Run ===\n",
    "# input_size = train_ds.X.shape[1]\n",
    "# model = AttentionLSTM(input_size=input_size, hidden_size=HIDDEN_SIZE).to(DEVICE)\n",
    "# optimizer = torch.optim.AdamW(model.parameters(), lr=LR, weight_decay=1e-4)\n",
    "# criterion = nn.MSELoss()\n",
    "# \n",
    "# train_model(model, train_loader, optimizer, criterion, DEVICE)\n",
    "# evaluate_model(model, test_loader, DEVICE)"
   ]
  },
  {
   "cell_type": "markdown",
   "id": "9d310537",
   "metadata": {
    "id": "-UFQYcpeykiD",
    "papermill": {
     "duration": 4.170764,
     "end_time": "2025-08-29T22:48:10.407198",
     "exception": false,
     "start_time": "2025-08-29T22:48:06.236434",
     "status": "completed"
    },
    "tags": []
   },
   "source": [
    "Bidirectional lstm + attention"
   ]
  },
  {
   "cell_type": "code",
   "execution_count": 24,
   "id": "cb14507c",
   "metadata": {
    "execution": {
     "iopub.execute_input": "2025-08-29T22:48:18.791090Z",
     "iopub.status.busy": "2025-08-29T22:48:18.790530Z",
     "iopub.status.idle": "2025-08-29T23:46:14.595803Z",
     "shell.execute_reply": "2025-08-29T23:46:14.594981Z"
    },
    "id": "AMf4ehuqymvb",
    "papermill": {
     "duration": 3480.002282,
     "end_time": "2025-08-29T23:46:14.597071",
     "exception": false,
     "start_time": "2025-08-29T22:48:14.594789",
     "status": "completed"
    },
    "tags": []
   },
   "outputs": [
    {
     "name": "stderr",
     "output_type": "stream",
     "text": [
      "Epoch 1/50: 100%|██████████| 4576/4576 [01:10<00:00, 65.06it/s]\n"
     ]
    },
    {
     "name": "stdout",
     "output_type": "stream",
     "text": [
      "Epoch 1 - Loss: 0.754540\n"
     ]
    },
    {
     "name": "stderr",
     "output_type": "stream",
     "text": [
      "Epoch 2/50: 100%|██████████| 4576/4576 [01:10<00:00, 65.28it/s]\n"
     ]
    },
    {
     "name": "stdout",
     "output_type": "stream",
     "text": [
      "Epoch 2 - Loss: 0.730370\n"
     ]
    },
    {
     "name": "stderr",
     "output_type": "stream",
     "text": [
      "Epoch 3/50: 100%|██████████| 4576/4576 [01:10<00:00, 64.83it/s]\n"
     ]
    },
    {
     "name": "stdout",
     "output_type": "stream",
     "text": [
      "Epoch 3 - Loss: 0.720121\n"
     ]
    },
    {
     "name": "stderr",
     "output_type": "stream",
     "text": [
      "Epoch 4/50: 100%|██████████| 4576/4576 [01:09<00:00, 66.04it/s]\n"
     ]
    },
    {
     "name": "stdout",
     "output_type": "stream",
     "text": [
      "Epoch 4 - Loss: 0.712645\n"
     ]
    },
    {
     "name": "stderr",
     "output_type": "stream",
     "text": [
      "Epoch 5/50: 100%|██████████| 4576/4576 [01:09<00:00, 66.08it/s]\n"
     ]
    },
    {
     "name": "stdout",
     "output_type": "stream",
     "text": [
      "Epoch 5 - Loss: 0.706049\n"
     ]
    },
    {
     "name": "stderr",
     "output_type": "stream",
     "text": [
      "Epoch 6/50: 100%|██████████| 4576/4576 [01:09<00:00, 66.22it/s]\n"
     ]
    },
    {
     "name": "stdout",
     "output_type": "stream",
     "text": [
      "Epoch 6 - Loss: 0.699346\n"
     ]
    },
    {
     "name": "stderr",
     "output_type": "stream",
     "text": [
      "Epoch 7/50: 100%|██████████| 4576/4576 [01:09<00:00, 66.15it/s]\n"
     ]
    },
    {
     "name": "stdout",
     "output_type": "stream",
     "text": [
      "Epoch 7 - Loss: 0.691891\n"
     ]
    },
    {
     "name": "stderr",
     "output_type": "stream",
     "text": [
      "Epoch 8/50: 100%|██████████| 4576/4576 [01:09<00:00, 66.02it/s]\n"
     ]
    },
    {
     "name": "stdout",
     "output_type": "stream",
     "text": [
      "Epoch 8 - Loss: 0.685190\n"
     ]
    },
    {
     "name": "stderr",
     "output_type": "stream",
     "text": [
      "Epoch 9/50: 100%|██████████| 4576/4576 [01:09<00:00, 66.08it/s]\n"
     ]
    },
    {
     "name": "stdout",
     "output_type": "stream",
     "text": [
      "Epoch 9 - Loss: 0.679307\n"
     ]
    },
    {
     "name": "stderr",
     "output_type": "stream",
     "text": [
      "Epoch 10/50: 100%|██████████| 4576/4576 [01:09<00:00, 65.95it/s]\n"
     ]
    },
    {
     "name": "stdout",
     "output_type": "stream",
     "text": [
      "Epoch 10 - Loss: 0.674456\n"
     ]
    },
    {
     "name": "stderr",
     "output_type": "stream",
     "text": [
      "Epoch 11/50: 100%|██████████| 4576/4576 [01:09<00:00, 66.10it/s]\n"
     ]
    },
    {
     "name": "stdout",
     "output_type": "stream",
     "text": [
      "Epoch 11 - Loss: 0.667781\n"
     ]
    },
    {
     "name": "stderr",
     "output_type": "stream",
     "text": [
      "Epoch 12/50: 100%|██████████| 4576/4576 [01:09<00:00, 66.08it/s]\n"
     ]
    },
    {
     "name": "stdout",
     "output_type": "stream",
     "text": [
      "Epoch 12 - Loss: 0.663197\n"
     ]
    },
    {
     "name": "stderr",
     "output_type": "stream",
     "text": [
      "Epoch 13/50: 100%|██████████| 4576/4576 [01:09<00:00, 65.90it/s]\n"
     ]
    },
    {
     "name": "stdout",
     "output_type": "stream",
     "text": [
      "Epoch 13 - Loss: 0.658887\n"
     ]
    },
    {
     "name": "stderr",
     "output_type": "stream",
     "text": [
      "Epoch 14/50: 100%|██████████| 4576/4576 [01:09<00:00, 66.07it/s]\n"
     ]
    },
    {
     "name": "stdout",
     "output_type": "stream",
     "text": [
      "Epoch 14 - Loss: 0.654958\n"
     ]
    },
    {
     "name": "stderr",
     "output_type": "stream",
     "text": [
      "Epoch 15/50: 100%|██████████| 4576/4576 [01:09<00:00, 65.95it/s]\n"
     ]
    },
    {
     "name": "stdout",
     "output_type": "stream",
     "text": [
      "Epoch 15 - Loss: 0.649732\n"
     ]
    },
    {
     "name": "stderr",
     "output_type": "stream",
     "text": [
      "Epoch 16/50: 100%|██████████| 4576/4576 [01:09<00:00, 66.04it/s]\n"
     ]
    },
    {
     "name": "stdout",
     "output_type": "stream",
     "text": [
      "Epoch 16 - Loss: 0.644926\n"
     ]
    },
    {
     "name": "stderr",
     "output_type": "stream",
     "text": [
      "Epoch 17/50: 100%|██████████| 4576/4576 [01:09<00:00, 65.97it/s]\n"
     ]
    },
    {
     "name": "stdout",
     "output_type": "stream",
     "text": [
      "Epoch 17 - Loss: 0.640288\n"
     ]
    },
    {
     "name": "stderr",
     "output_type": "stream",
     "text": [
      "Epoch 18/50: 100%|██████████| 4576/4576 [01:09<00:00, 66.09it/s]\n"
     ]
    },
    {
     "name": "stdout",
     "output_type": "stream",
     "text": [
      "Epoch 18 - Loss: 0.636689\n"
     ]
    },
    {
     "name": "stderr",
     "output_type": "stream",
     "text": [
      "Epoch 19/50: 100%|██████████| 4576/4576 [01:09<00:00, 66.17it/s]\n"
     ]
    },
    {
     "name": "stdout",
     "output_type": "stream",
     "text": [
      "Epoch 19 - Loss: 0.633071\n"
     ]
    },
    {
     "name": "stderr",
     "output_type": "stream",
     "text": [
      "Epoch 20/50: 100%|██████████| 4576/4576 [01:09<00:00, 66.16it/s]\n"
     ]
    },
    {
     "name": "stdout",
     "output_type": "stream",
     "text": [
      "Epoch 20 - Loss: 0.629761\n"
     ]
    },
    {
     "name": "stderr",
     "output_type": "stream",
     "text": [
      "Epoch 21/50: 100%|██████████| 4576/4576 [01:09<00:00, 66.11it/s]\n"
     ]
    },
    {
     "name": "stdout",
     "output_type": "stream",
     "text": [
      "Epoch 21 - Loss: 0.626742\n"
     ]
    },
    {
     "name": "stderr",
     "output_type": "stream",
     "text": [
      "Epoch 22/50: 100%|██████████| 4576/4576 [01:09<00:00, 66.03it/s]\n"
     ]
    },
    {
     "name": "stdout",
     "output_type": "stream",
     "text": [
      "Epoch 22 - Loss: 0.621436\n"
     ]
    },
    {
     "name": "stderr",
     "output_type": "stream",
     "text": [
      "Epoch 23/50: 100%|██████████| 4576/4576 [01:09<00:00, 66.23it/s]\n"
     ]
    },
    {
     "name": "stdout",
     "output_type": "stream",
     "text": [
      "Epoch 23 - Loss: 0.618727\n"
     ]
    },
    {
     "name": "stderr",
     "output_type": "stream",
     "text": [
      "Epoch 24/50: 100%|██████████| 4576/4576 [01:08<00:00, 66.35it/s]\n"
     ]
    },
    {
     "name": "stdout",
     "output_type": "stream",
     "text": [
      "Epoch 24 - Loss: 0.613943\n"
     ]
    },
    {
     "name": "stderr",
     "output_type": "stream",
     "text": [
      "Epoch 25/50: 100%|██████████| 4576/4576 [01:08<00:00, 66.44it/s]\n"
     ]
    },
    {
     "name": "stdout",
     "output_type": "stream",
     "text": [
      "Epoch 25 - Loss: 0.613153\n"
     ]
    },
    {
     "name": "stderr",
     "output_type": "stream",
     "text": [
      "Epoch 26/50: 100%|██████████| 4576/4576 [01:08<00:00, 66.52it/s]\n"
     ]
    },
    {
     "name": "stdout",
     "output_type": "stream",
     "text": [
      "Epoch 26 - Loss: 0.606927\n"
     ]
    },
    {
     "name": "stderr",
     "output_type": "stream",
     "text": [
      "Epoch 27/50: 100%|██████████| 4576/4576 [01:08<00:00, 66.55it/s]\n"
     ]
    },
    {
     "name": "stdout",
     "output_type": "stream",
     "text": [
      "Epoch 27 - Loss: 0.605642\n"
     ]
    },
    {
     "name": "stderr",
     "output_type": "stream",
     "text": [
      "Epoch 28/50: 100%|██████████| 4576/4576 [01:08<00:00, 66.53it/s]\n"
     ]
    },
    {
     "name": "stdout",
     "output_type": "stream",
     "text": [
      "Epoch 28 - Loss: 0.602669\n"
     ]
    },
    {
     "name": "stderr",
     "output_type": "stream",
     "text": [
      "Epoch 29/50: 100%|██████████| 4576/4576 [01:08<00:00, 66.61it/s]\n"
     ]
    },
    {
     "name": "stdout",
     "output_type": "stream",
     "text": [
      "Epoch 29 - Loss: 0.598304\n"
     ]
    },
    {
     "name": "stderr",
     "output_type": "stream",
     "text": [
      "Epoch 30/50: 100%|██████████| 4576/4576 [01:08<00:00, 66.53it/s]\n"
     ]
    },
    {
     "name": "stdout",
     "output_type": "stream",
     "text": [
      "Epoch 30 - Loss: 0.595927\n"
     ]
    },
    {
     "name": "stderr",
     "output_type": "stream",
     "text": [
      "Epoch 31/50: 100%|██████████| 4576/4576 [01:08<00:00, 66.49it/s]\n"
     ]
    },
    {
     "name": "stdout",
     "output_type": "stream",
     "text": [
      "Epoch 31 - Loss: 0.593583\n"
     ]
    },
    {
     "name": "stderr",
     "output_type": "stream",
     "text": [
      "Epoch 32/50: 100%|██████████| 4576/4576 [01:08<00:00, 66.53it/s]\n"
     ]
    },
    {
     "name": "stdout",
     "output_type": "stream",
     "text": [
      "Epoch 32 - Loss: 0.589578\n"
     ]
    },
    {
     "name": "stderr",
     "output_type": "stream",
     "text": [
      "Epoch 33/50: 100%|██████████| 4576/4576 [01:08<00:00, 66.48it/s]\n"
     ]
    },
    {
     "name": "stdout",
     "output_type": "stream",
     "text": [
      "Epoch 33 - Loss: 0.585548\n"
     ]
    },
    {
     "name": "stderr",
     "output_type": "stream",
     "text": [
      "Epoch 34/50: 100%|██████████| 4576/4576 [01:09<00:00, 66.15it/s]\n"
     ]
    },
    {
     "name": "stdout",
     "output_type": "stream",
     "text": [
      "Epoch 34 - Loss: 0.582111\n"
     ]
    },
    {
     "name": "stderr",
     "output_type": "stream",
     "text": [
      "Epoch 35/50: 100%|██████████| 4576/4576 [01:09<00:00, 65.76it/s]\n"
     ]
    },
    {
     "name": "stdout",
     "output_type": "stream",
     "text": [
      "Epoch 35 - Loss: 0.581158\n"
     ]
    },
    {
     "name": "stderr",
     "output_type": "stream",
     "text": [
      "Epoch 36/50: 100%|██████████| 4576/4576 [01:08<00:00, 66.53it/s]\n"
     ]
    },
    {
     "name": "stdout",
     "output_type": "stream",
     "text": [
      "Epoch 36 - Loss: 0.577060\n"
     ]
    },
    {
     "name": "stderr",
     "output_type": "stream",
     "text": [
      "Epoch 37/50: 100%|██████████| 4576/4576 [01:08<00:00, 66.61it/s]\n"
     ]
    },
    {
     "name": "stdout",
     "output_type": "stream",
     "text": [
      "Epoch 37 - Loss: 0.573908\n"
     ]
    },
    {
     "name": "stderr",
     "output_type": "stream",
     "text": [
      "Epoch 38/50: 100%|██████████| 4576/4576 [01:08<00:00, 66.60it/s]\n"
     ]
    },
    {
     "name": "stdout",
     "output_type": "stream",
     "text": [
      "Epoch 38 - Loss: 0.571699\n"
     ]
    },
    {
     "name": "stderr",
     "output_type": "stream",
     "text": [
      "Epoch 39/50: 100%|██████████| 4576/4576 [01:08<00:00, 66.44it/s]\n"
     ]
    },
    {
     "name": "stdout",
     "output_type": "stream",
     "text": [
      "Epoch 39 - Loss: 0.567670\n"
     ]
    },
    {
     "name": "stderr",
     "output_type": "stream",
     "text": [
      "Epoch 40/50: 100%|██████████| 4576/4576 [01:08<00:00, 66.47it/s]\n"
     ]
    },
    {
     "name": "stdout",
     "output_type": "stream",
     "text": [
      "Epoch 40 - Loss: 0.564407\n"
     ]
    },
    {
     "name": "stderr",
     "output_type": "stream",
     "text": [
      "Epoch 41/50: 100%|██████████| 4576/4576 [01:08<00:00, 66.51it/s]\n"
     ]
    },
    {
     "name": "stdout",
     "output_type": "stream",
     "text": [
      "Epoch 41 - Loss: 0.560413\n"
     ]
    },
    {
     "name": "stderr",
     "output_type": "stream",
     "text": [
      "Epoch 42/50: 100%|██████████| 4576/4576 [01:09<00:00, 66.29it/s]\n"
     ]
    },
    {
     "name": "stdout",
     "output_type": "stream",
     "text": [
      "Epoch 42 - Loss: 0.560493\n"
     ]
    },
    {
     "name": "stderr",
     "output_type": "stream",
     "text": [
      "Epoch 43/50: 100%|██████████| 4576/4576 [01:08<00:00, 66.49it/s]\n"
     ]
    },
    {
     "name": "stdout",
     "output_type": "stream",
     "text": [
      "Epoch 43 - Loss: 0.556283\n"
     ]
    },
    {
     "name": "stderr",
     "output_type": "stream",
     "text": [
      "Epoch 44/50: 100%|██████████| 4576/4576 [01:08<00:00, 66.46it/s]\n"
     ]
    },
    {
     "name": "stdout",
     "output_type": "stream",
     "text": [
      "Epoch 44 - Loss: 0.553500\n"
     ]
    },
    {
     "name": "stderr",
     "output_type": "stream",
     "text": [
      "Epoch 45/50: 100%|██████████| 4576/4576 [01:08<00:00, 66.39it/s]\n"
     ]
    },
    {
     "name": "stdout",
     "output_type": "stream",
     "text": [
      "Epoch 45 - Loss: 0.550421\n"
     ]
    },
    {
     "name": "stderr",
     "output_type": "stream",
     "text": [
      "Epoch 46/50: 100%|██████████| 4576/4576 [01:08<00:00, 66.44it/s]\n"
     ]
    },
    {
     "name": "stdout",
     "output_type": "stream",
     "text": [
      "Epoch 46 - Loss: 0.549562\n"
     ]
    },
    {
     "name": "stderr",
     "output_type": "stream",
     "text": [
      "Epoch 47/50: 100%|██████████| 4576/4576 [01:08<00:00, 66.39it/s]\n"
     ]
    },
    {
     "name": "stdout",
     "output_type": "stream",
     "text": [
      "Epoch 47 - Loss: 0.546103\n"
     ]
    },
    {
     "name": "stderr",
     "output_type": "stream",
     "text": [
      "Epoch 48/50: 100%|██████████| 4576/4576 [01:08<00:00, 66.55it/s]\n"
     ]
    },
    {
     "name": "stdout",
     "output_type": "stream",
     "text": [
      "Epoch 48 - Loss: 0.544213\n"
     ]
    },
    {
     "name": "stderr",
     "output_type": "stream",
     "text": [
      "Epoch 49/50: 100%|██████████| 4576/4576 [01:08<00:00, 66.36it/s]\n"
     ]
    },
    {
     "name": "stdout",
     "output_type": "stream",
     "text": [
      "Epoch 49 - Loss: 0.542272\n"
     ]
    },
    {
     "name": "stderr",
     "output_type": "stream",
     "text": [
      "Epoch 50/50: 100%|██████████| 4576/4576 [01:08<00:00, 66.53it/s]\n"
     ]
    },
    {
     "name": "stdout",
     "output_type": "stream",
     "text": [
      "Epoch 50 - Loss: 0.539866\n",
      "\n",
      "📊 GRU + Attention Evaluation:\n",
      "  MSE:  2.495132\n",
      "  RMSE: 1.579599\n",
      "  MAE:  0.689045\n",
      "  R²:   0.021726\n"
     ]
    }
   ],
   "source": [
    "# [DISABLED] This model variant is commented by request. Keep AttentionGRU only.\n",
    "\n",
    "# === BiLSTM + Attention Model ===\n",
    "# import torch\n",
    "# import torch.nn as nn\n",
    "# \n",
    "# EPOCHS = 50  # Test run\n",
    "# \n",
    "# class AttentionBiLSTM(nn.Module):\n",
    "#     def __init__(self, input_size, hidden_size):\n",
    "#         super().__init__()\n",
    "#         self.bilstm = nn.LSTM(input_size, hidden_size, batch_first=True, bidirectional=True)\n",
    "#         self.attn = nn.Linear(hidden_size * 2, 1)\n",
    "#         self.fc = nn.Sequential(\n",
    "#             nn.Linear(hidden_size * 2, 64),\n",
    "#             nn.ReLU(),\n",
    "#             nn.Linear(64, 1)\n",
    "#         )\n",
    "# \n",
    "#     def forward(self, x):\n",
    "#         lstm_out, _ = self.bilstm(x)                           # [B, L, 2H]\n",
    "#         attn_weights = torch.softmax(self.attn(lstm_out), dim=1)  # [B, L, 1]\n",
    "#         context = torch.sum(attn_weights * lstm_out, dim=1)       # [B, 2H]\n",
    "#         return self.fc(context).squeeze(1)\n",
    "# \n",
    "# === Instantiate and Run ===\n",
    "# input_size = train_ds.X.shape[1]\n",
    "# model = AttentionBiLSTM(input_size=input_size, hidden_size=HIDDEN_SIZE).to(DEVICE)\n",
    "# optimizer = torch.optim.AdamW(model.parameters(), lr=LR, weight_decay=1e-4)\n",
    "# criterion = nn.MSELoss()\n",
    "# \n",
    "# train_model(model, train_loader, optimizer, criterion, DEVICE)\n",
    "# evaluate_model(model, test_loader, DEVICE)"
   ]
  },
  {
   "cell_type": "markdown",
   "id": "850a79ef",
   "metadata": {
    "id": "YGYoAJEPy_SO",
    "papermill": {
     "duration": 5.39691,
     "end_time": "2025-08-29T23:46:25.729185",
     "exception": false,
     "start_time": "2025-08-29T23:46:20.332275",
     "status": "completed"
    },
    "tags": []
   },
   "source": [
    "Stacked LSTM ( 5-layer) + attention"
   ]
  },
  {
   "cell_type": "code",
   "execution_count": 25,
   "id": "311abc25",
   "metadata": {
    "execution": {
     "iopub.execute_input": "2025-08-29T23:46:36.973770Z",
     "iopub.status.busy": "2025-08-29T23:46:36.973167Z",
     "iopub.status.idle": "2025-08-30T01:06:08.966790Z",
     "shell.execute_reply": "2025-08-30T01:06:08.965867Z"
    },
    "id": "vwhEP44dzC7g",
    "papermill": {
     "duration": 4777.569968,
     "end_time": "2025-08-30T01:06:08.968105",
     "exception": false,
     "start_time": "2025-08-29T23:46:31.398137",
     "status": "completed"
    },
    "tags": []
   },
   "outputs": [
    {
     "name": "stderr",
     "output_type": "stream",
     "text": [
      "Epoch 1/50: 100%|██████████| 4576/4576 [01:32<00:00, 49.40it/s]\n"
     ]
    },
    {
     "name": "stdout",
     "output_type": "stream",
     "text": [
      "Epoch 1 - Loss: 0.772517\n"
     ]
    },
    {
     "name": "stderr",
     "output_type": "stream",
     "text": [
      "Epoch 2/50: 100%|██████████| 4576/4576 [01:33<00:00, 48.75it/s]\n"
     ]
    },
    {
     "name": "stdout",
     "output_type": "stream",
     "text": [
      "Epoch 2 - Loss: 0.755192\n"
     ]
    },
    {
     "name": "stderr",
     "output_type": "stream",
     "text": [
      "Epoch 3/50: 100%|██████████| 4576/4576 [01:34<00:00, 48.59it/s]\n"
     ]
    },
    {
     "name": "stdout",
     "output_type": "stream",
     "text": [
      "Epoch 3 - Loss: 0.748105\n"
     ]
    },
    {
     "name": "stderr",
     "output_type": "stream",
     "text": [
      "Epoch 4/50: 100%|██████████| 4576/4576 [01:34<00:00, 48.45it/s]\n"
     ]
    },
    {
     "name": "stdout",
     "output_type": "stream",
     "text": [
      "Epoch 4 - Loss: 0.741944\n"
     ]
    },
    {
     "name": "stderr",
     "output_type": "stream",
     "text": [
      "Epoch 5/50: 100%|██████████| 4576/4576 [01:34<00:00, 48.43it/s]\n"
     ]
    },
    {
     "name": "stdout",
     "output_type": "stream",
     "text": [
      "Epoch 5 - Loss: 0.735007\n"
     ]
    },
    {
     "name": "stderr",
     "output_type": "stream",
     "text": [
      "Epoch 6/50: 100%|██████████| 4576/4576 [01:34<00:00, 48.60it/s]\n"
     ]
    },
    {
     "name": "stdout",
     "output_type": "stream",
     "text": [
      "Epoch 6 - Loss: 0.732653\n"
     ]
    },
    {
     "name": "stderr",
     "output_type": "stream",
     "text": [
      "Epoch 7/50: 100%|██████████| 4576/4576 [01:35<00:00, 47.75it/s]\n"
     ]
    },
    {
     "name": "stdout",
     "output_type": "stream",
     "text": [
      "Epoch 7 - Loss: 0.727505\n"
     ]
    },
    {
     "name": "stderr",
     "output_type": "stream",
     "text": [
      "Epoch 8/50: 100%|██████████| 4576/4576 [01:35<00:00, 48.08it/s]\n"
     ]
    },
    {
     "name": "stdout",
     "output_type": "stream",
     "text": [
      "Epoch 8 - Loss: 0.724094\n"
     ]
    },
    {
     "name": "stderr",
     "output_type": "stream",
     "text": [
      "Epoch 9/50: 100%|██████████| 4576/4576 [01:33<00:00, 48.68it/s]\n"
     ]
    },
    {
     "name": "stdout",
     "output_type": "stream",
     "text": [
      "Epoch 9 - Loss: 0.718964\n"
     ]
    },
    {
     "name": "stderr",
     "output_type": "stream",
     "text": [
      "Epoch 10/50: 100%|██████████| 4576/4576 [01:34<00:00, 48.63it/s]\n"
     ]
    },
    {
     "name": "stdout",
     "output_type": "stream",
     "text": [
      "Epoch 10 - Loss: 0.715689\n"
     ]
    },
    {
     "name": "stderr",
     "output_type": "stream",
     "text": [
      "Epoch 11/50: 100%|██████████| 4576/4576 [01:34<00:00, 48.63it/s]\n"
     ]
    },
    {
     "name": "stdout",
     "output_type": "stream",
     "text": [
      "Epoch 11 - Loss: 0.713734\n"
     ]
    },
    {
     "name": "stderr",
     "output_type": "stream",
     "text": [
      "Epoch 12/50: 100%|██████████| 4576/4576 [01:34<00:00, 48.64it/s]\n"
     ]
    },
    {
     "name": "stdout",
     "output_type": "stream",
     "text": [
      "Epoch 12 - Loss: 0.711314\n"
     ]
    },
    {
     "name": "stderr",
     "output_type": "stream",
     "text": [
      "Epoch 13/50: 100%|██████████| 4576/4576 [01:33<00:00, 48.70it/s]\n"
     ]
    },
    {
     "name": "stdout",
     "output_type": "stream",
     "text": [
      "Epoch 13 - Loss: 0.710489\n"
     ]
    },
    {
     "name": "stderr",
     "output_type": "stream",
     "text": [
      "Epoch 14/50: 100%|██████████| 4576/4576 [01:34<00:00, 48.64it/s]\n"
     ]
    },
    {
     "name": "stdout",
     "output_type": "stream",
     "text": [
      "Epoch 14 - Loss: 0.707813\n"
     ]
    },
    {
     "name": "stderr",
     "output_type": "stream",
     "text": [
      "Epoch 15/50: 100%|██████████| 4576/4576 [01:34<00:00, 48.64it/s]\n"
     ]
    },
    {
     "name": "stdout",
     "output_type": "stream",
     "text": [
      "Epoch 15 - Loss: 0.703633\n"
     ]
    },
    {
     "name": "stderr",
     "output_type": "stream",
     "text": [
      "Epoch 16/50: 100%|██████████| 4576/4576 [01:34<00:00, 48.62it/s]\n"
     ]
    },
    {
     "name": "stdout",
     "output_type": "stream",
     "text": [
      "Epoch 16 - Loss: 0.703248\n"
     ]
    },
    {
     "name": "stderr",
     "output_type": "stream",
     "text": [
      "Epoch 17/50: 100%|██████████| 4576/4576 [01:34<00:00, 48.67it/s]\n"
     ]
    },
    {
     "name": "stdout",
     "output_type": "stream",
     "text": [
      "Epoch 17 - Loss: 0.701623\n"
     ]
    },
    {
     "name": "stderr",
     "output_type": "stream",
     "text": [
      "Epoch 18/50: 100%|██████████| 4576/4576 [01:34<00:00, 48.66it/s]\n"
     ]
    },
    {
     "name": "stdout",
     "output_type": "stream",
     "text": [
      "Epoch 18 - Loss: 0.698613\n"
     ]
    },
    {
     "name": "stderr",
     "output_type": "stream",
     "text": [
      "Epoch 19/50: 100%|██████████| 4576/4576 [01:34<00:00, 48.54it/s]\n"
     ]
    },
    {
     "name": "stdout",
     "output_type": "stream",
     "text": [
      "Epoch 19 - Loss: 0.695758\n"
     ]
    },
    {
     "name": "stderr",
     "output_type": "stream",
     "text": [
      "Epoch 20/50: 100%|██████████| 4576/4576 [01:34<00:00, 48.43it/s]\n"
     ]
    },
    {
     "name": "stdout",
     "output_type": "stream",
     "text": [
      "Epoch 20 - Loss: 0.693818\n"
     ]
    },
    {
     "name": "stderr",
     "output_type": "stream",
     "text": [
      "Epoch 21/50: 100%|██████████| 4576/4576 [01:34<00:00, 48.63it/s]\n"
     ]
    },
    {
     "name": "stdout",
     "output_type": "stream",
     "text": [
      "Epoch 21 - Loss: 0.694149\n"
     ]
    },
    {
     "name": "stderr",
     "output_type": "stream",
     "text": [
      "Epoch 22/50: 100%|██████████| 4576/4576 [01:34<00:00, 48.60it/s]\n"
     ]
    },
    {
     "name": "stdout",
     "output_type": "stream",
     "text": [
      "Epoch 22 - Loss: 0.690826\n"
     ]
    },
    {
     "name": "stderr",
     "output_type": "stream",
     "text": [
      "Epoch 23/50: 100%|██████████| 4576/4576 [01:34<00:00, 48.55it/s]\n"
     ]
    },
    {
     "name": "stdout",
     "output_type": "stream",
     "text": [
      "Epoch 23 - Loss: 0.687399\n"
     ]
    },
    {
     "name": "stderr",
     "output_type": "stream",
     "text": [
      "Epoch 24/50: 100%|██████████| 4576/4576 [01:34<00:00, 48.62it/s]\n"
     ]
    },
    {
     "name": "stdout",
     "output_type": "stream",
     "text": [
      "Epoch 24 - Loss: 0.686335\n"
     ]
    },
    {
     "name": "stderr",
     "output_type": "stream",
     "text": [
      "Epoch 25/50: 100%|██████████| 4576/4576 [01:34<00:00, 48.49it/s]\n"
     ]
    },
    {
     "name": "stdout",
     "output_type": "stream",
     "text": [
      "Epoch 25 - Loss: 0.685313\n"
     ]
    },
    {
     "name": "stderr",
     "output_type": "stream",
     "text": [
      "Epoch 26/50: 100%|██████████| 4576/4576 [01:34<00:00, 48.62it/s]\n"
     ]
    },
    {
     "name": "stdout",
     "output_type": "stream",
     "text": [
      "Epoch 26 - Loss: 0.683761\n"
     ]
    },
    {
     "name": "stderr",
     "output_type": "stream",
     "text": [
      "Epoch 27/50: 100%|██████████| 4576/4576 [01:36<00:00, 47.65it/s]\n"
     ]
    },
    {
     "name": "stdout",
     "output_type": "stream",
     "text": [
      "Epoch 27 - Loss: 0.684730\n"
     ]
    },
    {
     "name": "stderr",
     "output_type": "stream",
     "text": [
      "Epoch 28/50: 100%|██████████| 4576/4576 [01:36<00:00, 47.57it/s]\n"
     ]
    },
    {
     "name": "stdout",
     "output_type": "stream",
     "text": [
      "Epoch 28 - Loss: 0.680318\n"
     ]
    },
    {
     "name": "stderr",
     "output_type": "stream",
     "text": [
      "Epoch 29/50: 100%|██████████| 4576/4576 [01:34<00:00, 48.23it/s]\n"
     ]
    },
    {
     "name": "stdout",
     "output_type": "stream",
     "text": [
      "Epoch 29 - Loss: 0.679912\n"
     ]
    },
    {
     "name": "stderr",
     "output_type": "stream",
     "text": [
      "Epoch 30/50: 100%|██████████| 4576/4576 [01:34<00:00, 48.55it/s]\n"
     ]
    },
    {
     "name": "stdout",
     "output_type": "stream",
     "text": [
      "Epoch 30 - Loss: 0.676940\n"
     ]
    },
    {
     "name": "stderr",
     "output_type": "stream",
     "text": [
      "Epoch 31/50: 100%|██████████| 4576/4576 [01:34<00:00, 48.65it/s]\n"
     ]
    },
    {
     "name": "stdout",
     "output_type": "stream",
     "text": [
      "Epoch 31 - Loss: 0.675816\n"
     ]
    },
    {
     "name": "stderr",
     "output_type": "stream",
     "text": [
      "Epoch 32/50: 100%|██████████| 4576/4576 [01:34<00:00, 48.50it/s]\n"
     ]
    },
    {
     "name": "stdout",
     "output_type": "stream",
     "text": [
      "Epoch 32 - Loss: 0.674267\n"
     ]
    },
    {
     "name": "stderr",
     "output_type": "stream",
     "text": [
      "Epoch 33/50: 100%|██████████| 4576/4576 [01:34<00:00, 48.57it/s]\n"
     ]
    },
    {
     "name": "stdout",
     "output_type": "stream",
     "text": [
      "Epoch 33 - Loss: 0.675308\n"
     ]
    },
    {
     "name": "stderr",
     "output_type": "stream",
     "text": [
      "Epoch 34/50: 100%|██████████| 4576/4576 [01:34<00:00, 48.65it/s]\n"
     ]
    },
    {
     "name": "stdout",
     "output_type": "stream",
     "text": [
      "Epoch 34 - Loss: 0.673159\n"
     ]
    },
    {
     "name": "stderr",
     "output_type": "stream",
     "text": [
      "Epoch 35/50: 100%|██████████| 4576/4576 [01:36<00:00, 47.53it/s]\n"
     ]
    },
    {
     "name": "stdout",
     "output_type": "stream",
     "text": [
      "Epoch 35 - Loss: 0.672405\n"
     ]
    },
    {
     "name": "stderr",
     "output_type": "stream",
     "text": [
      "Epoch 36/50: 100%|██████████| 4576/4576 [01:35<00:00, 47.86it/s]\n"
     ]
    },
    {
     "name": "stdout",
     "output_type": "stream",
     "text": [
      "Epoch 36 - Loss: 0.669951\n"
     ]
    },
    {
     "name": "stderr",
     "output_type": "stream",
     "text": [
      "Epoch 37/50: 100%|██████████| 4576/4576 [01:34<00:00, 48.50it/s]\n"
     ]
    },
    {
     "name": "stdout",
     "output_type": "stream",
     "text": [
      "Epoch 37 - Loss: 0.667074\n"
     ]
    },
    {
     "name": "stderr",
     "output_type": "stream",
     "text": [
      "Epoch 38/50: 100%|██████████| 4576/4576 [01:35<00:00, 47.76it/s]\n"
     ]
    },
    {
     "name": "stdout",
     "output_type": "stream",
     "text": [
      "Epoch 38 - Loss: 0.667650\n"
     ]
    },
    {
     "name": "stderr",
     "output_type": "stream",
     "text": [
      "Epoch 39/50: 100%|██████████| 4576/4576 [01:35<00:00, 47.86it/s]\n"
     ]
    },
    {
     "name": "stdout",
     "output_type": "stream",
     "text": [
      "Epoch 39 - Loss: 0.664384\n"
     ]
    },
    {
     "name": "stderr",
     "output_type": "stream",
     "text": [
      "Epoch 40/50: 100%|██████████| 4576/4576 [01:35<00:00, 47.73it/s]\n"
     ]
    },
    {
     "name": "stdout",
     "output_type": "stream",
     "text": [
      "Epoch 40 - Loss: 0.663864\n"
     ]
    },
    {
     "name": "stderr",
     "output_type": "stream",
     "text": [
      "Epoch 41/50: 100%|██████████| 4576/4576 [01:35<00:00, 47.77it/s]\n"
     ]
    },
    {
     "name": "stdout",
     "output_type": "stream",
     "text": [
      "Epoch 41 - Loss: 0.661589\n"
     ]
    },
    {
     "name": "stderr",
     "output_type": "stream",
     "text": [
      "Epoch 42/50: 100%|██████████| 4576/4576 [01:36<00:00, 47.61it/s]\n"
     ]
    },
    {
     "name": "stdout",
     "output_type": "stream",
     "text": [
      "Epoch 42 - Loss: 0.661788\n"
     ]
    },
    {
     "name": "stderr",
     "output_type": "stream",
     "text": [
      "Epoch 43/50: 100%|██████████| 4576/4576 [01:38<00:00, 46.37it/s]\n"
     ]
    },
    {
     "name": "stdout",
     "output_type": "stream",
     "text": [
      "Epoch 43 - Loss: 0.661089\n"
     ]
    },
    {
     "name": "stderr",
     "output_type": "stream",
     "text": [
      "Epoch 44/50: 100%|██████████| 4576/4576 [01:35<00:00, 47.86it/s]\n"
     ]
    },
    {
     "name": "stdout",
     "output_type": "stream",
     "text": [
      "Epoch 44 - Loss: 0.658845\n"
     ]
    },
    {
     "name": "stderr",
     "output_type": "stream",
     "text": [
      "Epoch 45/50: 100%|██████████| 4576/4576 [01:35<00:00, 47.70it/s]\n"
     ]
    },
    {
     "name": "stdout",
     "output_type": "stream",
     "text": [
      "Epoch 45 - Loss: 0.657359\n"
     ]
    },
    {
     "name": "stderr",
     "output_type": "stream",
     "text": [
      "Epoch 46/50: 100%|██████████| 4576/4576 [01:35<00:00, 47.81it/s]\n"
     ]
    },
    {
     "name": "stdout",
     "output_type": "stream",
     "text": [
      "Epoch 46 - Loss: 0.657493\n"
     ]
    },
    {
     "name": "stderr",
     "output_type": "stream",
     "text": [
      "Epoch 47/50: 100%|██████████| 4576/4576 [01:35<00:00, 47.74it/s]\n"
     ]
    },
    {
     "name": "stdout",
     "output_type": "stream",
     "text": [
      "Epoch 47 - Loss: 0.655678\n"
     ]
    },
    {
     "name": "stderr",
     "output_type": "stream",
     "text": [
      "Epoch 48/50: 100%|██████████| 4576/4576 [01:35<00:00, 47.77it/s]\n"
     ]
    },
    {
     "name": "stdout",
     "output_type": "stream",
     "text": [
      "Epoch 48 - Loss: 0.655463\n"
     ]
    },
    {
     "name": "stderr",
     "output_type": "stream",
     "text": [
      "Epoch 49/50: 100%|██████████| 4576/4576 [01:35<00:00, 47.81it/s]\n"
     ]
    },
    {
     "name": "stdout",
     "output_type": "stream",
     "text": [
      "Epoch 49 - Loss: 0.656011\n"
     ]
    },
    {
     "name": "stderr",
     "output_type": "stream",
     "text": [
      "Epoch 50/50: 100%|██████████| 4576/4576 [01:39<00:00, 45.95it/s]\n"
     ]
    },
    {
     "name": "stdout",
     "output_type": "stream",
     "text": [
      "Epoch 50 - Loss: 0.656147\n",
      "\n",
      "📊 GRU + Attention Evaluation:\n",
      "  MSE:  2.208426\n",
      "  RMSE: 1.486077\n",
      "  MAE:  0.661851\n",
      "  R²:   0.134136\n"
     ]
    }
   ],
   "source": [
    "# [DISABLED] This model variant is commented by request. Keep AttentionGRU only.\n",
    "\n",
    "# === 5-Layer Stacked LSTM + Attention Model ===\n",
    "# import torch\n",
    "# import torch.nn as nn\n",
    "# \n",
    "# EPOCHS = 50  # Test run\n",
    "# \n",
    "# class DeepStackedLSTMWithAttention(nn.Module):\n",
    "#     def __init__(self, input_size, hidden_size, num_layers=5, dropout=0.2):\n",
    "#         super().__init__()\n",
    "#         self.lstm = nn.LSTM(\n",
    "#             input_size=input_size,\n",
    "#             hidden_size=hidden_size,\n",
    "#             num_layers=num_layers,\n",
    "#             batch_first=True,\n",
    "#             dropout=dropout  # dropout applied between LSTM layers\n",
    "#         )\n",
    "#         self.attn = nn.Linear(hidden_size, 1)\n",
    "#         self.fc = nn.Sequential(\n",
    "#             nn.Linear(hidden_size, 64),\n",
    "#             nn.ReLU(),\n",
    "#             nn.Linear(64, 1)\n",
    "#         )\n",
    "# \n",
    "#     def forward(self, x):\n",
    "#         lstm_out, _ = self.lstm(x)                            # [B, L, H]\n",
    "#         attn_weights = torch.softmax(self.attn(lstm_out), dim=1)  # [B, L, 1]\n",
    "#         context = torch.sum(attn_weights * lstm_out, dim=1)       # [B, H]\n",
    "#         return self.fc(context).squeeze(1)\n",
    "# \n",
    "# === Instantiate and Run ===\n",
    "# input_size = train_ds.X.shape[1]\n",
    "# model = DeepStackedLSTMWithAttention(input_size=input_size, hidden_size=HIDDEN_SIZE, num_layers=5).to(DEVICE)\n",
    "# optimizer = torch.optim.AdamW(model.parameters(), lr=LR, weight_decay=1e-4)\n",
    "# criterion = nn.MSELoss()\n",
    "# \n",
    "# train_model(model, train_loader, optimizer, criterion, DEVICE)\n",
    "# evaluate_model(model, test_loader, DEVICE)"
   ]
  },
  {
   "cell_type": "markdown",
   "id": "6ee7450c",
   "metadata": {
    "id": "-9iec--JzpyB",
    "papermill": {
     "duration": 7.597978,
     "end_time": "2025-08-30T01:06:24.358962",
     "exception": false,
     "start_time": "2025-08-30T01:06:16.760984",
     "status": "completed"
    },
    "tags": []
   },
   "source": [
    "  Bidir Stack LSTM + attention"
   ]
  },
  {
   "cell_type": "code",
   "execution_count": 26,
   "id": "5192f17b",
   "metadata": {
    "execution": {
     "iopub.execute_input": "2025-08-30T01:06:39.558177Z",
     "iopub.status.busy": "2025-08-30T01:06:39.557422Z",
     "iopub.status.idle": "2025-08-30T03:23:32.823439Z",
     "shell.execute_reply": "2025-08-30T03:23:32.822275Z"
    },
    "id": "c7SCZ5TOzux_",
    "papermill": {
     "duration": 8220.87363,
     "end_time": "2025-08-30T03:23:32.824933",
     "exception": false,
     "start_time": "2025-08-30T01:06:31.951303",
     "status": "completed"
    },
    "tags": []
   },
   "outputs": [
    {
     "name": "stderr",
     "output_type": "stream",
     "text": [
      "Epoch 1/50: 100%|██████████| 4576/4576 [02:41<00:00, 28.42it/s]\n"
     ]
    },
    {
     "name": "stdout",
     "output_type": "stream",
     "text": [
      "Epoch 1 - Loss: 0.765322\n"
     ]
    },
    {
     "name": "stderr",
     "output_type": "stream",
     "text": [
      "Epoch 2/50: 100%|██████████| 4576/4576 [02:45<00:00, 27.63it/s]\n"
     ]
    },
    {
     "name": "stdout",
     "output_type": "stream",
     "text": [
      "Epoch 2 - Loss: 0.744333\n"
     ]
    },
    {
     "name": "stderr",
     "output_type": "stream",
     "text": [
      "Epoch 3/50: 100%|██████████| 4576/4576 [02:45<00:00, 27.63it/s]\n"
     ]
    },
    {
     "name": "stdout",
     "output_type": "stream",
     "text": [
      "Epoch 3 - Loss: 0.736509\n"
     ]
    },
    {
     "name": "stderr",
     "output_type": "stream",
     "text": [
      "Epoch 4/50: 100%|██████████| 4576/4576 [02:45<00:00, 27.70it/s]\n"
     ]
    },
    {
     "name": "stdout",
     "output_type": "stream",
     "text": [
      "Epoch 4 - Loss: 0.729632\n"
     ]
    },
    {
     "name": "stderr",
     "output_type": "stream",
     "text": [
      "Epoch 5/50: 100%|██████████| 4576/4576 [02:43<00:00, 28.05it/s]\n"
     ]
    },
    {
     "name": "stdout",
     "output_type": "stream",
     "text": [
      "Epoch 5 - Loss: 0.727595\n"
     ]
    },
    {
     "name": "stderr",
     "output_type": "stream",
     "text": [
      "Epoch 6/50: 100%|██████████| 4576/4576 [02:43<00:00, 28.05it/s]\n"
     ]
    },
    {
     "name": "stdout",
     "output_type": "stream",
     "text": [
      "Epoch 6 - Loss: 0.722423\n"
     ]
    },
    {
     "name": "stderr",
     "output_type": "stream",
     "text": [
      "Epoch 7/50: 100%|██████████| 4576/4576 [02:43<00:00, 28.04it/s]\n"
     ]
    },
    {
     "name": "stdout",
     "output_type": "stream",
     "text": [
      "Epoch 7 - Loss: 0.718571\n"
     ]
    },
    {
     "name": "stderr",
     "output_type": "stream",
     "text": [
      "Epoch 8/50: 100%|██████████| 4576/4576 [02:42<00:00, 28.17it/s]\n"
     ]
    },
    {
     "name": "stdout",
     "output_type": "stream",
     "text": [
      "Epoch 8 - Loss: 0.713336\n"
     ]
    },
    {
     "name": "stderr",
     "output_type": "stream",
     "text": [
      "Epoch 9/50: 100%|██████████| 4576/4576 [02:43<00:00, 27.90it/s]\n"
     ]
    },
    {
     "name": "stdout",
     "output_type": "stream",
     "text": [
      "Epoch 9 - Loss: 0.709662\n"
     ]
    },
    {
     "name": "stderr",
     "output_type": "stream",
     "text": [
      "Epoch 10/50: 100%|██████████| 4576/4576 [02:42<00:00, 28.20it/s]\n"
     ]
    },
    {
     "name": "stdout",
     "output_type": "stream",
     "text": [
      "Epoch 10 - Loss: 0.704433\n"
     ]
    },
    {
     "name": "stderr",
     "output_type": "stream",
     "text": [
      "Epoch 11/50: 100%|██████████| 4576/4576 [02:41<00:00, 28.25it/s]\n"
     ]
    },
    {
     "name": "stdout",
     "output_type": "stream",
     "text": [
      "Epoch 11 - Loss: 0.699137\n"
     ]
    },
    {
     "name": "stderr",
     "output_type": "stream",
     "text": [
      "Epoch 12/50: 100%|██████████| 4576/4576 [02:42<00:00, 28.18it/s]\n"
     ]
    },
    {
     "name": "stdout",
     "output_type": "stream",
     "text": [
      "Epoch 12 - Loss: 0.696825\n"
     ]
    },
    {
     "name": "stderr",
     "output_type": "stream",
     "text": [
      "Epoch 13/50: 100%|██████████| 4576/4576 [02:42<00:00, 28.22it/s]\n"
     ]
    },
    {
     "name": "stdout",
     "output_type": "stream",
     "text": [
      "Epoch 13 - Loss: 0.695814\n"
     ]
    },
    {
     "name": "stderr",
     "output_type": "stream",
     "text": [
      "Epoch 14/50: 100%|██████████| 4576/4576 [02:41<00:00, 28.31it/s]\n"
     ]
    },
    {
     "name": "stdout",
     "output_type": "stream",
     "text": [
      "Epoch 14 - Loss: 0.689782\n"
     ]
    },
    {
     "name": "stderr",
     "output_type": "stream",
     "text": [
      "Epoch 15/50: 100%|██████████| 4576/4576 [02:42<00:00, 28.14it/s]\n"
     ]
    },
    {
     "name": "stdout",
     "output_type": "stream",
     "text": [
      "Epoch 15 - Loss: 0.685020\n"
     ]
    },
    {
     "name": "stderr",
     "output_type": "stream",
     "text": [
      "Epoch 16/50: 100%|██████████| 4576/4576 [02:44<00:00, 27.90it/s]\n"
     ]
    },
    {
     "name": "stdout",
     "output_type": "stream",
     "text": [
      "Epoch 16 - Loss: 0.681464\n"
     ]
    },
    {
     "name": "stderr",
     "output_type": "stream",
     "text": [
      "Epoch 17/50: 100%|██████████| 4576/4576 [02:44<00:00, 27.84it/s]\n"
     ]
    },
    {
     "name": "stdout",
     "output_type": "stream",
     "text": [
      "Epoch 17 - Loss: 0.681241\n"
     ]
    },
    {
     "name": "stderr",
     "output_type": "stream",
     "text": [
      "Epoch 18/50: 100%|██████████| 4576/4576 [02:44<00:00, 27.82it/s]\n"
     ]
    },
    {
     "name": "stdout",
     "output_type": "stream",
     "text": [
      "Epoch 18 - Loss: 0.675424\n"
     ]
    },
    {
     "name": "stderr",
     "output_type": "stream",
     "text": [
      "Epoch 19/50: 100%|██████████| 4576/4576 [02:44<00:00, 27.79it/s]\n"
     ]
    },
    {
     "name": "stdout",
     "output_type": "stream",
     "text": [
      "Epoch 19 - Loss: 0.674218\n"
     ]
    },
    {
     "name": "stderr",
     "output_type": "stream",
     "text": [
      "Epoch 20/50: 100%|██████████| 4576/4576 [02:44<00:00, 27.80it/s]\n"
     ]
    },
    {
     "name": "stdout",
     "output_type": "stream",
     "text": [
      "Epoch 20 - Loss: 0.673259\n"
     ]
    },
    {
     "name": "stderr",
     "output_type": "stream",
     "text": [
      "Epoch 21/50: 100%|██████████| 4576/4576 [02:44<00:00, 27.78it/s]\n"
     ]
    },
    {
     "name": "stdout",
     "output_type": "stream",
     "text": [
      "Epoch 21 - Loss: 0.668707\n"
     ]
    },
    {
     "name": "stderr",
     "output_type": "stream",
     "text": [
      "Epoch 22/50: 100%|██████████| 4576/4576 [02:44<00:00, 27.85it/s]\n"
     ]
    },
    {
     "name": "stdout",
     "output_type": "stream",
     "text": [
      "Epoch 22 - Loss: 0.667044\n"
     ]
    },
    {
     "name": "stderr",
     "output_type": "stream",
     "text": [
      "Epoch 23/50: 100%|██████████| 4576/4576 [02:44<00:00, 27.86it/s]\n"
     ]
    },
    {
     "name": "stdout",
     "output_type": "stream",
     "text": [
      "Epoch 23 - Loss: 0.662305\n"
     ]
    },
    {
     "name": "stderr",
     "output_type": "stream",
     "text": [
      "Epoch 24/50: 100%|██████████| 4576/4576 [02:43<00:00, 27.91it/s]\n"
     ]
    },
    {
     "name": "stdout",
     "output_type": "stream",
     "text": [
      "Epoch 24 - Loss: 0.658533\n"
     ]
    },
    {
     "name": "stderr",
     "output_type": "stream",
     "text": [
      "Epoch 25/50: 100%|██████████| 4576/4576 [02:42<00:00, 28.16it/s]\n"
     ]
    },
    {
     "name": "stdout",
     "output_type": "stream",
     "text": [
      "Epoch 25 - Loss: 0.656200\n"
     ]
    },
    {
     "name": "stderr",
     "output_type": "stream",
     "text": [
      "Epoch 26/50: 100%|██████████| 4576/4576 [02:40<00:00, 28.45it/s]\n"
     ]
    },
    {
     "name": "stdout",
     "output_type": "stream",
     "text": [
      "Epoch 26 - Loss: 0.656468\n"
     ]
    },
    {
     "name": "stderr",
     "output_type": "stream",
     "text": [
      "Epoch 27/50: 100%|██████████| 4576/4576 [02:42<00:00, 28.16it/s]\n"
     ]
    },
    {
     "name": "stdout",
     "output_type": "stream",
     "text": [
      "Epoch 27 - Loss: 0.652082\n"
     ]
    },
    {
     "name": "stderr",
     "output_type": "stream",
     "text": [
      "Epoch 28/50: 100%|██████████| 4576/4576 [02:42<00:00, 28.15it/s]\n"
     ]
    },
    {
     "name": "stdout",
     "output_type": "stream",
     "text": [
      "Epoch 28 - Loss: 0.649760\n"
     ]
    },
    {
     "name": "stderr",
     "output_type": "stream",
     "text": [
      "Epoch 29/50: 100%|██████████| 4576/4576 [02:43<00:00, 28.03it/s]\n"
     ]
    },
    {
     "name": "stdout",
     "output_type": "stream",
     "text": [
      "Epoch 29 - Loss: 0.647886\n"
     ]
    },
    {
     "name": "stderr",
     "output_type": "stream",
     "text": [
      "Epoch 30/50: 100%|██████████| 4576/4576 [02:44<00:00, 27.90it/s]\n"
     ]
    },
    {
     "name": "stdout",
     "output_type": "stream",
     "text": [
      "Epoch 30 - Loss: 0.644351\n"
     ]
    },
    {
     "name": "stderr",
     "output_type": "stream",
     "text": [
      "Epoch 31/50: 100%|██████████| 4576/4576 [02:44<00:00, 27.86it/s]\n"
     ]
    },
    {
     "name": "stdout",
     "output_type": "stream",
     "text": [
      "Epoch 31 - Loss: 0.644567\n"
     ]
    },
    {
     "name": "stderr",
     "output_type": "stream",
     "text": [
      "Epoch 32/50: 100%|██████████| 4576/4576 [02:40<00:00, 28.55it/s]\n"
     ]
    },
    {
     "name": "stdout",
     "output_type": "stream",
     "text": [
      "Epoch 32 - Loss: 0.640515\n"
     ]
    },
    {
     "name": "stderr",
     "output_type": "stream",
     "text": [
      "Epoch 33/50: 100%|██████████| 4576/4576 [02:41<00:00, 28.41it/s]\n"
     ]
    },
    {
     "name": "stdout",
     "output_type": "stream",
     "text": [
      "Epoch 33 - Loss: 0.641210\n"
     ]
    },
    {
     "name": "stderr",
     "output_type": "stream",
     "text": [
      "Epoch 34/50: 100%|██████████| 4576/4576 [02:39<00:00, 28.62it/s]\n"
     ]
    },
    {
     "name": "stdout",
     "output_type": "stream",
     "text": [
      "Epoch 34 - Loss: 0.639413\n"
     ]
    },
    {
     "name": "stderr",
     "output_type": "stream",
     "text": [
      "Epoch 35/50: 100%|██████████| 4576/4576 [02:41<00:00, 28.38it/s]\n"
     ]
    },
    {
     "name": "stdout",
     "output_type": "stream",
     "text": [
      "Epoch 35 - Loss: 0.637348\n"
     ]
    },
    {
     "name": "stderr",
     "output_type": "stream",
     "text": [
      "Epoch 36/50: 100%|██████████| 4576/4576 [02:42<00:00, 28.18it/s]\n"
     ]
    },
    {
     "name": "stdout",
     "output_type": "stream",
     "text": [
      "Epoch 36 - Loss: 0.632664\n"
     ]
    },
    {
     "name": "stderr",
     "output_type": "stream",
     "text": [
      "Epoch 37/50: 100%|██████████| 4576/4576 [02:44<00:00, 27.77it/s]\n"
     ]
    },
    {
     "name": "stdout",
     "output_type": "stream",
     "text": [
      "Epoch 37 - Loss: 0.635605\n"
     ]
    },
    {
     "name": "stderr",
     "output_type": "stream",
     "text": [
      "Epoch 38/50: 100%|██████████| 4576/4576 [02:44<00:00, 27.77it/s]\n"
     ]
    },
    {
     "name": "stdout",
     "output_type": "stream",
     "text": [
      "Epoch 38 - Loss: 0.630516\n"
     ]
    },
    {
     "name": "stderr",
     "output_type": "stream",
     "text": [
      "Epoch 39/50: 100%|██████████| 4576/4576 [02:44<00:00, 27.80it/s]\n"
     ]
    },
    {
     "name": "stdout",
     "output_type": "stream",
     "text": [
      "Epoch 39 - Loss: 0.629651\n"
     ]
    },
    {
     "name": "stderr",
     "output_type": "stream",
     "text": [
      "Epoch 40/50: 100%|██████████| 4576/4576 [02:44<00:00, 27.88it/s]\n"
     ]
    },
    {
     "name": "stdout",
     "output_type": "stream",
     "text": [
      "Epoch 40 - Loss: 0.627527\n"
     ]
    },
    {
     "name": "stderr",
     "output_type": "stream",
     "text": [
      "Epoch 41/50: 100%|██████████| 4576/4576 [02:44<00:00, 27.76it/s]\n"
     ]
    },
    {
     "name": "stdout",
     "output_type": "stream",
     "text": [
      "Epoch 41 - Loss: 0.626145\n"
     ]
    },
    {
     "name": "stderr",
     "output_type": "stream",
     "text": [
      "Epoch 42/50: 100%|██████████| 4576/4576 [02:44<00:00, 27.80it/s]\n"
     ]
    },
    {
     "name": "stdout",
     "output_type": "stream",
     "text": [
      "Epoch 42 - Loss: 0.623609\n"
     ]
    },
    {
     "name": "stderr",
     "output_type": "stream",
     "text": [
      "Epoch 43/50: 100%|██████████| 4576/4576 [02:44<00:00, 27.80it/s]\n"
     ]
    },
    {
     "name": "stdout",
     "output_type": "stream",
     "text": [
      "Epoch 43 - Loss: 0.623143\n"
     ]
    },
    {
     "name": "stderr",
     "output_type": "stream",
     "text": [
      "Epoch 44/50: 100%|██████████| 4576/4576 [02:44<00:00, 27.85it/s]\n"
     ]
    },
    {
     "name": "stdout",
     "output_type": "stream",
     "text": [
      "Epoch 44 - Loss: 0.619896\n"
     ]
    },
    {
     "name": "stderr",
     "output_type": "stream",
     "text": [
      "Epoch 45/50: 100%|██████████| 4576/4576 [02:43<00:00, 27.90it/s]\n"
     ]
    },
    {
     "name": "stdout",
     "output_type": "stream",
     "text": [
      "Epoch 45 - Loss: 0.621480\n"
     ]
    },
    {
     "name": "stderr",
     "output_type": "stream",
     "text": [
      "Epoch 46/50: 100%|██████████| 4576/4576 [02:44<00:00, 27.87it/s]\n"
     ]
    },
    {
     "name": "stdout",
     "output_type": "stream",
     "text": [
      "Epoch 46 - Loss: 0.618800\n"
     ]
    },
    {
     "name": "stderr",
     "output_type": "stream",
     "text": [
      "Epoch 47/50: 100%|██████████| 4576/4576 [02:45<00:00, 27.70it/s]\n"
     ]
    },
    {
     "name": "stdout",
     "output_type": "stream",
     "text": [
      "Epoch 47 - Loss: 0.618779\n"
     ]
    },
    {
     "name": "stderr",
     "output_type": "stream",
     "text": [
      "Epoch 48/50: 100%|██████████| 4576/4576 [02:45<00:00, 27.63it/s]\n"
     ]
    },
    {
     "name": "stdout",
     "output_type": "stream",
     "text": [
      "Epoch 48 - Loss: 0.618978\n"
     ]
    },
    {
     "name": "stderr",
     "output_type": "stream",
     "text": [
      "Epoch 49/50: 100%|██████████| 4576/4576 [02:45<00:00, 27.60it/s]\n"
     ]
    },
    {
     "name": "stdout",
     "output_type": "stream",
     "text": [
      "Epoch 49 - Loss: 0.617138\n"
     ]
    },
    {
     "name": "stderr",
     "output_type": "stream",
     "text": [
      "Epoch 50/50: 100%|██████████| 4576/4576 [02:45<00:00, 27.60it/s]\n"
     ]
    },
    {
     "name": "stdout",
     "output_type": "stream",
     "text": [
      "Epoch 50 - Loss: 0.615234\n",
      "\n",
      "📊 GRU + Attention Evaluation:\n",
      "  MSE:  2.447349\n",
      "  RMSE: 1.564401\n",
      "  MAE:  0.697168\n",
      "  R²:   0.040460\n"
     ]
    }
   ],
   "source": [
    "# [DISABLED] This model variant is commented by request. Keep AttentionGRU only.\n",
    "\n",
    "# === 5-Layer Bidirectional LSTM + Attention Model ===\n",
    "# import torch\n",
    "# import torch.nn as nn\n",
    "# \n",
    "# EPOCHS = 50  # Sanity check\n",
    "# \n",
    "# class DeepBiLSTMWithAttention(nn.Module):\n",
    "#     def __init__(self, input_size, hidden_size, num_layers=5, dropout=0.2):\n",
    "#         super().__init__()\n",
    "#         self.bilstm = nn.LSTM(\n",
    "#             input_size=input_size,\n",
    "#             hidden_size=hidden_size,\n",
    "#             num_layers=num_layers,\n",
    "#             batch_first=True,\n",
    "#             dropout=dropout,\n",
    "#             bidirectional=True\n",
    "#         )\n",
    "#         self.attn = nn.Linear(hidden_size * 2, 1)\n",
    "#         self.fc = nn.Sequential(\n",
    "#             nn.Linear(hidden_size * 2, 64),\n",
    "#             nn.ReLU(),\n",
    "#             nn.Linear(64, 1)\n",
    "#         )\n",
    "# \n",
    "#     def forward(self, x):\n",
    "#         lstm_out, _ = self.bilstm(x)                             # [B, L, 2H]\n",
    "#         attn_weights = torch.softmax(self.attn(lstm_out), dim=1)  # [B, L, 1]\n",
    "#         context = torch.sum(attn_weights * lstm_out, dim=1)       # [B, 2H]\n",
    "#         return self.fc(context).squeeze(1)\n",
    "# \n",
    "# === Instantiate and Run ===\n",
    "# input_size = train_ds.X.shape[1]\n",
    "# model = DeepBiLSTMWithAttention(input_size=input_size, hidden_size=HIDDEN_SIZE, num_layers=5).to(DEVICE)\n",
    "# optimizer = torch.optim.AdamW(model.parameters(), lr=LR, weight_decay=1e-4)\n",
    "# criterion = nn.MSELoss()\n",
    "# \n",
    "# train_model(model, train_loader, optimizer, criterion, DEVICE)\n",
    "# evaluate_model(model, test_loader, DEVICE)"
   ]
  },
  {
   "cell_type": "markdown",
   "id": "7126c45a",
   "metadata": {},
   "source": [
    "## Using AttentionGRU later\n",
    "\n",
    "This section shows how to load the saved AttentionGRU model pickle and run predictions for future steps.  \n",
    "The code expects the pickle created during training at `/kaggle/working/AttentionGRU.pkl`."
   ]
  },
  {
   "cell_type": "code",
   "execution_count": null,
   "id": "421c0ade",
   "metadata": {},
   "outputs": [],
   "source": [
    "# Load AttentionGRU from pickle and run inference\n",
    "import pickle, torch, numpy as np\n",
    "\n",
    "device = torch.device(\"cuda\" if torch.cuda.is_available() else \"cpu\")\n",
    "\n",
    "# Load the pickled model created during training\n",
    "with open('/kaggle/working/AttentionGRU.pkl', 'rb') as f:\n",
    "    attn_gru = pickle.load(f)\n",
    "\n",
    "# Move to device and set eval\n",
    "attn_gru.to(device).eval()\n",
    "\n",
    "def predict_from_X(model, X, lookback, device):\n",
    "    \"\"\"\n",
    "    Build sliding windows of length lookback from a feature matrix X with shape [T, F]\n",
    "    Returns tuple of (idxs, preds) where idxs are the time indices of the right edge of each window\n",
    "    \"\"\"\n",
    "    X = np.asarray(X, dtype=np.float32)\n",
    "    if X.ndim != 2:\n",
    "        raise ValueError(\"X must be a 2D array of shape [T, F]\")\n",
    "    T = X.shape[0]\n",
    "    if T < lookback:\n",
    "        return np.array([]), np.array([])\n",
    "    windows = []\n",
    "    idxs = []\n",
    "    for t in range(lookback - 1, T):\n",
    "        windows.append(X[t - lookback + 1: t + 1])\n",
    "        idxs.append(t)\n",
    "    batch = torch.tensor(np.stack(windows), dtype=torch.float32).to(device)\n",
    "    with torch.no_grad():\n",
    "        preds = model(batch).detach().cpu().numpy()\n",
    "    return np.array(idxs), preds\n",
    "\n",
    "# Example usage with existing test dataset from the notebook\n",
    "# Replace test_ds.X and L with your new data and chosen lookback if needed\n",
    "idxs, preds = predict_from_X(attn_gru, test_ds.X, L, device)\n",
    "print(\"Predictions shape:\", preds.shape)\n",
    "print(\"First five predictions:\", preds[:5])"
   ]
  }
 ],
 "metadata": {
  "colab": {
   "authorship_tag": "ABX9TyNpDO1mMV0DCQB6pqjlTR1N",
   "provenance": []
  },
  "kaggle": {
   "accelerator": "gpu",
   "dataSources": [
    {
     "databundleVersionId": 13345061,
     "sourceId": 108376,
     "sourceType": "competition"
    }
   ],
   "dockerImageVersionId": 31089,
   "isGpuEnabled": true,
   "isInternetEnabled": false,
   "language": "python",
   "sourceType": "notebook"
  },
  "kernelspec": {
   "display_name": "Python 3",
   "language": "python",
   "name": "python3"
  },
  "language_info": {
   "codemirror_mode": {
    "name": "ipython",
    "version": 3
   },
   "file_extension": ".py",
   "mimetype": "text/x-python",
   "name": "python",
   "nbconvert_exporter": "python",
   "pygments_lexer": "ipython3",
   "version": "3.11.13"
  },
  "papermill": {
   "default_parameters": {},
   "duration": 26851.805632,
   "end_time": "2025-08-30T03:23:46.830073",
   "environment_variables": {},
   "exception": null,
   "input_path": "__notebook__.ipynb",
   "output_path": "__notebook__.ipynb",
   "parameters": {},
   "start_time": "2025-08-29T19:56:15.024441",
   "version": "2.6.0"
  }
 },
 "nbformat": 4,
 "nbformat_minor": 5
}
